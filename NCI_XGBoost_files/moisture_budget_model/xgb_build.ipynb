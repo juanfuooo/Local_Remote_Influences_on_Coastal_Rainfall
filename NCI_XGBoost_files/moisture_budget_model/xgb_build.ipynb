{
 "cells": [
  {
   "cell_type": "code",
   "execution_count": 2,
   "metadata": {
    "execution": {
     "iopub.execute_input": "2025-04-24T04:48:30.023593Z",
     "iopub.status.busy": "2025-04-24T04:48:30.022973Z",
     "iopub.status.idle": "2025-04-24T04:48:46.714828Z",
     "shell.execute_reply": "2025-04-24T04:48:46.713545Z",
     "shell.execute_reply.started": "2025-04-24T04:48:30.023549Z"
    },
    "tags": []
   },
   "outputs": [],
   "source": [
    "import xarray as xr\n",
    "import pandas as pd\n",
    "import numpy as np\n",
    "import cartopy.crs as ccrs\n",
    "import matplotlib.colors as colors\n",
    "import matplotlib as mpl\n",
    "import pandas as pd\n",
    "import matplotlib\n",
    "import matplotlib.pyplot as plt\n",
    "import cartopy.feature as cfeature \n",
    "import cartopy.mpl.ticker as cticker \n",
    "import imageio\n",
    "import os\n",
    "import xgboost as xgb\n",
    "import seaborn as sns\n",
    "from sklearn.model_selection import KFold\n",
    "from sklearn.metrics import r2_score\n",
    "from sklearn.metrics import mean_squared_error\n",
    "from sklearn.model_selection import GridSearchCV\n",
    "from skopt import BayesSearchCV\n",
    "from skopt.space import Real, Integer\n",
    "from xgboost import plot_importance, plot_tree\n",
    "\n"
   ]
  },
  {
   "cell_type": "code",
   "execution_count": 3,
   "metadata": {
    "execution": {
     "iopub.execute_input": "2025-04-24T04:48:46.717681Z",
     "iopub.status.busy": "2025-04-24T04:48:46.716592Z",
     "iopub.status.idle": "2025-04-24T04:48:46.723234Z",
     "shell.execute_reply": "2025-04-24T04:48:46.722290Z",
     "shell.execute_reply.started": "2025-04-24T04:48:46.717636Z"
    }
   },
   "outputs": [],
   "source": [
    "import warnings\n",
    "warnings.filterwarnings(action='once')\n",
    "warnings.filterwarnings(\"ignore\",category=DeprecationWarning)\n",
    "warnings.simplefilter(action='ignore', category=FutureWarning)"
   ]
  },
  {
   "cell_type": "code",
   "execution_count": 4,
   "metadata": {
    "execution": {
     "iopub.execute_input": "2025-04-24T04:48:46.724847Z",
     "iopub.status.busy": "2025-04-24T04:48:46.724334Z",
     "iopub.status.idle": "2025-04-24T04:49:00.016772Z",
     "shell.execute_reply": "2025-04-24T04:49:00.015888Z",
     "shell.execute_reply.started": "2025-04-24T04:48:46.724809Z"
    },
    "tags": []
   },
   "outputs": [
    {
     "name": "stdout",
     "output_type": "stream",
     "text": [
      "CUDA available: True\n",
      "Number of CUDA devices: 1\n",
      "Device 0: Tesla V100-SXM2-32GB\n"
     ]
    }
   ],
   "source": [
    "import torch\n",
    "print(f\"CUDA available: {torch.cuda.is_available()}\")\n",
    "print(f\"Number of CUDA devices: {torch.cuda.device_count()}\")\n",
    "\n",
    "if torch.cuda.is_available():\n",
    "    for i in range(torch.cuda.device_count()):\n",
    "        print(f\"Device {i}: {torch.cuda.get_device_name(i)}\")"
   ]
  },
  {
   "cell_type": "code",
   "execution_count": 5,
   "metadata": {
    "execution": {
     "iopub.execute_input": "2025-04-24T04:49:00.019072Z",
     "iopub.status.busy": "2025-04-24T04:49:00.018617Z",
     "iopub.status.idle": "2025-04-24T04:49:02.716923Z",
     "shell.execute_reply": "2025-04-24T04:49:02.715646Z",
     "shell.execute_reply.started": "2025-04-24T04:49:00.019040Z"
    }
   },
   "outputs": [
    {
     "name": "stderr",
     "output_type": "stream",
     "text": [
      "/g/data/jk72/yz7014/stf/testvenv/lib/python3.12/site-packages/distributed/node.py:173: ResourceWarning: unclosed <socket.socket fd=76, family=2, type=1, proto=6, laddr=('0.0.0.0', 0)>\n",
      "  if retries_left < 1:\n",
      "ResourceWarning: Enable tracemalloc to get the object allocation traceback\n",
      "/g/data/jk72/yz7014/stf/testvenv/lib/python3.12/site-packages/distributed/node.py:187: UserWarning: Port 8787 is already in use.\n",
      "Perhaps you already have a cluster running?\n",
      "Hosting the HTTP server on port 37743 instead\n",
      "  warnings.warn(\n"
     ]
    }
   ],
   "source": [
    "from dask.distributed import Client\n",
    "client = Client(processes=False)"
   ]
  },
  {
   "cell_type": "code",
   "execution_count": 6,
   "metadata": {
    "execution": {
     "iopub.execute_input": "2025-04-24T04:49:02.718599Z",
     "iopub.status.busy": "2025-04-24T04:49:02.718069Z",
     "iopub.status.idle": "2025-04-24T04:49:02.772489Z",
     "shell.execute_reply": "2025-04-24T04:49:02.771595Z",
     "shell.execute_reply.started": "2025-04-24T04:49:02.718559Z"
    }
   },
   "outputs": [
    {
     "data": {
      "text/html": [
       "<div>\n",
       "    <div style=\"width: 24px; height: 24px; background-color: #e1e1e1; border: 3px solid #9D9D9D; border-radius: 5px; position: absolute;\"> </div>\n",
       "    <div style=\"margin-left: 48px;\">\n",
       "        <h3 style=\"margin-bottom: 0px;\">Client</h3>\n",
       "        <p style=\"color: #9D9D9D; margin-bottom: 0px;\">Client-7184a215-20c7-11f0-9ce5-00000375fe80</p>\n",
       "        <table style=\"width: 100%; text-align: left;\">\n",
       "\n",
       "        <tr>\n",
       "        \n",
       "            <td style=\"text-align: left;\"><strong>Connection method:</strong> Cluster object</td>\n",
       "            <td style=\"text-align: left;\"><strong>Cluster type:</strong> distributed.LocalCluster</td>\n",
       "        \n",
       "        </tr>\n",
       "\n",
       "        \n",
       "            <tr>\n",
       "                <td style=\"text-align: left;\">\n",
       "                    <strong>Dashboard: </strong> <a href=\"/proxy/37743/status\" target=\"_blank\">/proxy/37743/status</a>\n",
       "                </td>\n",
       "                <td style=\"text-align: left;\"></td>\n",
       "            </tr>\n",
       "        \n",
       "\n",
       "        </table>\n",
       "\n",
       "        \n",
       "\n",
       "        \n",
       "            <details>\n",
       "            <summary style=\"margin-bottom: 20px;\"><h3 style=\"display: inline;\">Cluster Info</h3></summary>\n",
       "            <div class=\"jp-RenderedHTMLCommon jp-RenderedHTML jp-mod-trusted jp-OutputArea-output\">\n",
       "    <div style=\"width: 24px; height: 24px; background-color: #e1e1e1; border: 3px solid #9D9D9D; border-radius: 5px; position: absolute;\">\n",
       "    </div>\n",
       "    <div style=\"margin-left: 48px;\">\n",
       "        <h3 style=\"margin-bottom: 0px; margin-top: 0px;\">LocalCluster</h3>\n",
       "        <p style=\"color: #9D9D9D; margin-bottom: 0px;\">b231c4fd</p>\n",
       "        <table style=\"width: 100%; text-align: left;\">\n",
       "            <tr>\n",
       "                <td style=\"text-align: left;\">\n",
       "                    <strong>Dashboard:</strong> <a href=\"/proxy/37743/status\" target=\"_blank\">/proxy/37743/status</a>\n",
       "                </td>\n",
       "                <td style=\"text-align: left;\">\n",
       "                    <strong>Workers:</strong> 1\n",
       "                </td>\n",
       "            </tr>\n",
       "            <tr>\n",
       "                <td style=\"text-align: left;\">\n",
       "                    <strong>Total threads:</strong> 12\n",
       "                </td>\n",
       "                <td style=\"text-align: left;\">\n",
       "                    <strong>Total memory:</strong> 95.00 GiB\n",
       "                </td>\n",
       "            </tr>\n",
       "            \n",
       "            <tr>\n",
       "    <td style=\"text-align: left;\"><strong>Status:</strong> running</td>\n",
       "    <td style=\"text-align: left;\"><strong>Using processes:</strong> False</td>\n",
       "</tr>\n",
       "\n",
       "            \n",
       "        </table>\n",
       "\n",
       "        <details>\n",
       "            <summary style=\"margin-bottom: 20px;\">\n",
       "                <h3 style=\"display: inline;\">Scheduler Info</h3>\n",
       "            </summary>\n",
       "\n",
       "            <div style=\"\">\n",
       "    <div>\n",
       "        <div style=\"width: 24px; height: 24px; background-color: #FFF7E5; border: 3px solid #FF6132; border-radius: 5px; position: absolute;\"> </div>\n",
       "        <div style=\"margin-left: 48px;\">\n",
       "            <h3 style=\"margin-bottom: 0px;\">Scheduler</h3>\n",
       "            <p style=\"color: #9D9D9D; margin-bottom: 0px;\">Scheduler-9f90cce4-e2ec-4541-afc5-b482278c38f2</p>\n",
       "            <table style=\"width: 100%; text-align: left;\">\n",
       "                <tr>\n",
       "                    <td style=\"text-align: left;\">\n",
       "                        <strong>Comm:</strong> inproc://10.6.28.15/1694949/1\n",
       "                    </td>\n",
       "                    <td style=\"text-align: left;\">\n",
       "                        <strong>Workers:</strong> 1\n",
       "                    </td>\n",
       "                </tr>\n",
       "                <tr>\n",
       "                    <td style=\"text-align: left;\">\n",
       "                        <strong>Dashboard:</strong> <a href=\"/proxy/37743/status\" target=\"_blank\">/proxy/37743/status</a>\n",
       "                    </td>\n",
       "                    <td style=\"text-align: left;\">\n",
       "                        <strong>Total threads:</strong> 12\n",
       "                    </td>\n",
       "                </tr>\n",
       "                <tr>\n",
       "                    <td style=\"text-align: left;\">\n",
       "                        <strong>Started:</strong> Just now\n",
       "                    </td>\n",
       "                    <td style=\"text-align: left;\">\n",
       "                        <strong>Total memory:</strong> 95.00 GiB\n",
       "                    </td>\n",
       "                </tr>\n",
       "            </table>\n",
       "        </div>\n",
       "    </div>\n",
       "\n",
       "    <details style=\"margin-left: 48px;\">\n",
       "        <summary style=\"margin-bottom: 20px;\">\n",
       "            <h3 style=\"display: inline;\">Workers</h3>\n",
       "        </summary>\n",
       "\n",
       "        \n",
       "        <div style=\"margin-bottom: 20px;\">\n",
       "            <div style=\"width: 24px; height: 24px; background-color: #DBF5FF; border: 3px solid #4CC9FF; border-radius: 5px; position: absolute;\"> </div>\n",
       "            <div style=\"margin-left: 48px;\">\n",
       "            <details>\n",
       "                <summary>\n",
       "                    <h4 style=\"margin-bottom: 0px; display: inline;\">Worker: 0</h4>\n",
       "                </summary>\n",
       "                <table style=\"width: 100%; text-align: left;\">\n",
       "                    <tr>\n",
       "                        <td style=\"text-align: left;\">\n",
       "                            <strong>Comm: </strong> inproc://10.6.28.15/1694949/4\n",
       "                        </td>\n",
       "                        <td style=\"text-align: left;\">\n",
       "                            <strong>Total threads: </strong> 12\n",
       "                        </td>\n",
       "                    </tr>\n",
       "                    <tr>\n",
       "                        <td style=\"text-align: left;\">\n",
       "                            <strong>Dashboard: </strong> <a href=\"/proxy/36069/status\" target=\"_blank\">/proxy/36069/status</a>\n",
       "                        </td>\n",
       "                        <td style=\"text-align: left;\">\n",
       "                            <strong>Memory: </strong> 95.00 GiB\n",
       "                        </td>\n",
       "                    </tr>\n",
       "                    <tr>\n",
       "                        <td style=\"text-align: left;\">\n",
       "                            <strong>Nanny: </strong> None\n",
       "                        </td>\n",
       "                        <td style=\"text-align: left;\"></td>\n",
       "                    </tr>\n",
       "                    <tr>\n",
       "                        <td colspan=\"2\" style=\"text-align: left;\">\n",
       "                            <strong>Local directory: </strong> /jobfs/139823624.gadi-pbs/dask-scratch-space/worker-dowvhjdh\n",
       "                        </td>\n",
       "                    </tr>\n",
       "\n",
       "                    \n",
       "\n",
       "                    \n",
       "\n",
       "                </table>\n",
       "            </details>\n",
       "            </div>\n",
       "        </div>\n",
       "        \n",
       "\n",
       "    </details>\n",
       "</div>\n",
       "\n",
       "        </details>\n",
       "    </div>\n",
       "</div>\n",
       "            </details>\n",
       "        \n",
       "\n",
       "    </div>\n",
       "</div>"
      ],
      "text/plain": [
       "<Client: 'inproc://10.6.28.15/1694949/1' processes=1 threads=12, memory=95.00 GiB>"
      ]
     },
     "execution_count": 6,
     "metadata": {},
     "output_type": "execute_result"
    }
   ],
   "source": [
    "client"
   ]
  },
  {
   "cell_type": "code",
   "execution_count": 7,
   "metadata": {
    "execution": {
     "iopub.execute_input": "2025-04-24T04:49:02.773178Z",
     "iopub.status.busy": "2025-04-24T04:49:02.773027Z",
     "iopub.status.idle": "2025-04-24T04:49:02.776174Z",
     "shell.execute_reply": "2025-04-24T04:49:02.775607Z",
     "shell.execute_reply.started": "2025-04-24T04:49:02.773164Z"
    }
   },
   "outputs": [],
   "source": [
    "matplotlib.rcParams['font.family'] = 'Times New Roman'\n"
   ]
  },
  {
   "cell_type": "code",
   "execution_count": 8,
   "metadata": {
    "execution": {
     "iopub.execute_input": "2025-04-24T04:49:02.777188Z",
     "iopub.status.busy": "2025-04-24T04:49:02.777042Z",
     "iopub.status.idle": "2025-04-24T04:49:02.783054Z",
     "shell.execute_reply": "2025-04-24T04:49:02.782410Z",
     "shell.execute_reply.started": "2025-04-24T04:49:02.777176Z"
    }
   },
   "outputs": [
    {
     "name": "stdout",
     "output_type": "stream",
     "text": [
      "2.1.3\n"
     ]
    }
   ],
   "source": [
    "print(xgb.__version__)"
   ]
  },
  {
   "cell_type": "markdown",
   "metadata": {},
   "source": [
    "# Read the data (ERA5: Total Precipiatation & Viqtend & Vimfc $ Evaporation)\n",
    "- uniform the time dim"
   ]
  },
  {
   "cell_type": "code",
   "execution_count": 9,
   "metadata": {
    "execution": {
     "iopub.execute_input": "2025-04-24T04:49:02.783827Z",
     "iopub.status.busy": "2025-04-24T04:49:02.783649Z",
     "iopub.status.idle": "2025-04-24T04:49:02.792949Z",
     "shell.execute_reply": "2025-04-24T04:49:02.791935Z",
     "shell.execute_reply.started": "2025-04-24T04:49:02.783811Z"
    }
   },
   "outputs": [],
   "source": [
    "mer_loc = \"/g/data/v46/yz7014/mer_tropical_box.nc\"\n",
    "vimfc_loc = \"/g/data/v46/yz7014/vimfc_tropical_box.nc\"\n",
    "viqtend_loc = \"/g/data/v46/yz7014/viqtend_tropical_box.nc\"\n",
    "T_P_loc = \"/g/data/v46/yz7014/T_P_tropical_box.nc\""
   ]
  },
  {
   "cell_type": "code",
   "execution_count": 10,
   "metadata": {
    "execution": {
     "iopub.execute_input": "2025-04-24T04:49:02.793858Z",
     "iopub.status.busy": "2025-04-24T04:49:02.793591Z",
     "iopub.status.idle": "2025-04-24T04:49:08.070995Z",
     "shell.execute_reply": "2025-04-24T04:49:08.070081Z",
     "shell.execute_reply.started": "2025-04-24T04:49:02.793836Z"
    }
   },
   "outputs": [
    {
     "name": "stderr",
     "output_type": "stream",
     "text": [
      "<frozen importlib._bootstrap>:488: RuntimeWarning: numpy.ndarray size changed, may indicate binary incompatibility. Expected 16 from C header, got 96 from PyObject\n"
     ]
    }
   ],
   "source": [
    "mer = xr.open_dataarray(mer_loc)\n",
    "vimfc = xr.open_dataarray(vimfc_loc)\n",
    "viqtend = xr.open_dataarray(viqtend_loc)\n",
    "T_P = xr.open_dataarray(T_P_loc)"
   ]
  },
  {
   "cell_type": "code",
   "execution_count": 11,
   "metadata": {
    "execution": {
     "iopub.execute_input": "2025-04-24T04:49:08.074235Z",
     "iopub.status.busy": "2025-04-24T04:49:08.073598Z",
     "iopub.status.idle": "2025-04-24T04:49:08.788495Z",
     "shell.execute_reply": "2025-04-24T04:49:08.787534Z",
     "shell.execute_reply.started": "2025-04-24T04:49:08.074206Z"
    }
   },
   "outputs": [
    {
     "data": {
      "text/html": [
       "<div><svg style=\"position: absolute; width: 0; height: 0; overflow: hidden\">\n",
       "<defs>\n",
       "<symbol id=\"icon-database\" viewBox=\"0 0 32 32\">\n",
       "<path d=\"M16 0c-8.837 0-16 2.239-16 5v4c0 2.761 7.163 5 16 5s16-2.239 16-5v-4c0-2.761-7.163-5-16-5z\"></path>\n",
       "<path d=\"M16 17c-8.837 0-16-2.239-16-5v6c0 2.761 7.163 5 16 5s16-2.239 16-5v-6c0 2.761-7.163 5-16 5z\"></path>\n",
       "<path d=\"M16 26c-8.837 0-16-2.239-16-5v6c0 2.761 7.163 5 16 5s16-2.239 16-5v-6c0 2.761-7.163 5-16 5z\"></path>\n",
       "</symbol>\n",
       "<symbol id=\"icon-file-text2\" viewBox=\"0 0 32 32\">\n",
       "<path d=\"M28.681 7.159c-0.694-0.947-1.662-2.053-2.724-3.116s-2.169-2.030-3.116-2.724c-1.612-1.182-2.393-1.319-2.841-1.319h-15.5c-1.378 0-2.5 1.121-2.5 2.5v27c0 1.378 1.122 2.5 2.5 2.5h23c1.378 0 2.5-1.122 2.5-2.5v-19.5c0-0.448-0.137-1.23-1.319-2.841zM24.543 5.457c0.959 0.959 1.712 1.825 2.268 2.543h-4.811v-4.811c0.718 0.556 1.584 1.309 2.543 2.268zM28 29.5c0 0.271-0.229 0.5-0.5 0.5h-23c-0.271 0-0.5-0.229-0.5-0.5v-27c0-0.271 0.229-0.5 0.5-0.5 0 0 15.499-0 15.5 0v7c0 0.552 0.448 1 1 1h7v19.5z\"></path>\n",
       "<path d=\"M23 26h-14c-0.552 0-1-0.448-1-1s0.448-1 1-1h14c0.552 0 1 0.448 1 1s-0.448 1-1 1z\"></path>\n",
       "<path d=\"M23 22h-14c-0.552 0-1-0.448-1-1s0.448-1 1-1h14c0.552 0 1 0.448 1 1s-0.448 1-1 1z\"></path>\n",
       "<path d=\"M23 18h-14c-0.552 0-1-0.448-1-1s0.448-1 1-1h14c0.552 0 1 0.448 1 1s-0.448 1-1 1z\"></path>\n",
       "</symbol>\n",
       "</defs>\n",
       "</svg>\n",
       "<style>/* CSS stylesheet for displaying xarray objects in jupyterlab.\n",
       " *\n",
       " */\n",
       "\n",
       ":root {\n",
       "  --xr-font-color0: var(--jp-content-font-color0, rgba(0, 0, 0, 1));\n",
       "  --xr-font-color2: var(--jp-content-font-color2, rgba(0, 0, 0, 0.54));\n",
       "  --xr-font-color3: var(--jp-content-font-color3, rgba(0, 0, 0, 0.38));\n",
       "  --xr-border-color: var(--jp-border-color2, #e0e0e0);\n",
       "  --xr-disabled-color: var(--jp-layout-color3, #bdbdbd);\n",
       "  --xr-background-color: var(--jp-layout-color0, white);\n",
       "  --xr-background-color-row-even: var(--jp-layout-color1, white);\n",
       "  --xr-background-color-row-odd: var(--jp-layout-color2, #eeeeee);\n",
       "}\n",
       "\n",
       "html[theme=\"dark\"],\n",
       "html[data-theme=\"dark\"],\n",
       "body[data-theme=\"dark\"],\n",
       "body.vscode-dark {\n",
       "  --xr-font-color0: rgba(255, 255, 255, 1);\n",
       "  --xr-font-color2: rgba(255, 255, 255, 0.54);\n",
       "  --xr-font-color3: rgba(255, 255, 255, 0.38);\n",
       "  --xr-border-color: #1f1f1f;\n",
       "  --xr-disabled-color: #515151;\n",
       "  --xr-background-color: #111111;\n",
       "  --xr-background-color-row-even: #111111;\n",
       "  --xr-background-color-row-odd: #313131;\n",
       "}\n",
       "\n",
       ".xr-wrap {\n",
       "  display: block !important;\n",
       "  min-width: 300px;\n",
       "  max-width: 700px;\n",
       "}\n",
       "\n",
       ".xr-text-repr-fallback {\n",
       "  /* fallback to plain text repr when CSS is not injected (untrusted notebook) */\n",
       "  display: none;\n",
       "}\n",
       "\n",
       ".xr-header {\n",
       "  padding-top: 6px;\n",
       "  padding-bottom: 6px;\n",
       "  margin-bottom: 4px;\n",
       "  border-bottom: solid 1px var(--xr-border-color);\n",
       "}\n",
       "\n",
       ".xr-header > div,\n",
       ".xr-header > ul {\n",
       "  display: inline;\n",
       "  margin-top: 0;\n",
       "  margin-bottom: 0;\n",
       "}\n",
       "\n",
       ".xr-obj-type,\n",
       ".xr-array-name {\n",
       "  margin-left: 2px;\n",
       "  margin-right: 10px;\n",
       "}\n",
       "\n",
       ".xr-obj-type {\n",
       "  color: var(--xr-font-color2);\n",
       "}\n",
       "\n",
       ".xr-sections {\n",
       "  padding-left: 0 !important;\n",
       "  display: grid;\n",
       "  grid-template-columns: 150px auto auto 1fr 0 20px 0 20px;\n",
       "}\n",
       "\n",
       ".xr-section-item {\n",
       "  display: contents;\n",
       "}\n",
       "\n",
       ".xr-section-item input {\n",
       "  display: inline-block;\n",
       "  opacity: 0;\n",
       "  height: 0;\n",
       "}\n",
       "\n",
       ".xr-section-item input + label {\n",
       "  color: var(--xr-disabled-color);\n",
       "}\n",
       "\n",
       ".xr-section-item input:enabled + label {\n",
       "  cursor: pointer;\n",
       "  color: var(--xr-font-color2);\n",
       "}\n",
       "\n",
       ".xr-section-item input:focus + label {\n",
       "  border: 2px solid var(--xr-font-color0);\n",
       "}\n",
       "\n",
       ".xr-section-item input:enabled + label:hover {\n",
       "  color: var(--xr-font-color0);\n",
       "}\n",
       "\n",
       ".xr-section-summary {\n",
       "  grid-column: 1;\n",
       "  color: var(--xr-font-color2);\n",
       "  font-weight: 500;\n",
       "}\n",
       "\n",
       ".xr-section-summary > span {\n",
       "  display: inline-block;\n",
       "  padding-left: 0.5em;\n",
       "}\n",
       "\n",
       ".xr-section-summary-in:disabled + label {\n",
       "  color: var(--xr-font-color2);\n",
       "}\n",
       "\n",
       ".xr-section-summary-in + label:before {\n",
       "  display: inline-block;\n",
       "  content: \"►\";\n",
       "  font-size: 11px;\n",
       "  width: 15px;\n",
       "  text-align: center;\n",
       "}\n",
       "\n",
       ".xr-section-summary-in:disabled + label:before {\n",
       "  color: var(--xr-disabled-color);\n",
       "}\n",
       "\n",
       ".xr-section-summary-in:checked + label:before {\n",
       "  content: \"▼\";\n",
       "}\n",
       "\n",
       ".xr-section-summary-in:checked + label > span {\n",
       "  display: none;\n",
       "}\n",
       "\n",
       ".xr-section-summary,\n",
       ".xr-section-inline-details {\n",
       "  padding-top: 4px;\n",
       "  padding-bottom: 4px;\n",
       "}\n",
       "\n",
       ".xr-section-inline-details {\n",
       "  grid-column: 2 / -1;\n",
       "}\n",
       "\n",
       ".xr-section-details {\n",
       "  display: none;\n",
       "  grid-column: 1 / -1;\n",
       "  margin-bottom: 5px;\n",
       "}\n",
       "\n",
       ".xr-section-summary-in:checked ~ .xr-section-details {\n",
       "  display: contents;\n",
       "}\n",
       "\n",
       ".xr-array-wrap {\n",
       "  grid-column: 1 / -1;\n",
       "  display: grid;\n",
       "  grid-template-columns: 20px auto;\n",
       "}\n",
       "\n",
       ".xr-array-wrap > label {\n",
       "  grid-column: 1;\n",
       "  vertical-align: top;\n",
       "}\n",
       "\n",
       ".xr-preview {\n",
       "  color: var(--xr-font-color3);\n",
       "}\n",
       "\n",
       ".xr-array-preview,\n",
       ".xr-array-data {\n",
       "  padding: 0 5px !important;\n",
       "  grid-column: 2;\n",
       "}\n",
       "\n",
       ".xr-array-data,\n",
       ".xr-array-in:checked ~ .xr-array-preview {\n",
       "  display: none;\n",
       "}\n",
       "\n",
       ".xr-array-in:checked ~ .xr-array-data,\n",
       ".xr-array-preview {\n",
       "  display: inline-block;\n",
       "}\n",
       "\n",
       ".xr-dim-list {\n",
       "  display: inline-block !important;\n",
       "  list-style: none;\n",
       "  padding: 0 !important;\n",
       "  margin: 0;\n",
       "}\n",
       "\n",
       ".xr-dim-list li {\n",
       "  display: inline-block;\n",
       "  padding: 0;\n",
       "  margin: 0;\n",
       "}\n",
       "\n",
       ".xr-dim-list:before {\n",
       "  content: \"(\";\n",
       "}\n",
       "\n",
       ".xr-dim-list:after {\n",
       "  content: \")\";\n",
       "}\n",
       "\n",
       ".xr-dim-list li:not(:last-child):after {\n",
       "  content: \",\";\n",
       "  padding-right: 5px;\n",
       "}\n",
       "\n",
       ".xr-has-index {\n",
       "  font-weight: bold;\n",
       "}\n",
       "\n",
       ".xr-var-list,\n",
       ".xr-var-item {\n",
       "  display: contents;\n",
       "}\n",
       "\n",
       ".xr-var-item > div,\n",
       ".xr-var-item label,\n",
       ".xr-var-item > .xr-var-name span {\n",
       "  background-color: var(--xr-background-color-row-even);\n",
       "  margin-bottom: 0;\n",
       "}\n",
       "\n",
       ".xr-var-item > .xr-var-name:hover span {\n",
       "  padding-right: 5px;\n",
       "}\n",
       "\n",
       ".xr-var-list > li:nth-child(odd) > div,\n",
       ".xr-var-list > li:nth-child(odd) > label,\n",
       ".xr-var-list > li:nth-child(odd) > .xr-var-name span {\n",
       "  background-color: var(--xr-background-color-row-odd);\n",
       "}\n",
       "\n",
       ".xr-var-name {\n",
       "  grid-column: 1;\n",
       "}\n",
       "\n",
       ".xr-var-dims {\n",
       "  grid-column: 2;\n",
       "}\n",
       "\n",
       ".xr-var-dtype {\n",
       "  grid-column: 3;\n",
       "  text-align: right;\n",
       "  color: var(--xr-font-color2);\n",
       "}\n",
       "\n",
       ".xr-var-preview {\n",
       "  grid-column: 4;\n",
       "}\n",
       "\n",
       ".xr-index-preview {\n",
       "  grid-column: 2 / 5;\n",
       "  color: var(--xr-font-color2);\n",
       "}\n",
       "\n",
       ".xr-var-name,\n",
       ".xr-var-dims,\n",
       ".xr-var-dtype,\n",
       ".xr-preview,\n",
       ".xr-attrs dt {\n",
       "  white-space: nowrap;\n",
       "  overflow: hidden;\n",
       "  text-overflow: ellipsis;\n",
       "  padding-right: 10px;\n",
       "}\n",
       "\n",
       ".xr-var-name:hover,\n",
       ".xr-var-dims:hover,\n",
       ".xr-var-dtype:hover,\n",
       ".xr-attrs dt:hover {\n",
       "  overflow: visible;\n",
       "  width: auto;\n",
       "  z-index: 1;\n",
       "}\n",
       "\n",
       ".xr-var-attrs,\n",
       ".xr-var-data,\n",
       ".xr-index-data {\n",
       "  display: none;\n",
       "  background-color: var(--xr-background-color) !important;\n",
       "  padding-bottom: 5px !important;\n",
       "}\n",
       "\n",
       ".xr-var-attrs-in:checked ~ .xr-var-attrs,\n",
       ".xr-var-data-in:checked ~ .xr-var-data,\n",
       ".xr-index-data-in:checked ~ .xr-index-data {\n",
       "  display: block;\n",
       "}\n",
       "\n",
       ".xr-var-data > table {\n",
       "  float: right;\n",
       "}\n",
       "\n",
       ".xr-var-name span,\n",
       ".xr-var-data,\n",
       ".xr-index-name div,\n",
       ".xr-index-data,\n",
       ".xr-attrs {\n",
       "  padding-left: 25px !important;\n",
       "}\n",
       "\n",
       ".xr-attrs,\n",
       ".xr-var-attrs,\n",
       ".xr-var-data,\n",
       ".xr-index-data {\n",
       "  grid-column: 1 / -1;\n",
       "}\n",
       "\n",
       "dl.xr-attrs {\n",
       "  padding: 0;\n",
       "  margin: 0;\n",
       "  display: grid;\n",
       "  grid-template-columns: 125px auto;\n",
       "}\n",
       "\n",
       ".xr-attrs dt,\n",
       ".xr-attrs dd {\n",
       "  padding: 0;\n",
       "  margin: 0;\n",
       "  float: left;\n",
       "  padding-right: 10px;\n",
       "  width: auto;\n",
       "}\n",
       "\n",
       ".xr-attrs dt {\n",
       "  font-weight: normal;\n",
       "  grid-column: 1;\n",
       "}\n",
       "\n",
       ".xr-attrs dt:hover span {\n",
       "  display: inline-block;\n",
       "  background: var(--xr-background-color);\n",
       "  padding-right: 10px;\n",
       "}\n",
       "\n",
       ".xr-attrs dd {\n",
       "  grid-column: 2;\n",
       "  white-space: pre-wrap;\n",
       "  word-break: break-all;\n",
       "}\n",
       "\n",
       ".xr-icon-database,\n",
       ".xr-icon-file-text2,\n",
       ".xr-no-icon {\n",
       "  display: inline-block;\n",
       "  vertical-align: middle;\n",
       "  width: 1em;\n",
       "  height: 1.5em !important;\n",
       "  stroke-width: 0;\n",
       "  stroke: currentColor;\n",
       "  fill: currentColor;\n",
       "}\n",
       "</style><pre class='xr-text-repr-fallback'>&lt;xarray.Dataset&gt; Size: 497MB\n",
       "Dimensions:    (time: 9131, longitude: 81, latitude: 21)\n",
       "Coordinates:\n",
       "  * time       (time) datetime64[ns] 73kB 1998-01-01 1998-01-02 ... 2022-12-31\n",
       "  * longitude  (longitude) float32 324B 150.0 150.2 150.5 ... 169.5 169.8 170.0\n",
       "  * latitude   (latitude) float32 84B -20.0 -19.75 -19.5 ... -15.5 -15.25 -15.0\n",
       "Data variables:\n",
       "    mer        (time, latitude, longitude) float64 124MB ...\n",
       "    vimfc      (time, latitude, longitude) float64 124MB ...\n",
       "    vidq_dt    (time, latitude, longitude) float64 124MB ...\n",
       "    tp         (time, latitude, longitude) float64 124MB ...\n",
       "Attributes:\n",
       "    long_name:  Mean evaporation rate\n",
       "    units:      kg m**-2 s**-1</pre><div class='xr-wrap' style='display:none'><div class='xr-header'><div class='xr-obj-type'>xarray.Dataset</div></div><ul class='xr-sections'><li class='xr-section-item'><input id='section-5ebd1064-d958-44ae-a79f-573bbc8f4751' class='xr-section-summary-in' type='checkbox' disabled ><label for='section-5ebd1064-d958-44ae-a79f-573bbc8f4751' class='xr-section-summary'  title='Expand/collapse section'>Dimensions:</label><div class='xr-section-inline-details'><ul class='xr-dim-list'><li><span class='xr-has-index'>time</span>: 9131</li><li><span class='xr-has-index'>longitude</span>: 81</li><li><span class='xr-has-index'>latitude</span>: 21</li></ul></div><div class='xr-section-details'></div></li><li class='xr-section-item'><input id='section-44641a1e-d4c3-4334-a304-f948f5e9bf92' class='xr-section-summary-in' type='checkbox'  checked><label for='section-44641a1e-d4c3-4334-a304-f948f5e9bf92' class='xr-section-summary' >Coordinates: <span>(3)</span></label><div class='xr-section-inline-details'></div><div class='xr-section-details'><ul class='xr-var-list'><li class='xr-var-item'><div class='xr-var-name'><span class='xr-has-index'>time</span></div><div class='xr-var-dims'>(time)</div><div class='xr-var-dtype'>datetime64[ns]</div><div class='xr-var-preview xr-preview'>1998-01-01 ... 2022-12-31</div><input id='attrs-d71e7141-8bd9-4125-b390-ab5beb1cb6ff' class='xr-var-attrs-in' type='checkbox' ><label for='attrs-d71e7141-8bd9-4125-b390-ab5beb1cb6ff' title='Show/Hide attributes'><svg class='icon xr-icon-file-text2'><use xlink:href='#icon-file-text2'></use></svg></label><input id='data-6e6b9846-a2fe-4870-9155-43c0988ee002' class='xr-var-data-in' type='checkbox'><label for='data-6e6b9846-a2fe-4870-9155-43c0988ee002' title='Show/Hide data repr'><svg class='icon xr-icon-database'><use xlink:href='#icon-database'></use></svg></label><div class='xr-var-attrs'><dl class='xr-attrs'><dt><span>standard_name :</span></dt><dd>time</dd><dt><span>long_name :</span></dt><dd>time</dd><dt><span>axis :</span></dt><dd>T</dd></dl></div><div class='xr-var-data'><pre>array([&#x27;1998-01-01T00:00:00.000000000&#x27;, &#x27;1998-01-02T00:00:00.000000000&#x27;,\n",
       "       &#x27;1998-01-03T00:00:00.000000000&#x27;, ..., &#x27;2022-12-29T00:00:00.000000000&#x27;,\n",
       "       &#x27;2022-12-30T00:00:00.000000000&#x27;, &#x27;2022-12-31T00:00:00.000000000&#x27;],\n",
       "      shape=(9131,), dtype=&#x27;datetime64[ns]&#x27;)</pre></div></li><li class='xr-var-item'><div class='xr-var-name'><span class='xr-has-index'>longitude</span></div><div class='xr-var-dims'>(longitude)</div><div class='xr-var-dtype'>float32</div><div class='xr-var-preview xr-preview'>150.0 150.2 150.5 ... 169.8 170.0</div><input id='attrs-d83418b1-7138-4120-b952-c812bab06211' class='xr-var-attrs-in' type='checkbox' ><label for='attrs-d83418b1-7138-4120-b952-c812bab06211' title='Show/Hide attributes'><svg class='icon xr-icon-file-text2'><use xlink:href='#icon-file-text2'></use></svg></label><input id='data-0768a093-5c23-4938-89b3-1d60cc385b6c' class='xr-var-data-in' type='checkbox'><label for='data-0768a093-5c23-4938-89b3-1d60cc385b6c' title='Show/Hide data repr'><svg class='icon xr-icon-database'><use xlink:href='#icon-database'></use></svg></label><div class='xr-var-attrs'><dl class='xr-attrs'><dt><span>standard_name :</span></dt><dd>longitude</dd><dt><span>long_name :</span></dt><dd>longitude</dd><dt><span>units :</span></dt><dd>degrees_east</dd><dt><span>axis :</span></dt><dd>X</dd></dl></div><div class='xr-var-data'><pre>array([150.  , 150.25, 150.5 , 150.75, 151.  , 151.25, 151.5 , 151.75, 152.  ,\n",
       "       152.25, 152.5 , 152.75, 153.  , 153.25, 153.5 , 153.75, 154.  , 154.25,\n",
       "       154.5 , 154.75, 155.  , 155.25, 155.5 , 155.75, 156.  , 156.25, 156.5 ,\n",
       "       156.75, 157.  , 157.25, 157.5 , 157.75, 158.  , 158.25, 158.5 , 158.75,\n",
       "       159.  , 159.25, 159.5 , 159.75, 160.  , 160.25, 160.5 , 160.75, 161.  ,\n",
       "       161.25, 161.5 , 161.75, 162.  , 162.25, 162.5 , 162.75, 163.  , 163.25,\n",
       "       163.5 , 163.75, 164.  , 164.25, 164.5 , 164.75, 165.  , 165.25, 165.5 ,\n",
       "       165.75, 166.  , 166.25, 166.5 , 166.75, 167.  , 167.25, 167.5 , 167.75,\n",
       "       168.  , 168.25, 168.5 , 168.75, 169.  , 169.25, 169.5 , 169.75, 170.  ],\n",
       "      dtype=float32)</pre></div></li><li class='xr-var-item'><div class='xr-var-name'><span class='xr-has-index'>latitude</span></div><div class='xr-var-dims'>(latitude)</div><div class='xr-var-dtype'>float32</div><div class='xr-var-preview xr-preview'>-20.0 -19.75 -19.5 ... -15.25 -15.0</div><input id='attrs-91972e60-0318-4a8c-9d6c-d57e55bae9bd' class='xr-var-attrs-in' type='checkbox' ><label for='attrs-91972e60-0318-4a8c-9d6c-d57e55bae9bd' title='Show/Hide attributes'><svg class='icon xr-icon-file-text2'><use xlink:href='#icon-file-text2'></use></svg></label><input id='data-cba713c8-1f31-43c7-8f1e-b310144e917d' class='xr-var-data-in' type='checkbox'><label for='data-cba713c8-1f31-43c7-8f1e-b310144e917d' title='Show/Hide data repr'><svg class='icon xr-icon-database'><use xlink:href='#icon-database'></use></svg></label><div class='xr-var-attrs'><dl class='xr-attrs'><dt><span>standard_name :</span></dt><dd>latitude</dd><dt><span>long_name :</span></dt><dd>latitude</dd><dt><span>units :</span></dt><dd>degrees_north</dd><dt><span>axis :</span></dt><dd>Y</dd></dl></div><div class='xr-var-data'><pre>array([-20.  , -19.75, -19.5 , -19.25, -19.  , -18.75, -18.5 , -18.25, -18.  ,\n",
       "       -17.75, -17.5 , -17.25, -17.  , -16.75, -16.5 , -16.25, -16.  , -15.75,\n",
       "       -15.5 , -15.25, -15.  ], dtype=float32)</pre></div></li></ul></div></li><li class='xr-section-item'><input id='section-3d57df39-bf02-45e5-9eb5-62d1366459f2' class='xr-section-summary-in' type='checkbox'  checked><label for='section-3d57df39-bf02-45e5-9eb5-62d1366459f2' class='xr-section-summary' >Data variables: <span>(4)</span></label><div class='xr-section-inline-details'></div><div class='xr-section-details'><ul class='xr-var-list'><li class='xr-var-item'><div class='xr-var-name'><span>mer</span></div><div class='xr-var-dims'>(time, latitude, longitude)</div><div class='xr-var-dtype'>float64</div><div class='xr-var-preview xr-preview'>...</div><input id='attrs-a24f7af2-28c0-44be-9779-d04144810071' class='xr-var-attrs-in' type='checkbox' ><label for='attrs-a24f7af2-28c0-44be-9779-d04144810071' title='Show/Hide attributes'><svg class='icon xr-icon-file-text2'><use xlink:href='#icon-file-text2'></use></svg></label><input id='data-5eb96057-a913-4826-8573-3c4f1733e8be' class='xr-var-data-in' type='checkbox'><label for='data-5eb96057-a913-4826-8573-3c4f1733e8be' title='Show/Hide data repr'><svg class='icon xr-icon-database'><use xlink:href='#icon-database'></use></svg></label><div class='xr-var-attrs'><dl class='xr-attrs'><dt><span>long_name :</span></dt><dd>Mean evaporation rate</dd><dt><span>units :</span></dt><dd>kg m**-2 s**-1</dd></dl></div><div class='xr-var-data'><pre>[15531831 values with dtype=float64]</pre></div></li><li class='xr-var-item'><div class='xr-var-name'><span>vimfc</span></div><div class='xr-var-dims'>(time, latitude, longitude)</div><div class='xr-var-dtype'>float64</div><div class='xr-var-preview xr-preview'>...</div><input id='attrs-5bbf6f46-dd92-4506-8f1f-599d9f65287d' class='xr-var-attrs-in' type='checkbox' disabled><label for='attrs-5bbf6f46-dd92-4506-8f1f-599d9f65287d' title='Show/Hide attributes'><svg class='icon xr-icon-file-text2'><use xlink:href='#icon-file-text2'></use></svg></label><input id='data-084e5f71-a60a-4513-9b20-567ffb6cafc8' class='xr-var-data-in' type='checkbox'><label for='data-084e5f71-a60a-4513-9b20-567ffb6cafc8' title='Show/Hide data repr'><svg class='icon xr-icon-database'><use xlink:href='#icon-database'></use></svg></label><div class='xr-var-attrs'><dl class='xr-attrs'></dl></div><div class='xr-var-data'><pre>[15531831 values with dtype=float64]</pre></div></li><li class='xr-var-item'><div class='xr-var-name'><span>vidq_dt</span></div><div class='xr-var-dims'>(time, latitude, longitude)</div><div class='xr-var-dtype'>float64</div><div class='xr-var-preview xr-preview'>...</div><input id='attrs-ffd298d8-463e-4906-8e84-6b3e923fb1ae' class='xr-var-attrs-in' type='checkbox' disabled><label for='attrs-ffd298d8-463e-4906-8e84-6b3e923fb1ae' title='Show/Hide attributes'><svg class='icon xr-icon-file-text2'><use xlink:href='#icon-file-text2'></use></svg></label><input id='data-b726a0a7-00eb-492e-a852-b29dccf25fef' class='xr-var-data-in' type='checkbox'><label for='data-b726a0a7-00eb-492e-a852-b29dccf25fef' title='Show/Hide data repr'><svg class='icon xr-icon-database'><use xlink:href='#icon-database'></use></svg></label><div class='xr-var-attrs'><dl class='xr-attrs'></dl></div><div class='xr-var-data'><pre>[15531831 values with dtype=float64]</pre></div></li><li class='xr-var-item'><div class='xr-var-name'><span>tp</span></div><div class='xr-var-dims'>(time, latitude, longitude)</div><div class='xr-var-dtype'>float64</div><div class='xr-var-preview xr-preview'>...</div><input id='attrs-4e10a312-8166-4c14-b4b5-438e19d8d944' class='xr-var-attrs-in' type='checkbox' ><label for='attrs-4e10a312-8166-4c14-b4b5-438e19d8d944' title='Show/Hide attributes'><svg class='icon xr-icon-file-text2'><use xlink:href='#icon-file-text2'></use></svg></label><input id='data-48407c86-4c38-474b-a2e9-21396cfc2d06' class='xr-var-data-in' type='checkbox'><label for='data-48407c86-4c38-474b-a2e9-21396cfc2d06' title='Show/Hide data repr'><svg class='icon xr-icon-database'><use xlink:href='#icon-database'></use></svg></label><div class='xr-var-attrs'><dl class='xr-attrs'><dt><span>long_name :</span></dt><dd>Total precipitation</dd><dt><span>units :</span></dt><dd>m</dd></dl></div><div class='xr-var-data'><pre>[15531831 values with dtype=float64]</pre></div></li></ul></div></li><li class='xr-section-item'><input id='section-d515065f-fc8c-4e4b-a10c-3d5000ab327e' class='xr-section-summary-in' type='checkbox'  ><label for='section-d515065f-fc8c-4e4b-a10c-3d5000ab327e' class='xr-section-summary' >Indexes: <span>(3)</span></label><div class='xr-section-inline-details'></div><div class='xr-section-details'><ul class='xr-var-list'><li class='xr-var-item'><div class='xr-index-name'><div>time</div></div><div class='xr-index-preview'>PandasIndex</div><input type='checkbox' disabled/><label></label><input id='index-4115dc32-8528-4cc4-8a1a-a6d6e46ba7df' class='xr-index-data-in' type='checkbox'/><label for='index-4115dc32-8528-4cc4-8a1a-a6d6e46ba7df' title='Show/Hide index repr'><svg class='icon xr-icon-database'><use xlink:href='#icon-database'></use></svg></label><div class='xr-index-data'><pre>PandasIndex(DatetimeIndex([&#x27;1998-01-01&#x27;, &#x27;1998-01-02&#x27;, &#x27;1998-01-03&#x27;, &#x27;1998-01-04&#x27;,\n",
       "               &#x27;1998-01-05&#x27;, &#x27;1998-01-06&#x27;, &#x27;1998-01-07&#x27;, &#x27;1998-01-08&#x27;,\n",
       "               &#x27;1998-01-09&#x27;, &#x27;1998-01-10&#x27;,\n",
       "               ...\n",
       "               &#x27;2022-12-22&#x27;, &#x27;2022-12-23&#x27;, &#x27;2022-12-24&#x27;, &#x27;2022-12-25&#x27;,\n",
       "               &#x27;2022-12-26&#x27;, &#x27;2022-12-27&#x27;, &#x27;2022-12-28&#x27;, &#x27;2022-12-29&#x27;,\n",
       "               &#x27;2022-12-30&#x27;, &#x27;2022-12-31&#x27;],\n",
       "              dtype=&#x27;datetime64[ns]&#x27;, name=&#x27;time&#x27;, length=9131, freq=None))</pre></div></li><li class='xr-var-item'><div class='xr-index-name'><div>longitude</div></div><div class='xr-index-preview'>PandasIndex</div><input type='checkbox' disabled/><label></label><input id='index-fd91bf2d-8749-4576-8a85-3162c364a9fc' class='xr-index-data-in' type='checkbox'/><label for='index-fd91bf2d-8749-4576-8a85-3162c364a9fc' title='Show/Hide index repr'><svg class='icon xr-icon-database'><use xlink:href='#icon-database'></use></svg></label><div class='xr-index-data'><pre>PandasIndex(Index([ 150.0, 150.25,  150.5, 150.75,  151.0, 151.25,  151.5, 151.75,  152.0,\n",
       "       152.25,  152.5, 152.75,  153.0, 153.25,  153.5, 153.75,  154.0, 154.25,\n",
       "        154.5, 154.75,  155.0, 155.25,  155.5, 155.75,  156.0, 156.25,  156.5,\n",
       "       156.75,  157.0, 157.25,  157.5, 157.75,  158.0, 158.25,  158.5, 158.75,\n",
       "        159.0, 159.25,  159.5, 159.75,  160.0, 160.25,  160.5, 160.75,  161.0,\n",
       "       161.25,  161.5, 161.75,  162.0, 162.25,  162.5, 162.75,  163.0, 163.25,\n",
       "        163.5, 163.75,  164.0, 164.25,  164.5, 164.75,  165.0, 165.25,  165.5,\n",
       "       165.75,  166.0, 166.25,  166.5, 166.75,  167.0, 167.25,  167.5, 167.75,\n",
       "        168.0, 168.25,  168.5, 168.75,  169.0, 169.25,  169.5, 169.75,  170.0],\n",
       "      dtype=&#x27;float32&#x27;, name=&#x27;longitude&#x27;))</pre></div></li><li class='xr-var-item'><div class='xr-index-name'><div>latitude</div></div><div class='xr-index-preview'>PandasIndex</div><input type='checkbox' disabled/><label></label><input id='index-74d84122-9405-4257-993a-0a91b2cb8a97' class='xr-index-data-in' type='checkbox'/><label for='index-74d84122-9405-4257-993a-0a91b2cb8a97' title='Show/Hide index repr'><svg class='icon xr-icon-database'><use xlink:href='#icon-database'></use></svg></label><div class='xr-index-data'><pre>PandasIndex(Index([ -20.0, -19.75,  -19.5, -19.25,  -19.0, -18.75,  -18.5, -18.25,  -18.0,\n",
       "       -17.75,  -17.5, -17.25,  -17.0, -16.75,  -16.5, -16.25,  -16.0, -15.75,\n",
       "        -15.5, -15.25,  -15.0],\n",
       "      dtype=&#x27;float32&#x27;, name=&#x27;latitude&#x27;))</pre></div></li></ul></div></li><li class='xr-section-item'><input id='section-7aaeb191-de71-4b33-b4fa-8d417a72fb8c' class='xr-section-summary-in' type='checkbox'  checked><label for='section-7aaeb191-de71-4b33-b4fa-8d417a72fb8c' class='xr-section-summary' >Attributes: <span>(2)</span></label><div class='xr-section-inline-details'></div><div class='xr-section-details'><dl class='xr-attrs'><dt><span>long_name :</span></dt><dd>Mean evaporation rate</dd><dt><span>units :</span></dt><dd>kg m**-2 s**-1</dd></dl></div></li></ul></div></div>"
      ],
      "text/plain": [
       "<xarray.Dataset> Size: 497MB\n",
       "Dimensions:    (time: 9131, longitude: 81, latitude: 21)\n",
       "Coordinates:\n",
       "  * time       (time) datetime64[ns] 73kB 1998-01-01 1998-01-02 ... 2022-12-31\n",
       "  * longitude  (longitude) float32 324B 150.0 150.2 150.5 ... 169.5 169.8 170.0\n",
       "  * latitude   (latitude) float32 84B -20.0 -19.75 -19.5 ... -15.5 -15.25 -15.0\n",
       "Data variables:\n",
       "    mer        (time, latitude, longitude) float64 124MB ...\n",
       "    vimfc      (time, latitude, longitude) float64 124MB ...\n",
       "    vidq_dt    (time, latitude, longitude) float64 124MB ...\n",
       "    tp         (time, latitude, longitude) float64 124MB ...\n",
       "Attributes:\n",
       "    long_name:  Mean evaporation rate\n",
       "    units:      kg m**-2 s**-1"
      ]
     },
     "execution_count": 11,
     "metadata": {},
     "output_type": "execute_result"
    }
   ],
   "source": [
    "xgb_merge = xr.merge([mer, vimfc, viqtend, T_P])\n",
    "xgb_merge"
   ]
  },
  {
   "cell_type": "code",
   "execution_count": null,
   "metadata": {},
   "outputs": [],
   "source": []
  },
  {
   "cell_type": "markdown",
   "metadata": {},
   "source": [
    "# Flatten the input data into a pd dataframe\n",
    "\n",
    "- also add the day and year into the pd dataframe"
   ]
  },
  {
   "cell_type": "code",
   "execution_count": 12,
   "metadata": {
    "execution": {
     "iopub.execute_input": "2025-04-24T04:49:08.790609Z",
     "iopub.status.busy": "2025-04-24T04:49:08.789643Z",
     "iopub.status.idle": "2025-04-24T04:49:08.797485Z",
     "shell.execute_reply": "2025-04-24T04:49:08.796606Z",
     "shell.execute_reply.started": "2025-04-24T04:49:08.790565Z"
    }
   },
   "outputs": [],
   "source": [
    "def flatten_day(data):\n",
    "    \"\"\"\n",
    "    Flattens the data into a pd dataframe\n",
    "    Add a day column and a year column to the data\n",
    "    Delete the time column\n",
    "    \n",
    "    Parameters:\n",
    "    -----------\n",
    "    data1: xarray dataset\n",
    "        The first dataset to be flattened\n",
    "    data2: xarray dataset\n",
    "        The second dataset to be flattened\n",
    "    \n",
    "    return: pd dataframe\n",
    "        The flattened pd dataframe\n",
    "    \"\"\"\n",
    "\n",
    "    pd_data = data.to_dataframe().reset_index()\n",
    "\n",
    "    base_date = pd.to_datetime('1998-01-01')\n",
    "    \n",
    "    pd_data['day'] = (pd_data['time'] - base_date).dt.days\n",
    "\n",
    "    pd_data['year'] = pd_data['time'].dt.year\n",
    "\n",
    "    pd_data = pd_data.drop(columns = ['time'])\n",
    "\n",
    "    return pd_data"
   ]
  },
  {
   "cell_type": "markdown",
   "metadata": {},
   "source": [
    "# Split the training and testing data\n",
    "- Randomly split the training and testing data by year\n",
    "- Delete NaN data"
   ]
  },
  {
   "cell_type": "code",
   "execution_count": 13,
   "metadata": {
    "execution": {
     "iopub.execute_input": "2025-04-24T04:49:08.798923Z",
     "iopub.status.busy": "2025-04-24T04:49:08.798463Z",
     "iopub.status.idle": "2025-04-24T04:49:08.810124Z",
     "shell.execute_reply": "2025-04-24T04:49:08.809308Z",
     "shell.execute_reply.started": "2025-04-24T04:49:08.798890Z"
    }
   },
   "outputs": [],
   "source": [
    "def training_testing_split(data):\n",
    "    \"\"\"\n",
    "    Split the data into training and testing data\n",
    "    \n",
    "    Parameters:\n",
    "    -----------\n",
    "    data: pd dataframe\n",
    "        The data to be split\n",
    "    \n",
    "    return: pd dataframe, pd dataframe\n",
    "        The training and testing data\n",
    "    \"\"\"\n",
    "    years = list(range(1998, 2022))\n",
    "    shuffled_years = pd.Series(years).sample(frac=1).tolist()\n",
    "    training_years = shuffled_years[:18]\n",
    "    testing_years = shuffled_years[18:]\n",
    "\n",
    "    training_data = data[data['year'].isin(training_years)].dropna()\n",
    "    testing_data = data[data['year'].isin(testing_years)].dropna()\n",
    "\n",
    "    training_X = training_data.drop(columns = ['tp', 'year'], axis = 1)\n",
    "    training_y = training_data['tp']\n",
    "    testing_X = testing_data.drop(columns = ['tp', 'year'], axis = 1)\n",
    "    testing_y = testing_data['tp']\n",
    "    print('Training years: ', training_years)\n",
    "    print('Testing years: ', testing_years)\n",
    "    return training_X, testing_X, training_y, testing_y, training_years, testing_years"
   ]
  },
  {
   "cell_type": "markdown",
   "metadata": {},
   "source": [
    "# XGBoost build"
   ]
  },
  {
   "cell_type": "code",
   "execution_count": 14,
   "metadata": {
    "execution": {
     "iopub.execute_input": "2025-04-24T04:49:08.811472Z",
     "iopub.status.busy": "2025-04-24T04:49:08.811048Z",
     "iopub.status.idle": "2025-04-24T04:49:08.818729Z",
     "shell.execute_reply": "2025-04-24T04:49:08.817794Z",
     "shell.execute_reply.started": "2025-04-24T04:49:08.811442Z"
    }
   },
   "outputs": [],
   "source": [
    "def run_model(xgb_reg, training_X, testing_X, training_y, testing_y):\n",
    "    \"\"\"\n",
    "    Train the model and return the model and the prediction\n",
    "    \n",
    "    Parameters:\n",
    "    -----------\n",
    "    xgb_reg: xgboost model\n",
    "        The xgboost model to be trained\n",
    "    training_X: pd dataframe\n",
    "        The training data\n",
    "    testing_X: pd dataframe\n",
    "        The testing data\n",
    "    training_y: pd dataframe\n",
    "        The training label\n",
    "    testing_y: pd dataframe\n",
    "        The testing label\n",
    "    \n",
    "    return: xgboost model, np array\n",
    "        The trained model and the prediction\n",
    "    \"\"\"\n",
    "    \n",
    "    \n",
    "    xgb_model = xgb_reg.fit(training_X, training_y)\n",
    "    y_pred = xgb_reg.predict(testing_X)\n",
    "    rmse = np.sqrt(mean_squared_error(testing_y, y_pred))\n",
    "    r2 = r2_score(testing_y, y_pred)\n",
    "    print('RMSE: ', rmse)\n",
    "    print('R^2: ', r2)\n",
    "\n",
    "    return y_pred, xgb_model"
   ]
  },
  {
   "cell_type": "code",
   "execution_count": 15,
   "metadata": {
    "execution": {
     "iopub.execute_input": "2025-04-24T04:49:08.820318Z",
     "iopub.status.busy": "2025-04-24T04:49:08.819816Z",
     "iopub.status.idle": "2025-04-24T04:49:08.825686Z",
     "shell.execute_reply": "2025-04-24T04:49:08.824757Z",
     "shell.execute_reply.started": "2025-04-24T04:49:08.820280Z"
    }
   },
   "outputs": [],
   "source": [
    "params = {\n",
    "    'learning_rate': 0.01,\n",
    "    'n_estimators': 400,\n",
    "    'max_depth': 10,\n",
    "    'min_child_weight': 10,\n",
    "    'subsample': 0.55,\n",
    "    'colsample_bytree': 1,\n",
    "    'objective': 'reg:squarederror',\n",
    "    'tree_method': 'hist',\n",
    "    'device' : 'cuda'\n",
    "}"
   ]
  },
  {
   "cell_type": "code",
   "execution_count": 16,
   "metadata": {
    "execution": {
     "iopub.execute_input": "2025-04-24T04:49:08.827287Z",
     "iopub.status.busy": "2025-04-24T04:49:08.826783Z",
     "iopub.status.idle": "2025-04-24T04:49:13.936172Z",
     "shell.execute_reply": "2025-04-24T04:49:13.935343Z",
     "shell.execute_reply.started": "2025-04-24T04:49:08.827249Z"
    }
   },
   "outputs": [],
   "source": [
    "pd_xgb_data = flatten_day(xgb_merge)"
   ]
  },
  {
   "cell_type": "code",
   "execution_count": 17,
   "metadata": {
    "execution": {
     "iopub.execute_input": "2025-04-24T04:49:13.937143Z",
     "iopub.status.busy": "2025-04-24T04:49:13.936964Z",
     "iopub.status.idle": "2025-04-24T04:49:13.970099Z",
     "shell.execute_reply": "2025-04-24T04:49:13.969362Z",
     "shell.execute_reply.started": "2025-04-24T04:49:13.937127Z"
    }
   },
   "outputs": [
    {
     "data": {
      "text/html": [
       "<div>\n",
       "<style scoped>\n",
       "    .dataframe tbody tr th:only-of-type {\n",
       "        vertical-align: middle;\n",
       "    }\n",
       "\n",
       "    .dataframe tbody tr th {\n",
       "        vertical-align: top;\n",
       "    }\n",
       "\n",
       "    .dataframe thead th {\n",
       "        text-align: right;\n",
       "    }\n",
       "</style>\n",
       "<table border=\"1\" class=\"dataframe\">\n",
       "  <thead>\n",
       "    <tr style=\"text-align: right;\">\n",
       "      <th></th>\n",
       "      <th>longitude</th>\n",
       "      <th>latitude</th>\n",
       "      <th>mer</th>\n",
       "      <th>vimfc</th>\n",
       "      <th>vidq_dt</th>\n",
       "      <th>tp</th>\n",
       "      <th>day</th>\n",
       "      <th>year</th>\n",
       "    </tr>\n",
       "  </thead>\n",
       "  <tbody>\n",
       "    <tr>\n",
       "      <th>0</th>\n",
       "      <td>150.0</td>\n",
       "      <td>-20.00</td>\n",
       "      <td>-0.000087</td>\n",
       "      <td>0.000222</td>\n",
       "      <td>0.000047</td>\n",
       "      <td>0.020395</td>\n",
       "      <td>0</td>\n",
       "      <td>1998</td>\n",
       "    </tr>\n",
       "    <tr>\n",
       "      <th>1</th>\n",
       "      <td>150.0</td>\n",
       "      <td>-19.75</td>\n",
       "      <td>-0.000085</td>\n",
       "      <td>0.000263</td>\n",
       "      <td>0.000068</td>\n",
       "      <td>0.022311</td>\n",
       "      <td>0</td>\n",
       "      <td>1998</td>\n",
       "    </tr>\n",
       "    <tr>\n",
       "      <th>2</th>\n",
       "      <td>150.0</td>\n",
       "      <td>-19.50</td>\n",
       "      <td>-0.000082</td>\n",
       "      <td>0.000291</td>\n",
       "      <td>0.000073</td>\n",
       "      <td>0.025136</td>\n",
       "      <td>0</td>\n",
       "      <td>1998</td>\n",
       "    </tr>\n",
       "    <tr>\n",
       "      <th>3</th>\n",
       "      <td>150.0</td>\n",
       "      <td>-19.25</td>\n",
       "      <td>-0.000079</td>\n",
       "      <td>0.000337</td>\n",
       "      <td>0.000069</td>\n",
       "      <td>0.028925</td>\n",
       "      <td>0</td>\n",
       "      <td>1998</td>\n",
       "    </tr>\n",
       "    <tr>\n",
       "      <th>4</th>\n",
       "      <td>150.0</td>\n",
       "      <td>-19.00</td>\n",
       "      <td>-0.000072</td>\n",
       "      <td>0.000390</td>\n",
       "      <td>0.000051</td>\n",
       "      <td>0.041801</td>\n",
       "      <td>0</td>\n",
       "      <td>1998</td>\n",
       "    </tr>\n",
       "    <tr>\n",
       "      <th>...</th>\n",
       "      <td>...</td>\n",
       "      <td>...</td>\n",
       "      <td>...</td>\n",
       "      <td>...</td>\n",
       "      <td>...</td>\n",
       "      <td>...</td>\n",
       "      <td>...</td>\n",
       "      <td>...</td>\n",
       "    </tr>\n",
       "    <tr>\n",
       "      <th>15531826</th>\n",
       "      <td>170.0</td>\n",
       "      <td>-16.00</td>\n",
       "      <td>-0.000068</td>\n",
       "      <td>0.000103</td>\n",
       "      <td>0.000044</td>\n",
       "      <td>0.025087</td>\n",
       "      <td>9130</td>\n",
       "      <td>2022</td>\n",
       "    </tr>\n",
       "    <tr>\n",
       "      <th>15531827</th>\n",
       "      <td>170.0</td>\n",
       "      <td>-15.75</td>\n",
       "      <td>-0.000064</td>\n",
       "      <td>0.000091</td>\n",
       "      <td>0.000051</td>\n",
       "      <td>0.025169</td>\n",
       "      <td>9130</td>\n",
       "      <td>2022</td>\n",
       "    </tr>\n",
       "    <tr>\n",
       "      <th>15531828</th>\n",
       "      <td>170.0</td>\n",
       "      <td>-15.50</td>\n",
       "      <td>-0.000062</td>\n",
       "      <td>0.000097</td>\n",
       "      <td>0.000054</td>\n",
       "      <td>0.023838</td>\n",
       "      <td>9130</td>\n",
       "      <td>2022</td>\n",
       "    </tr>\n",
       "    <tr>\n",
       "      <th>15531829</th>\n",
       "      <td>170.0</td>\n",
       "      <td>-15.25</td>\n",
       "      <td>-0.000062</td>\n",
       "      <td>0.000097</td>\n",
       "      <td>0.000056</td>\n",
       "      <td>0.021161</td>\n",
       "      <td>9130</td>\n",
       "      <td>2022</td>\n",
       "    </tr>\n",
       "    <tr>\n",
       "      <th>15531830</th>\n",
       "      <td>170.0</td>\n",
       "      <td>-15.00</td>\n",
       "      <td>-0.000062</td>\n",
       "      <td>0.000102</td>\n",
       "      <td>0.000057</td>\n",
       "      <td>0.019247</td>\n",
       "      <td>9130</td>\n",
       "      <td>2022</td>\n",
       "    </tr>\n",
       "  </tbody>\n",
       "</table>\n",
       "<p>15531831 rows × 8 columns</p>\n",
       "</div>"
      ],
      "text/plain": [
       "          longitude  latitude       mer     vimfc   vidq_dt        tp   day  \\\n",
       "0             150.0    -20.00 -0.000087  0.000222  0.000047  0.020395     0   \n",
       "1             150.0    -19.75 -0.000085  0.000263  0.000068  0.022311     0   \n",
       "2             150.0    -19.50 -0.000082  0.000291  0.000073  0.025136     0   \n",
       "3             150.0    -19.25 -0.000079  0.000337  0.000069  0.028925     0   \n",
       "4             150.0    -19.00 -0.000072  0.000390  0.000051  0.041801     0   \n",
       "...             ...       ...       ...       ...       ...       ...   ...   \n",
       "15531826      170.0    -16.00 -0.000068  0.000103  0.000044  0.025087  9130   \n",
       "15531827      170.0    -15.75 -0.000064  0.000091  0.000051  0.025169  9130   \n",
       "15531828      170.0    -15.50 -0.000062  0.000097  0.000054  0.023838  9130   \n",
       "15531829      170.0    -15.25 -0.000062  0.000097  0.000056  0.021161  9130   \n",
       "15531830      170.0    -15.00 -0.000062  0.000102  0.000057  0.019247  9130   \n",
       "\n",
       "          year  \n",
       "0         1998  \n",
       "1         1998  \n",
       "2         1998  \n",
       "3         1998  \n",
       "4         1998  \n",
       "...        ...  \n",
       "15531826  2022  \n",
       "15531827  2022  \n",
       "15531828  2022  \n",
       "15531829  2022  \n",
       "15531830  2022  \n",
       "\n",
       "[15531831 rows x 8 columns]"
      ]
     },
     "execution_count": 17,
     "metadata": {},
     "output_type": "execute_result"
    }
   ],
   "source": [
    "pd_xgb_data"
   ]
  },
  {
   "cell_type": "code",
   "execution_count": 18,
   "metadata": {
    "execution": {
     "iopub.execute_input": "2025-04-24T04:49:13.971325Z",
     "iopub.status.busy": "2025-04-24T04:49:13.970980Z",
     "iopub.status.idle": "2025-04-24T04:49:15.314329Z",
     "shell.execute_reply": "2025-04-24T04:49:15.313677Z",
     "shell.execute_reply.started": "2025-04-24T04:49:13.971299Z"
    }
   },
   "outputs": [
    {
     "name": "stdout",
     "output_type": "stream",
     "text": [
      "Training years:  [2003, 2005, 2008, 2010, 2015, 2012, 2001, 1999, 2021, 2006, 1998, 2000, 2011, 2018, 2002, 2020, 2013, 2004]\n",
      "Testing years:  [2007, 2016, 2017, 2009, 2014, 2019]\n"
     ]
    }
   ],
   "source": [
    "training_X, testing_X, training_y, testing_y, training_years, testing_years = training_testing_split(pd_xgb_data)"
   ]
  },
  {
   "cell_type": "code",
   "execution_count": 19,
   "metadata": {
    "execution": {
     "iopub.execute_input": "2025-04-24T04:49:15.315106Z",
     "iopub.status.busy": "2025-04-24T04:49:15.314937Z",
     "iopub.status.idle": "2025-04-24T04:49:38.389284Z",
     "shell.execute_reply": "2025-04-24T04:49:38.388604Z",
     "shell.execute_reply.started": "2025-04-24T04:49:15.315092Z"
    }
   },
   "outputs": [
    {
     "name": "stderr",
     "output_type": "stream",
     "text": [
      "/g/data/jk72/yz7014/stf/testvenv/lib/python3.12/site-packages/xgboost/core.py:158: UserWarning: [14:49:37] WARNING: /workspace/src/common/error_msg.cc:58: Falling back to prediction using DMatrix due to mismatched devices. This might lead to higher memory usage and slower performance. XGBoost is running on: cuda:0, while the input data is on: cpu.\n",
      "Potential solutions:\n",
      "- Use a data structure that matches the device ordinal in the booster.\n",
      "- Set the device for booster before call to inplace_predict.\n",
      "\n",
      "This warning will only be shown once.\n",
      "\n",
      "  warnings.warn(smsg, UserWarning)\n"
     ]
    },
    {
     "name": "stdout",
     "output_type": "stream",
     "text": [
      "RMSE:  0.004427353256308342\n",
      "R^2:  0.8144666576751273\n"
     ]
    }
   ],
   "source": [
    "xgb_reg = xgb.XGBRegressor(**params, seed = 42)\n",
    "y_pred, xgb_model = run_model(xgb_reg, training_X, testing_X, training_y, testing_y)"
   ]
  },
  {
   "cell_type": "code",
   "execution_count": 20,
   "metadata": {
    "execution": {
     "iopub.execute_input": "2025-04-24T04:49:38.390007Z",
     "iopub.status.busy": "2025-04-24T04:49:38.389835Z",
     "iopub.status.idle": "2025-04-24T04:49:38.694855Z",
     "shell.execute_reply": "2025-04-24T04:49:38.694199Z",
     "shell.execute_reply.started": "2025-04-24T04:49:38.389992Z"
    }
   },
   "outputs": [
    {
     "data": {
      "image/png": "[encoded data removed]",
      "text/plain": [
       "<Figure size 640x480 with 1 Axes>"
      ]
     },
     "metadata": {},
     "output_type": "display_data"
    }
   ],
   "source": [
    "plot_importance(xgb_model)\n",
    "plt.show()"
   ]
  },
  {
   "cell_type": "code",
   "execution_count": null,
   "metadata": {},
   "outputs": [],
   "source": []
  },
  {
   "cell_type": "markdown",
   "metadata": {},
   "source": [
    "# Tuning\n"
   ]
  },
  {
   "cell_type": "markdown",
   "metadata": {},
   "source": [
    "## Try to use Bayesian optimization to tuning the model"
   ]
  },
  {
   "cell_type": "code",
   "execution_count": 1,
   "metadata": {
    "execution": {
     "iopub.execute_input": "2025-04-24T04:22:52.530506Z",
     "iopub.status.busy": "2025-04-24T04:22:52.529884Z",
     "iopub.status.idle": "2025-04-24T04:22:52.542272Z",
     "shell.execute_reply": "2025-04-24T04:22:52.541332Z",
     "shell.execute_reply.started": "2025-04-24T04:22:52.530458Z"
    }
   },
   "outputs": [],
   "source": [
    "def bayesian_tuning(X_train, y_train, X_test, y_test, param_test, alg):\n",
    "    \"\"\"\n",
    "    Optimize XGBoost hyperparameters using Bayesian Optimization.\n",
    "\n",
    "    Returns:\n",
    "    ---------\n",
    "    dict\n",
    "        Best parameters and model performance metrics\n",
    "    \"\"\"\n",
    "\n",
    "    param_space = param_test\n",
    "    model = alg\n",
    "    optimizer = BayesSearchCV(\n",
    "        model,\n",
    "        param_space,\n",
    "        n_iter = 20,\n",
    "        cv = 4,\n",
    "        verbose = 1,\n",
    "        n_jobs = -1\n",
    "    )\n",
    "\n",
    "    optimizer.fit(X_train, y_train)\n",
    "    \n",
    "    best_params = optimizer.best_params_\n",
    "    best_model =xgb.XGBRegressor(**best_params, random_state=42)\n",
    "    best_model.fit(X_train, y_train)\n",
    "    y_pred = best_model.predict(X_test)\n",
    "\n",
    "    test_score = mean_squared_error(y_test, y_pred, squared=False)\n",
    "\n",
    "    optimizer.fit(X_train, y_train)\n",
    "    results = {\n",
    "        'best_params': optimizer.best_params_,\n",
    "        'rmse': test_score,\n",
    "        'best_model': best_model\n",
    "    }\n",
    "\n",
    "    return results\n",
    "    \n",
    "    "
   ]
  },
  {
   "cell_type": "code",
   "execution_count": 21,
   "metadata": {
    "execution": {
     "iopub.execute_input": "2025-04-07T03:14:59.300697Z",
     "iopub.status.busy": "2025-04-07T03:14:59.300538Z",
     "iopub.status.idle": "2025-04-07T03:47:09.287410Z",
     "shell.execute_reply": "2025-04-07T03:47:09.280557Z",
     "shell.execute_reply.started": "2025-04-07T03:14:59.300683Z"
    },
    "scrolled": true
   },
   "outputs": [
    {
     "name": "stdout",
     "output_type": "stream",
     "text": [
      "Fitting 4 folds for each of 1 candidates, totalling 4 fits\n"
     ]
    },
    {
     "name": "stderr",
     "output_type": "stream",
     "text": [
      "/g/data/jk72/yz7014/stf/testvenv/lib/python3.12/site-packages/xgboost/core.py:158: UserWarning: [13:15:24] WARNING: /workspace/src/common/error_msg.cc:58: Falling back to prediction using DMatrix due to mismatched devices. This might lead to higher memory usage and slower performance. XGBoost is running on: cuda:0, while the input data is on: cpu.\n",
      "Potential solutions:\n",
      "- Use a data structure that matches the device ordinal in the booster.\n",
      "- Set the device for booster before call to inplace_predict.\n",
      "\n",
      "This warning will only be shown once.\n",
      "\n",
      "  warnings.warn(smsg, UserWarning)\n",
      "/g/data/jk72/yz7014/stf/testvenv/lib/python3.12/site-packages/xgboost/core.py:158: UserWarning: [13:15:24] WARNING: /workspace/src/common/error_msg.cc:58: Falling back to prediction using DMatrix due to mismatched devices. This might lead to higher memory usage and slower performance. XGBoost is running on: cuda:0, while the input data is on: cpu.\n",
      "Potential solutions:\n",
      "- Use a data structure that matches the device ordinal in the booster.\n",
      "- Set the device for booster before call to inplace_predict.\n",
      "\n",
      "This warning will only be shown once.\n",
      "\n",
      "  warnings.warn(smsg, UserWarning)\n",
      "/g/data/jk72/yz7014/stf/testvenv/lib/python3.12/site-packages/xgboost/core.py:158: UserWarning: [13:15:24] WARNING: /workspace/src/common/error_msg.cc:58: Falling back to prediction using DMatrix due to mismatched devices. This might lead to higher memory usage and slower performance. XGBoost is running on: cuda:0, while the input data is on: cpu.\n",
      "Potential solutions:\n",
      "- Use a data structure that matches the device ordinal in the booster.\n",
      "- Set the device for booster before call to inplace_predict.\n",
      "\n",
      "This warning will only be shown once.\n",
      "\n",
      "  warnings.warn(smsg, UserWarning)\n",
      "/g/data/jk72/yz7014/stf/testvenv/lib/python3.12/site-packages/xgboost/core.py:158: UserWarning: [13:15:24] WARNING: /workspace/src/common/error_msg.cc:58: Falling back to prediction using DMatrix due to mismatched devices. This might lead to higher memory usage and slower performance. XGBoost is running on: cuda:0, while the input data is on: cpu.\n",
      "Potential solutions:\n",
      "- Use a data structure that matches the device ordinal in the booster.\n",
      "- Set the device for booster before call to inplace_predict.\n",
      "\n",
      "This warning will only be shown once.\n",
      "\n",
      "  warnings.warn(smsg, UserWarning)\n"
     ]
    },
    {
     "name": "stdout",
     "output_type": "stream",
     "text": [
      "Fitting 4 folds for each of 1 candidates, totalling 4 fits\n"
     ]
    },
    {
     "name": "stderr",
     "output_type": "stream",
     "text": [
      "/g/data/jk72/yz7014/stf/testvenv/lib/python3.12/site-packages/xgboost/core.py:158: UserWarning: [13:15:41] WARNING: /workspace/src/common/error_msg.cc:58: Falling back to prediction using DMatrix due to mismatched devices. This might lead to higher memory usage and slower performance. XGBoost is running on: cuda:0, while the input data is on: cpu.\n",
      "Potential solutions:\n",
      "- Use a data structure that matches the device ordinal in the booster.\n",
      "- Set the device for booster before call to inplace_predict.\n",
      "\n",
      "This warning will only be shown once.\n",
      "\n",
      "  warnings.warn(smsg, UserWarning)\n",
      "/g/data/jk72/yz7014/stf/testvenv/lib/python3.12/site-packages/xgboost/core.py:158: UserWarning: [13:15:42] WARNING: /workspace/src/common/error_msg.cc:58: Falling back to prediction using DMatrix due to mismatched devices. This might lead to higher memory usage and slower performance. XGBoost is running on: cuda:0, while the input data is on: cpu.\n",
      "Potential solutions:\n",
      "- Use a data structure that matches the device ordinal in the booster.\n",
      "- Set the device for booster before call to inplace_predict.\n",
      "\n",
      "This warning will only be shown once.\n",
      "\n",
      "  warnings.warn(smsg, UserWarning)\n",
      "/g/data/jk72/yz7014/stf/testvenv/lib/python3.12/site-packages/xgboost/core.py:158: UserWarning: [13:15:42] WARNING: /workspace/src/common/error_msg.cc:58: Falling back to prediction using DMatrix due to mismatched devices. This might lead to higher memory usage and slower performance. XGBoost is running on: cuda:0, while the input data is on: cpu.\n",
      "Potential solutions:\n",
      "- Use a data structure that matches the device ordinal in the booster.\n",
      "- Set the device for booster before call to inplace_predict.\n",
      "\n",
      "This warning will only be shown once.\n",
      "\n",
      "  warnings.warn(smsg, UserWarning)\n",
      "/g/data/jk72/yz7014/stf/testvenv/lib/python3.12/site-packages/xgboost/core.py:158: UserWarning: [13:15:42] WARNING: /workspace/src/common/error_msg.cc:58: Falling back to prediction using DMatrix due to mismatched devices. This might lead to higher memory usage and slower performance. XGBoost is running on: cuda:0, while the input data is on: cpu.\n",
      "Potential solutions:\n",
      "- Use a data structure that matches the device ordinal in the booster.\n",
      "- Set the device for booster before call to inplace_predict.\n",
      "\n",
      "This warning will only be shown once.\n",
      "\n",
      "  warnings.warn(smsg, UserWarning)\n"
     ]
    },
    {
     "name": "stdout",
     "output_type": "stream",
     "text": [
      "Fitting 4 folds for each of 1 candidates, totalling 4 fits\n"
     ]
    },
    {
     "name": "stderr",
     "output_type": "stream",
     "text": [
      "/g/data/jk72/yz7014/stf/testvenv/lib/python3.12/site-packages/xgboost/core.py:158: UserWarning: [13:15:59] WARNING: /workspace/src/common/error_msg.cc:58: Falling back to prediction using DMatrix due to mismatched devices. This might lead to higher memory usage and slower performance. XGBoost is running on: cuda:0, while the input data is on: cpu.\n",
      "Potential solutions:\n",
      "- Use a data structure that matches the device ordinal in the booster.\n",
      "- Set the device for booster before call to inplace_predict.\n",
      "\n",
      "This warning will only be shown once.\n",
      "\n",
      "  warnings.warn(smsg, UserWarning)\n",
      "/g/data/jk72/yz7014/stf/testvenv/lib/python3.12/site-packages/xgboost/core.py:158: UserWarning: [13:15:59] WARNING: /workspace/src/common/error_msg.cc:58: Falling back to prediction using DMatrix due to mismatched devices. This might lead to higher memory usage and slower performance. XGBoost is running on: cuda:0, while the input data is on: cpu.\n",
      "Potential solutions:\n",
      "- Use a data structure that matches the device ordinal in the booster.\n",
      "- Set the device for booster before call to inplace_predict.\n",
      "\n",
      "This warning will only be shown once.\n",
      "\n",
      "  warnings.warn(smsg, UserWarning)\n",
      "/g/data/jk72/yz7014/stf/testvenv/lib/python3.12/site-packages/xgboost/core.py:158: UserWarning: [13:16:00] WARNING: /workspace/src/common/error_msg.cc:58: Falling back to prediction using DMatrix due to mismatched devices. This might lead to higher memory usage and slower performance. XGBoost is running on: cuda:0, while the input data is on: cpu.\n",
      "Potential solutions:\n",
      "- Use a data structure that matches the device ordinal in the booster.\n",
      "- Set the device for booster before call to inplace_predict.\n",
      "\n",
      "This warning will only be shown once.\n",
      "\n",
      "  warnings.warn(smsg, UserWarning)\n",
      "/g/data/jk72/yz7014/stf/testvenv/lib/python3.12/site-packages/xgboost/core.py:158: UserWarning: [13:16:00] WARNING: /workspace/src/common/error_msg.cc:58: Falling back to prediction using DMatrix due to mismatched devices. This might lead to higher memory usage and slower performance. XGBoost is running on: cuda:0, while the input data is on: cpu.\n",
      "Potential solutions:\n",
      "- Use a data structure that matches the device ordinal in the booster.\n",
      "- Set the device for booster before call to inplace_predict.\n",
      "\n",
      "This warning will only be shown once.\n",
      "\n",
      "  warnings.warn(smsg, UserWarning)\n"
     ]
    },
    {
     "name": "stdout",
     "output_type": "stream",
     "text": [
      "Fitting 4 folds for each of 1 candidates, totalling 4 fits\n",
      "Fitting 4 folds for each of 1 candidates, totalling 4 fits\n",
      "Fitting 4 folds for each of 1 candidates, totalling 4 fits\n",
      "Fitting 4 folds for each of 1 candidates, totalling 4 fits\n",
      "Fitting 4 folds for each of 1 candidates, totalling 4 fits\n",
      "Fitting 4 folds for each of 1 candidates, totalling 4 fits\n",
      "Fitting 4 folds for each of 1 candidates, totalling 4 fits\n",
      "Fitting 4 folds for each of 1 candidates, totalling 4 fits\n",
      "Fitting 4 folds for each of 1 candidates, totalling 4 fits\n",
      "Fitting 4 folds for each of 1 candidates, totalling 4 fits\n",
      "Fitting 4 folds for each of 1 candidates, totalling 4 fits\n",
      "Fitting 4 folds for each of 1 candidates, totalling 4 fits\n",
      "Fitting 4 folds for each of 1 candidates, totalling 4 fits\n",
      "Fitting 4 folds for each of 1 candidates, totalling 4 fits\n",
      "Fitting 4 folds for each of 1 candidates, totalling 4 fits\n",
      "Fitting 4 folds for each of 1 candidates, totalling 4 fits\n",
      "Fitting 4 folds for each of 1 candidates, totalling 4 fits\n",
      "Fitting 4 folds for each of 1 candidates, totalling 4 fits\n"
     ]
    },
    {
     "name": "stderr",
     "output_type": "stream",
     "text": [
      "/g/data/jk72/yz7014/stf/testvenv/lib/python3.12/site-packages/xgboost/core.py:158: UserWarning: [13:31:43] WARNING: /workspace/src/common/error_msg.cc:58: Falling back to prediction using DMatrix due to mismatched devices. This might lead to higher memory usage and slower performance. XGBoost is running on: cuda:0, while the input data is on: cpu.\n",
      "Potential solutions:\n",
      "- Use a data structure that matches the device ordinal in the booster.\n",
      "- Set the device for booster before call to inplace_predict.\n",
      "\n",
      "This warning will only be shown once.\n",
      "\n",
      "  warnings.warn(smsg, UserWarning)\n",
      "/g/data/jk72/yz7014/stf/testvenv/lib/python3.12/site-packages/xgboost/core.py:158: UserWarning: [13:31:44] WARNING: /workspace/src/common/error_msg.cc:58: Falling back to prediction using DMatrix due to mismatched devices. This might lead to higher memory usage and slower performance. XGBoost is running on: cuda:0, while the input data is on: cpu.\n",
      "Potential solutions:\n",
      "- Use a data structure that matches the device ordinal in the booster.\n",
      "- Set the device for booster before call to inplace_predict.\n",
      "\n",
      "This warning will only be shown once.\n",
      "\n",
      "  warnings.warn(smsg, UserWarning)\n",
      "/g/data/jk72/yz7014/stf/testvenv/lib/python3.12/site-packages/xgboost/core.py:158: UserWarning: [13:31:44] WARNING: /workspace/src/common/error_msg.cc:58: Falling back to prediction using DMatrix due to mismatched devices. This might lead to higher memory usage and slower performance. XGBoost is running on: cuda:0, while the input data is on: cpu.\n",
      "Potential solutions:\n",
      "- Use a data structure that matches the device ordinal in the booster.\n",
      "- Set the device for booster before call to inplace_predict.\n",
      "\n",
      "This warning will only be shown once.\n",
      "\n",
      "  warnings.warn(smsg, UserWarning)\n",
      "/g/data/jk72/yz7014/stf/testvenv/lib/python3.12/site-packages/xgboost/core.py:158: UserWarning: [13:31:44] WARNING: /workspace/src/common/error_msg.cc:58: Falling back to prediction using DMatrix due to mismatched devices. This might lead to higher memory usage and slower performance. XGBoost is running on: cuda:0, while the input data is on: cpu.\n",
      "Potential solutions:\n",
      "- Use a data structure that matches the device ordinal in the booster.\n",
      "- Set the device for booster before call to inplace_predict.\n",
      "\n",
      "This warning will only be shown once.\n",
      "\n",
      "  warnings.warn(smsg, UserWarning)\n"
     ]
    },
    {
     "name": "stdout",
     "output_type": "stream",
     "text": [
      "Fitting 4 folds for each of 1 candidates, totalling 4 fits\n"
     ]
    },
    {
     "name": "stderr",
     "output_type": "stream",
     "text": [
      "/g/data/jk72/yz7014/stf/testvenv/lib/python3.12/site-packages/xgboost/core.py:158: UserWarning: [13:32:01] WARNING: /workspace/src/common/error_msg.cc:58: Falling back to prediction using DMatrix due to mismatched devices. This might lead to higher memory usage and slower performance. XGBoost is running on: cuda:0, while the input data is on: cpu.\n",
      "Potential solutions:\n",
      "- Use a data structure that matches the device ordinal in the booster.\n",
      "- Set the device for booster before call to inplace_predict.\n",
      "\n",
      "This warning will only be shown once.\n",
      "\n",
      "  warnings.warn(smsg, UserWarning)\n",
      "/g/data/jk72/yz7014/stf/testvenv/lib/python3.12/site-packages/xgboost/core.py:158: UserWarning: [13:32:01] WARNING: /workspace/src/common/error_msg.cc:58: Falling back to prediction using DMatrix due to mismatched devices. This might lead to higher memory usage and slower performance. XGBoost is running on: cuda:0, while the input data is on: cpu.\n",
      "Potential solutions:\n",
      "- Use a data structure that matches the device ordinal in the booster.\n",
      "- Set the device for booster before call to inplace_predict.\n",
      "\n",
      "This warning will only be shown once.\n",
      "\n",
      "  warnings.warn(smsg, UserWarning)\n",
      "/g/data/jk72/yz7014/stf/testvenv/lib/python3.12/site-packages/xgboost/core.py:158: UserWarning: [13:32:01] WARNING: /workspace/src/common/error_msg.cc:58: Falling back to prediction using DMatrix due to mismatched devices. This might lead to higher memory usage and slower performance. XGBoost is running on: cuda:0, while the input data is on: cpu.\n",
      "Potential solutions:\n",
      "- Use a data structure that matches the device ordinal in the booster.\n",
      "- Set the device for booster before call to inplace_predict.\n",
      "\n",
      "This warning will only be shown once.\n",
      "\n",
      "  warnings.warn(smsg, UserWarning)\n",
      "/g/data/jk72/yz7014/stf/testvenv/lib/python3.12/site-packages/xgboost/core.py:158: UserWarning: [13:32:01] WARNING: /workspace/src/common/error_msg.cc:58: Falling back to prediction using DMatrix due to mismatched devices. This might lead to higher memory usage and slower performance. XGBoost is running on: cuda:0, while the input data is on: cpu.\n",
      "Potential solutions:\n",
      "- Use a data structure that matches the device ordinal in the booster.\n",
      "- Set the device for booster before call to inplace_predict.\n",
      "\n",
      "This warning will only be shown once.\n",
      "\n",
      "  warnings.warn(smsg, UserWarning)\n"
     ]
    },
    {
     "name": "stdout",
     "output_type": "stream",
     "text": [
      "Fitting 4 folds for each of 1 candidates, totalling 4 fits\n"
     ]
    },
    {
     "name": "stderr",
     "output_type": "stream",
     "text": [
      "/g/data/jk72/yz7014/stf/testvenv/lib/python3.12/site-packages/xgboost/core.py:158: UserWarning: [13:32:19] WARNING: /workspace/src/common/error_msg.cc:58: Falling back to prediction using DMatrix due to mismatched devices. This might lead to higher memory usage and slower performance. XGBoost is running on: cuda:0, while the input data is on: cpu.\n",
      "Potential solutions:\n",
      "- Use a data structure that matches the device ordinal in the booster.\n",
      "- Set the device for booster before call to inplace_predict.\n",
      "\n",
      "This warning will only be shown once.\n",
      "\n",
      "  warnings.warn(smsg, UserWarning)\n",
      "/g/data/jk72/yz7014/stf/testvenv/lib/python3.12/site-packages/xgboost/core.py:158: UserWarning: [13:32:20] WARNING: /workspace/src/common/error_msg.cc:58: Falling back to prediction using DMatrix due to mismatched devices. This might lead to higher memory usage and slower performance. XGBoost is running on: cuda:0, while the input data is on: cpu.\n",
      "Potential solutions:\n",
      "- Use a data structure that matches the device ordinal in the booster.\n",
      "- Set the device for booster before call to inplace_predict.\n",
      "\n",
      "This warning will only be shown once.\n",
      "\n",
      "  warnings.warn(smsg, UserWarning)\n",
      "/g/data/jk72/yz7014/stf/testvenv/lib/python3.12/site-packages/xgboost/core.py:158: UserWarning: [13:32:20] WARNING: /workspace/src/common/error_msg.cc:58: Falling back to prediction using DMatrix due to mismatched devices. This might lead to higher memory usage and slower performance. XGBoost is running on: cuda:0, while the input data is on: cpu.\n",
      "Potential solutions:\n",
      "- Use a data structure that matches the device ordinal in the booster.\n",
      "- Set the device for booster before call to inplace_predict.\n",
      "\n",
      "This warning will only be shown once.\n",
      "\n",
      "  warnings.warn(smsg, UserWarning)\n",
      "/g/data/jk72/yz7014/stf/testvenv/lib/python3.12/site-packages/xgboost/core.py:158: UserWarning: [13:32:20] WARNING: /workspace/src/common/error_msg.cc:58: Falling back to prediction using DMatrix due to mismatched devices. This might lead to higher memory usage and slower performance. XGBoost is running on: cuda:0, while the input data is on: cpu.\n",
      "Potential solutions:\n",
      "- Use a data structure that matches the device ordinal in the booster.\n",
      "- Set the device for booster before call to inplace_predict.\n",
      "\n",
      "This warning will only be shown once.\n",
      "\n",
      "  warnings.warn(smsg, UserWarning)\n"
     ]
    },
    {
     "name": "stdout",
     "output_type": "stream",
     "text": [
      "Fitting 4 folds for each of 1 candidates, totalling 4 fits\n",
      "Fitting 4 folds for each of 1 candidates, totalling 4 fits\n",
      "Fitting 4 folds for each of 1 candidates, totalling 4 fits\n",
      "Fitting 4 folds for each of 1 candidates, totalling 4 fits\n",
      "Fitting 4 folds for each of 1 candidates, totalling 4 fits\n",
      "Fitting 4 folds for each of 1 candidates, totalling 4 fits\n",
      "Fitting 4 folds for each of 1 candidates, totalling 4 fits\n",
      "Fitting 4 folds for each of 1 candidates, totalling 4 fits\n",
      "Fitting 4 folds for each of 1 candidates, totalling 4 fits\n",
      "Fitting 4 folds for each of 1 candidates, totalling 4 fits\n",
      "Fitting 4 folds for each of 1 candidates, totalling 4 fits\n",
      "Fitting 4 folds for each of 1 candidates, totalling 4 fits\n",
      "Fitting 4 folds for each of 1 candidates, totalling 4 fits\n",
      "Fitting 4 folds for each of 1 candidates, totalling 4 fits\n",
      "Fitting 4 folds for each of 1 candidates, totalling 4 fits\n",
      "Fitting 4 folds for each of 1 candidates, totalling 4 fits\n",
      "Fitting 4 folds for each of 1 candidates, totalling 4 fits\n"
     ]
    },
    {
     "name": "stderr",
     "output_type": "stream",
     "text": [
      "/g/data/jk72/yz7014/stf/testvenv/lib/python3.12/site-packages/xgboost/core.py:158: UserWarning: [13:46:55] WARNING: /workspace/src/common/error_msg.cc:58: Falling back to prediction using DMatrix due to mismatched devices. This might lead to higher memory usage and slower performance. XGBoost is running on: cuda:0, while the input data is on: cpu.\n",
      "Potential solutions:\n",
      "- Use a data structure that matches the device ordinal in the booster.\n",
      "- Set the device for booster before call to inplace_predict.\n",
      "\n",
      "This warning will only be shown once.\n",
      "\n",
      "  warnings.warn(smsg, UserWarning)\n",
      "/g/data/jk72/yz7014/stf/testvenv/lib/python3.12/site-packages/xgboost/core.py:158: UserWarning: [13:46:56] WARNING: /workspace/src/common/error_msg.cc:58: Falling back to prediction using DMatrix due to mismatched devices. This might lead to higher memory usage and slower performance. XGBoost is running on: cuda:0, while the input data is on: cpu.\n",
      "Potential solutions:\n",
      "- Use a data structure that matches the device ordinal in the booster.\n",
      "- Set the device for booster before call to inplace_predict.\n",
      "\n",
      "This warning will only be shown once.\n",
      "\n",
      "  warnings.warn(smsg, UserWarning)\n",
      "/g/data/jk72/yz7014/stf/testvenv/lib/python3.12/site-packages/xgboost/core.py:158: UserWarning: [13:46:56] WARNING: /workspace/src/common/error_msg.cc:58: Falling back to prediction using DMatrix due to mismatched devices. This might lead to higher memory usage and slower performance. XGBoost is running on: cuda:0, while the input data is on: cpu.\n",
      "Potential solutions:\n",
      "- Use a data structure that matches the device ordinal in the booster.\n",
      "- Set the device for booster before call to inplace_predict.\n",
      "\n",
      "This warning will only be shown once.\n",
      "\n",
      "  warnings.warn(smsg, UserWarning)\n",
      "/g/data/jk72/yz7014/stf/testvenv/lib/python3.12/site-packages/xgboost/core.py:158: UserWarning: [13:46:56] WARNING: /workspace/src/common/error_msg.cc:58: Falling back to prediction using DMatrix due to mismatched devices. This might lead to higher memory usage and slower performance. XGBoost is running on: cuda:0, while the input data is on: cpu.\n",
      "Potential solutions:\n",
      "- Use a data structure that matches the device ordinal in the booster.\n",
      "- Set the device for booster before call to inplace_predict.\n",
      "\n",
      "This warning will only be shown once.\n",
      "\n",
      "  warnings.warn(smsg, UserWarning)\n"
     ]
    },
    {
     "name": "stdout",
     "output_type": "stream",
     "text": [
      "\n",
      "Best Parameters:\n",
      "gamma: 0.012883868384600653\n",
      "learning_rate: 0.0882823902110968\n",
      "max_depth: 12\n",
      "min_child_weight: 12\n",
      "n_estimators: 453\n"
     ]
    },
    {
     "ename": "KeyError",
     "evalue": "'best_score_cv'",
     "output_type": "error",
     "traceback": [
      "\u001b[0;31m---------------------------------------------------------------------------\u001b[0m",
      "\u001b[0;31mKeyError\u001b[0m                                  Traceback (most recent call last)",
      "Cell \u001b[0;32mIn[21], line 13\u001b[0m\n\u001b[1;32m     11\u001b[0m \u001b[38;5;28;01mfor\u001b[39;00m param, value \u001b[38;5;129;01min\u001b[39;00m results[\u001b[38;5;124m'\u001b[39m\u001b[38;5;124mbest_params\u001b[39m\u001b[38;5;124m'\u001b[39m]\u001b[38;5;241m.\u001b[39mitems():\n\u001b[1;32m     12\u001b[0m     \u001b[38;5;28mprint\u001b[39m(\u001b[38;5;124mf\u001b[39m\u001b[38;5;124m\"\u001b[39m\u001b[38;5;132;01m{\u001b[39;00mparam\u001b[38;5;132;01m}\u001b[39;00m\u001b[38;5;124m: \u001b[39m\u001b[38;5;132;01m{\u001b[39;00mvalue\u001b[38;5;132;01m}\u001b[39;00m\u001b[38;5;124m\"\u001b[39m)\n\u001b[0;32m---> 13\u001b[0m \u001b[38;5;28mprint\u001b[39m(\u001b[38;5;124mf\u001b[39m\u001b[38;5;124m\"\u001b[39m\u001b[38;5;130;01m\\n\u001b[39;00m\u001b[38;5;124mBest CV Score: \u001b[39m\u001b[38;5;132;01m{\u001b[39;00m\u001b[43mresults\u001b[49m\u001b[43m[\u001b[49m\u001b[38;5;124;43m'\u001b[39;49m\u001b[38;5;124;43mbest_score_cv\u001b[39;49m\u001b[38;5;124;43m'\u001b[39;49m\u001b[43m]\u001b[49m\u001b[38;5;132;01m:\u001b[39;00m\u001b[38;5;124m.4f\u001b[39m\u001b[38;5;132;01m}\u001b[39;00m\u001b[38;5;124m\"\u001b[39m)\n\u001b[1;32m     14\u001b[0m \u001b[38;5;28mprint\u001b[39m(\u001b[38;5;124mf\u001b[39m\u001b[38;5;124m\"\u001b[39m\u001b[38;5;124mTest Accuracy: \u001b[39m\u001b[38;5;132;01m{\u001b[39;00mresults[\u001b[38;5;124m'\u001b[39m\u001b[38;5;124mtest_accuracy\u001b[39m\u001b[38;5;124m'\u001b[39m]\u001b[38;5;132;01m:\u001b[39;00m\u001b[38;5;124m.4f\u001b[39m\u001b[38;5;132;01m}\u001b[39;00m\u001b[38;5;124m\"\u001b[39m)\n",
      "\u001b[0;31mKeyError\u001b[0m: 'best_score_cv'"
     ]
    }
   ],
   "source": [
    "param_test = {\n",
    "    'n_estimators': Integer(450, 650),\n",
    "    'learning_rate': Real(0.01, 0.1),\n",
    "    'max_depth': Integer(10,15),\n",
    "    'gamma': Real(0, 1),\n",
    "    'min_child_weight': Integer(12,18)\n",
    "}\n",
    "\n",
    "results = bayesian_tuning(training_X, training_y, testing_X, testing_y, param_test, xgb_reg)\n",
    "print(\"\\nBest Parameters:\")\n",
    "for param, value in results['best_params'].items():\n",
    "    print(f\"{param}: {value}\")\n",
    "print(f\"\\nBest CV Score: {results['best_score_cv']:.4f}\")\n",
    "print(f\"Test Accuracy: {results['test_accuracy']:.4f}\")"
   ]
  },
  {
   "cell_type": "code",
   "execution_count": null,
   "metadata": {},
   "outputs": [],
   "source": []
  },
  {
   "cell_type": "code",
   "execution_count": null,
   "metadata": {},
   "outputs": [],
   "source": []
  },
  {
   "cell_type": "code",
   "execution_count": null,
   "metadata": {},
   "outputs": [],
   "source": []
  },
  {
   "cell_type": "code",
   "execution_count": null,
   "metadata": {},
   "outputs": [],
   "source": []
  },
  {
   "cell_type": "code",
   "execution_count": null,
   "metadata": {},
   "outputs": [],
   "source": []
  },
  {
   "cell_type": "code",
   "execution_count": 55,
   "metadata": {
    "execution": {
     "iopub.execute_input": "2025-04-07T04:57:24.329601Z",
     "iopub.status.busy": "2025-04-07T04:57:24.328756Z",
     "iopub.status.idle": "2025-04-07T04:57:24.337587Z",
     "shell.execute_reply": "2025-04-07T04:57:24.336527Z",
     "shell.execute_reply.started": "2025-04-07T04:57:24.329549Z"
    }
   },
   "outputs": [],
   "source": [
    "params = {\n",
    "    'learning_rate': 0.09,\n",
    "    'n_estimators': 450,\n",
    "    'max_depth': 12,\n",
    "    'min_child_weight': 12,\n",
    "    'subsample': 0.55,\n",
    "    'gamma': 0.032,\n",
    "    'colsample_bytree': 1,\n",
    "    'objective': 'reg:squarederror',\n",
    "    'tree_method': 'hist',\n",
    "    'device' : 'cuda'\n",
    "}"
   ]
  },
  {
   "cell_type": "code",
   "execution_count": 56,
   "metadata": {
    "execution": {
     "iopub.execute_input": "2025-04-07T04:57:24.641108Z",
     "iopub.status.busy": "2025-04-07T04:57:24.640267Z",
     "iopub.status.idle": "2025-04-07T04:57:34.334265Z",
     "shell.execute_reply": "2025-04-07T04:57:34.333572Z",
     "shell.execute_reply.started": "2025-04-07T04:57:24.641067Z"
    }
   },
   "outputs": [
    {
     "name": "stdout",
     "output_type": "stream",
     "text": [
      "RMSE:  0.00452225324029777\n",
      "R^2:  0.8223210481644131\n"
     ]
    }
   ],
   "source": [
    "xgb_reg = xgb.XGBRegressor(**params, seed = 42)\n",
    "y_pred, xgb_model = run_model(xgb_reg, training_X, testing_X, training_y, testing_y)"
   ]
  },
  {
   "cell_type": "code",
   "execution_count": 57,
   "metadata": {
    "execution": {
     "iopub.execute_input": "2025-04-07T04:57:34.335348Z",
     "iopub.status.busy": "2025-04-07T04:57:34.335081Z",
     "iopub.status.idle": "2025-04-07T04:57:34.443418Z",
     "shell.execute_reply": "2025-04-07T04:57:34.442957Z",
     "shell.execute_reply.started": "2025-04-07T04:57:34.335333Z"
    }
   },
   "outputs": [
    {
     "data": {
      "image/png": "[encoded data removed]",
      "text/plain": [
       "<Figure size 640x480 with 1 Axes>"
      ]
     },
     "metadata": {},
     "output_type": "display_data"
    }
   ],
   "source": [
    "plot_importance(xgb_model)\n",
    "plt.show()"
   ]
  },
  {
   "cell_type": "code",
   "execution_count": null,
   "metadata": {},
   "outputs": [],
   "source": []
  },
  {
   "cell_type": "code",
   "execution_count": null,
   "metadata": {},
   "outputs": [],
   "source": []
  },
  {
   "cell_type": "code",
   "execution_count": 43,
   "metadata": {
    "execution": {
     "iopub.execute_input": "2025-04-07T04:19:34.455169Z",
     "iopub.status.busy": "2025-04-07T04:19:34.454638Z",
     "iopub.status.idle": "2025-04-07T04:19:34.464670Z",
     "shell.execute_reply": "2025-04-07T04:19:34.463738Z",
     "shell.execute_reply.started": "2025-04-07T04:19:34.455127Z"
    }
   },
   "outputs": [],
   "source": [
    "def tuning_function(alg, param_test, training_X, training_y):\n",
    "    \"\"\"\n",
    "    Tune the hyperparameters of the model\n",
    "    \n",
    "    Parameters:\n",
    "    -----------\n",
    "    alg: xgboost model\n",
    "        The xgboost model to be trained\n",
    "    param_test: dict\n",
    "        The hyperparameters to be tuned\n",
    "    training_X: pd dataframe\n",
    "        The training data\n",
    "    training_y: pd dataframe\n",
    "        The training label\n",
    "    \n",
    "    return: dict\n",
    "        The best hyperparameters\n",
    "    \"\"\"\n",
    "    gsearch = GridSearchCV(estimator = alg, \n",
    "                           param_grid = param_test, \n",
    "                           scoring='neg_mean_squared_error', \n",
    "                           n_jobs=-1,\n",
    "                           verbose=1,\n",
    "                           cv=4)\n",
    "    \n",
    "    gsearch.fit(training_X, training_y)\n",
    "\n",
    "    print(\"Best parameters found: \", gsearch.best_params_)\n",
    "    print(\"Lowest RMSE found: \", np.sqrt(np.abs(gsearch.best_score_)))\n",
    "\n",
    "    new_params = alg.get_xgb_params()\n",
    "    for key in gsearch.best_params_.keys():\n",
    "        new_params[key] = gsearch.best_params_[key]\n",
    "\n",
    "    alg = xgb.XGBRegressor(**new_params)\n",
    "\n",
    "    return alg, gsearch.cv_results_"
   ]
  },
  {
   "cell_type": "code",
   "execution_count": 44,
   "metadata": {
    "execution": {
     "iopub.execute_input": "2025-04-07T04:19:34.991960Z",
     "iopub.status.busy": "2025-04-07T04:19:34.991428Z",
     "iopub.status.idle": "2025-04-07T04:19:35.006107Z",
     "shell.execute_reply": "2025-04-07T04:19:35.005169Z",
     "shell.execute_reply.started": "2025-04-07T04:19:34.991921Z"
    }
   },
   "outputs": [],
   "source": [
    "def plot_gridsearch(grid, results, folds=4):\n",
    "\n",
    "    x = np.arange(0,len(results['params']))\n",
    "\n",
    "    fig = plt.figure(figsize=(16,4))\n",
    "    ax = plt.subplot(111)\n",
    "    cols=sns.color_palette(\"cubehelix\",folds)\n",
    "\n",
    "    for i in range(4):  \n",
    "\n",
    "        plt.scatter(x=x,y=results['split{}_test_score'.format(i)],\n",
    "                        color=cols[i],edgecolor='grey',s=50,\n",
    "                        alpha=0.5,label='Fold {}'.format(i+1))\n",
    "        plt.plot(x,results['split{}_test_score'.format(i)],\n",
    "                 color=cols[i])\n",
    "\n",
    "    plt.scatter(x=x,y=results['mean_test_score'],\n",
    "                    color='black',edgecolor='grey',s=50,\n",
    "                    alpha=0.5,label='Mean')\n",
    "    plt.plot(x,results['mean_test_score'],\n",
    "             color='black')\n",
    "\n",
    "    plt.ylabel('RMSE')\n",
    "\n",
    "    k = list(results['params'][0].keys())\n",
    "    if len(k) > 1: \n",
    "        labels = ['{}:{} \\n {}:{}'.format(k[0],\n",
    "                                            results['params'][i][k[0]],\n",
    "                                            k[1],\n",
    "                                            results['params'][i][k[1]],\n",
    "                                           ) for i in range(len(results['params']))]\n",
    "\n",
    "        plt.xlabel('Parameters')\n",
    "        plt.xticks(x, labels,rotation=90)\n",
    "    else:\n",
    "        plt.xlabel(k[0])\n",
    "        plt.xticks(x, grid[k[0]])\n",
    "\n",
    "    plt.legend()"
   ]
  },
  {
   "cell_type": "code",
   "execution_count": 45,
   "metadata": {
    "execution": {
     "iopub.execute_input": "2025-04-07T04:20:36.787898Z",
     "iopub.status.busy": "2025-04-07T04:20:36.787342Z",
     "iopub.status.idle": "2025-04-07T04:23:24.743255Z",
     "shell.execute_reply": "2025-04-07T04:23:24.742217Z",
     "shell.execute_reply.started": "2025-04-07T04:20:36.787857Z"
    }
   },
   "outputs": [
    {
     "name": "stdout",
     "output_type": "stream",
     "text": [
      "Fitting 4 folds for each of 7 candidates, totalling 28 fits\n"
     ]
    },
    {
     "name": "stderr",
     "output_type": "stream",
     "text": [
      "/g/data/jk72/yz7014/stf/testvenv/lib/python3.12/site-packages/xgboost/core.py:158: UserWarning: [14:21:35] WARNING: /workspace/src/common/error_msg.cc:58: Falling back to prediction using DMatrix due to mismatched devices. This might lead to higher memory usage and slower performance. XGBoost is running on: cuda:0, while the input data is on: cpu.\n",
      "Potential solutions:\n",
      "- Use a data structure that matches the device ordinal in the booster.\n",
      "- Set the device for booster before call to inplace_predict.\n",
      "\n",
      "This warning will only be shown once.\n",
      "\n",
      "  warnings.warn(smsg, UserWarning)\n",
      "/g/data/jk72/yz7014/stf/testvenv/lib/python3.12/site-packages/xgboost/core.py:158: UserWarning: [14:21:35] WARNING: /workspace/src/common/error_msg.cc:58: Falling back to prediction using DMatrix due to mismatched devices. This might lead to higher memory usage and slower performance. XGBoost is running on: cuda:0, while the input data is on: cpu.\n",
      "Potential solutions:\n",
      "- Use a data structure that matches the device ordinal in the booster.\n",
      "- Set the device for booster before call to inplace_predict.\n",
      "\n",
      "This warning will only be shown once.\n",
      "\n",
      "  warnings.warn(smsg, UserWarning)\n",
      "/g/data/jk72/yz7014/stf/testvenv/lib/python3.12/site-packages/xgboost/core.py:158: UserWarning: [14:21:35] WARNING: /workspace/src/common/error_msg.cc:58: Falling back to prediction using DMatrix due to mismatched devices. This might lead to higher memory usage and slower performance. XGBoost is running on: cuda:0, while the input data is on: cpu.\n",
      "Potential solutions:\n",
      "- Use a data structure that matches the device ordinal in the booster.\n",
      "- Set the device for booster before call to inplace_predict.\n",
      "\n",
      "This warning will only be shown once.\n",
      "\n",
      "  warnings.warn(smsg, UserWarning)\n",
      "/g/data/jk72/yz7014/stf/testvenv/lib/python3.12/site-packages/xgboost/core.py:158: UserWarning: [14:21:35] WARNING: /workspace/src/common/error_msg.cc:58: Falling back to prediction using DMatrix due to mismatched devices. This might lead to higher memory usage and slower performance. XGBoost is running on: cuda:0, while the input data is on: cpu.\n",
      "Potential solutions:\n",
      "- Use a data structure that matches the device ordinal in the booster.\n",
      "- Set the device for booster before call to inplace_predict.\n",
      "\n",
      "This warning will only be shown once.\n",
      "\n",
      "  warnings.warn(smsg, UserWarning)\n",
      "/g/data/jk72/yz7014/stf/testvenv/lib/python3.12/site-packages/xgboost/core.py:158: UserWarning: [14:21:36] WARNING: /workspace/src/common/error_msg.cc:58: Falling back to prediction using DMatrix due to mismatched devices. This might lead to higher memory usage and slower performance. XGBoost is running on: cuda:0, while the input data is on: cpu.\n",
      "Potential solutions:\n",
      "- Use a data structure that matches the device ordinal in the booster.\n",
      "- Set the device for booster before call to inplace_predict.\n",
      "\n",
      "This warning will only be shown once.\n",
      "\n",
      "  warnings.warn(smsg, UserWarning)\n",
      "/g/data/jk72/yz7014/stf/testvenv/lib/python3.12/site-packages/xgboost/core.py:158: UserWarning: [14:21:36] WARNING: /workspace/src/common/error_msg.cc:58: Falling back to prediction using DMatrix due to mismatched devices. This might lead to higher memory usage and slower performance. XGBoost is running on: cuda:0, while the input data is on: cpu.\n",
      "Potential solutions:\n",
      "- Use a data structure that matches the device ordinal in the booster.\n",
      "- Set the device for booster before call to inplace_predict.\n",
      "\n",
      "This warning will only be shown once.\n",
      "\n",
      "  warnings.warn(smsg, UserWarning)\n",
      "/g/data/jk72/yz7014/stf/testvenv/lib/python3.12/site-packages/xgboost/core.py:158: UserWarning: [14:21:36] WARNING: /workspace/src/common/error_msg.cc:58: Falling back to prediction using DMatrix due to mismatched devices. This might lead to higher memory usage and slower performance. XGBoost is running on: cuda:0, while the input data is on: cpu.\n",
      "Potential solutions:\n",
      "- Use a data structure that matches the device ordinal in the booster.\n",
      "- Set the device for booster before call to inplace_predict.\n",
      "\n",
      "This warning will only be shown once.\n",
      "\n",
      "  warnings.warn(smsg, UserWarning)\n",
      "/g/data/jk72/yz7014/stf/testvenv/lib/python3.12/site-packages/xgboost/core.py:158: UserWarning: [14:21:36] WARNING: /workspace/src/common/error_msg.cc:58: Falling back to prediction using DMatrix due to mismatched devices. This might lead to higher memory usage and slower performance. XGBoost is running on: cuda:0, while the input data is on: cpu.\n",
      "Potential solutions:\n",
      "- Use a data structure that matches the device ordinal in the booster.\n",
      "- Set the device for booster before call to inplace_predict.\n",
      "\n",
      "This warning will only be shown once.\n",
      "\n",
      "  warnings.warn(smsg, UserWarning)\n",
      "/g/data/jk72/yz7014/stf/testvenv/lib/python3.12/site-packages/xgboost/core.py:158: UserWarning: [14:23:14] WARNING: /workspace/src/common/error_msg.cc:58: Falling back to prediction using DMatrix due to mismatched devices. This might lead to higher memory usage and slower performance. XGBoost is running on: cuda:0, while the input data is on: cpu.\n",
      "Potential solutions:\n",
      "- Use a data structure that matches the device ordinal in the booster.\n",
      "- Set the device for booster before call to inplace_predict.\n",
      "\n",
      "This warning will only be shown once.\n",
      "\n",
      "  warnings.warn(smsg, UserWarning)\n",
      "/g/data/jk72/yz7014/stf/testvenv/lib/python3.12/site-packages/xgboost/core.py:158: UserWarning: [14:23:14] WARNING: /workspace/src/common/error_msg.cc:58: Falling back to prediction using DMatrix due to mismatched devices. This might lead to higher memory usage and slower performance. XGBoost is running on: cuda:0, while the input data is on: cpu.\n",
      "Potential solutions:\n",
      "- Use a data structure that matches the device ordinal in the booster.\n",
      "- Set the device for booster before call to inplace_predict.\n",
      "\n",
      "This warning will only be shown once.\n",
      "\n",
      "  warnings.warn(smsg, UserWarning)\n",
      "/g/data/jk72/yz7014/stf/testvenv/lib/python3.12/site-packages/xgboost/core.py:158: UserWarning: [14:23:14] WARNING: /workspace/src/common/error_msg.cc:58: Falling back to prediction using DMatrix due to mismatched devices. This might lead to higher memory usage and slower performance. XGBoost is running on: cuda:0, while the input data is on: cpu.\n",
      "Potential solutions:\n",
      "- Use a data structure that matches the device ordinal in the booster.\n",
      "- Set the device for booster before call to inplace_predict.\n",
      "\n",
      "This warning will only be shown once.\n",
      "\n",
      "  warnings.warn(smsg, UserWarning)\n",
      "/g/data/jk72/yz7014/stf/testvenv/lib/python3.12/site-packages/xgboost/core.py:158: UserWarning: [14:23:14] WARNING: /workspace/src/common/error_msg.cc:58: Falling back to prediction using DMatrix due to mismatched devices. This might lead to higher memory usage and slower performance. XGBoost is running on: cuda:0, while the input data is on: cpu.\n",
      "Potential solutions:\n",
      "- Use a data structure that matches the device ordinal in the booster.\n",
      "- Set the device for booster before call to inplace_predict.\n",
      "\n",
      "This warning will only be shown once.\n",
      "\n",
      "  warnings.warn(smsg, UserWarning)\n"
     ]
    },
    {
     "name": "stdout",
     "output_type": "stream",
     "text": [
      "Best parameters found:  {'gamma': 0.04}\n",
      "Lowest RMSE found:  0.004474650476618781\n"
     ]
    }
   ],
   "source": [
    "# gamma\n",
    "grid_3 = {'gamma': [0, 0.02, 0.04, 0.06, 0.08, 0.1, 0.12]}\n",
    "xgb_reg, results_3 = tuning_function(xgb_reg, grid_3, training_X, training_y)"
   ]
  },
  {
   "cell_type": "code",
   "execution_count": 46,
   "metadata": {
    "execution": {
     "iopub.execute_input": "2025-04-07T04:23:24.744531Z",
     "iopub.status.busy": "2025-04-07T04:23:24.744350Z",
     "iopub.status.idle": "2025-04-07T04:23:24.751926Z",
     "shell.execute_reply": "2025-04-07T04:23:24.751360Z",
     "shell.execute_reply.started": "2025-04-07T04:23:24.744514Z"
    }
   },
   "outputs": [
    {
     "data": {
      "text/plain": [
       "{'mean_fit_time': array([137.47883773,  39.44650102,  38.46021163,  34.99034125,\n",
       "         34.70543969,  33.99331158,  33.97970444]),\n",
       " 'std_fit_time': array([0.17207977, 0.02780472, 0.30177084, 0.21169182, 0.08233323,\n",
       "        0.30696161, 0.05803725]),\n",
       " 'mean_score_time': array([0.71399033, 0.51688957, 0.50190276, 0.43394661, 0.43601441,\n",
       "        0.44360948, 0.48424166]),\n",
       " 'std_score_time': array([0.12003823, 0.0340521 , 0.0398134 , 0.02535407, 0.01420368,\n",
       "        0.02193108, 0.00407283]),\n",
       " 'param_gamma': masked_array(data=[0.0, 0.02, 0.04, 0.06, 0.08, 0.1, 0.12],\n",
       "              mask=[False, False, False, False, False, False, False],\n",
       "        fill_value=1e+20),\n",
       " 'params': [{'gamma': 0},\n",
       "  {'gamma': 0.02},\n",
       "  {'gamma': 0.04},\n",
       "  {'gamma': 0.06},\n",
       "  {'gamma': 0.08},\n",
       "  {'gamma': 0.1},\n",
       "  {'gamma': 0.12}],\n",
       " 'split0_test_score': array([-2.29079952e-05, -1.90285609e-05, -1.90377956e-05, -1.92928839e-05,\n",
       "        -1.94092950e-05, -1.95582275e-05, -1.97318482e-05]),\n",
       " 'split1_test_score': array([-1.86472800e-05, -1.48523503e-05, -1.50077285e-05, -1.52231322e-05,\n",
       "        -1.54395888e-05, -1.55991500e-05, -1.58048173e-05]),\n",
       " 'split2_test_score': array([-2.79405895e-05, -2.47388812e-05, -2.47831134e-05, -2.51003480e-05,\n",
       "        -2.54184466e-05, -2.55873328e-05, -2.58422501e-05]),\n",
       " 'split3_test_score': array([-2.50969173e-05, -2.17167269e-05, -2.12613502e-05, -2.10733655e-05,\n",
       "        -2.06949910e-05, -2.09819710e-05, -2.08710427e-05]),\n",
       " 'mean_test_score': array([-2.36481955e-05, -2.00841299e-05, -2.00224969e-05, -2.01724324e-05,\n",
       "        -2.02405803e-05, -2.04316703e-05, -2.05624896e-05]),\n",
       " 'std_test_score': array([3.39413073e-06, 3.63379369e-06, 3.54668035e-06, 3.54842255e-06,\n",
       "        3.56220939e-06, 3.57070865e-06, 3.58107829e-06]),\n",
       " 'rank_test_score': array([7, 2, 1, 3, 4, 5, 6], dtype=int32)}"
      ]
     },
     "execution_count": 46,
     "metadata": {},
     "output_type": "execute_result"
    }
   ],
   "source": [
    "results_3"
   ]
  },
  {
   "cell_type": "code",
   "execution_count": 47,
   "metadata": {
    "execution": {
     "iopub.execute_input": "2025-04-07T04:23:24.752489Z",
     "iopub.status.busy": "2025-04-07T04:23:24.752343Z",
     "iopub.status.idle": "2025-04-07T04:23:25.141172Z",
     "shell.execute_reply": "2025-04-07T04:23:25.140554Z",
     "shell.execute_reply.started": "2025-04-07T04:23:24.752476Z"
    }
   },
   "outputs": [
    {
     "data": {
      "image/png": "[encoded data removed]",
      "text/plain": [
       "<Figure size 1600x400 with 1 Axes>"
      ]
     },
     "metadata": {},
     "output_type": "display_data"
    }
   ],
   "source": [
    "plot_gridsearch(grid_3, results_3)"
   ]
  },
  {
   "cell_type": "code",
   "execution_count": 51,
   "metadata": {
    "execution": {
     "iopub.execute_input": "2025-04-07T04:49:48.872001Z",
     "iopub.status.busy": "2025-04-07T04:49:48.871039Z",
     "iopub.status.idle": "2025-04-07T04:51:47.468695Z",
     "shell.execute_reply": "2025-04-07T04:51:47.467838Z",
     "shell.execute_reply.started": "2025-04-07T04:49:48.871958Z"
    }
   },
   "outputs": [
    {
     "name": "stdout",
     "output_type": "stream",
     "text": [
      "Fitting 4 folds for each of 6 candidates, totalling 24 fits\n"
     ]
    },
    {
     "name": "stderr",
     "output_type": "stream",
     "text": [
      "/g/data/jk72/yz7014/stf/testvenv/lib/python3.12/site-packages/xgboost/core.py:158: UserWarning: [14:51:01] WARNING: /workspace/src/common/error_msg.cc:58: Falling back to prediction using DMatrix due to mismatched devices. This might lead to higher memory usage and slower performance. XGBoost is running on: cuda:0, while the input data is on: cpu.\n",
      "Potential solutions:\n",
      "- Use a data structure that matches the device ordinal in the booster.\n",
      "- Set the device for booster before call to inplace_predict.\n",
      "\n",
      "This warning will only be shown once.\n",
      "\n",
      "  warnings.warn(smsg, UserWarning)\n",
      "/g/data/jk72/yz7014/stf/testvenv/lib/python3.12/site-packages/xgboost/core.py:158: UserWarning: [14:51:01] WARNING: /workspace/src/common/error_msg.cc:58: Falling back to prediction using DMatrix due to mismatched devices. This might lead to higher memory usage and slower performance. XGBoost is running on: cuda:0, while the input data is on: cpu.\n",
      "Potential solutions:\n",
      "- Use a data structure that matches the device ordinal in the booster.\n",
      "- Set the device for booster before call to inplace_predict.\n",
      "\n",
      "This warning will only be shown once.\n",
      "\n",
      "  warnings.warn(smsg, UserWarning)\n",
      "/g/data/jk72/yz7014/stf/testvenv/lib/python3.12/site-packages/xgboost/core.py:158: UserWarning: [14:51:01] WARNING: /workspace/src/common/error_msg.cc:58: Falling back to prediction using DMatrix due to mismatched devices. This might lead to higher memory usage and slower performance. XGBoost is running on: cuda:0, while the input data is on: cpu.\n",
      "Potential solutions:\n",
      "- Use a data structure that matches the device ordinal in the booster.\n",
      "- Set the device for booster before call to inplace_predict.\n",
      "\n",
      "This warning will only be shown once.\n",
      "\n",
      "  warnings.warn(smsg, UserWarning)\n",
      "/g/data/jk72/yz7014/stf/testvenv/lib/python3.12/site-packages/xgboost/core.py:158: UserWarning: [14:51:01] WARNING: /workspace/src/common/error_msg.cc:58: Falling back to prediction using DMatrix due to mismatched devices. This might lead to higher memory usage and slower performance. XGBoost is running on: cuda:0, while the input data is on: cpu.\n",
      "Potential solutions:\n",
      "- Use a data structure that matches the device ordinal in the booster.\n",
      "- Set the device for booster before call to inplace_predict.\n",
      "\n",
      "This warning will only be shown once.\n",
      "\n",
      "  warnings.warn(smsg, UserWarning)\n",
      "/g/data/jk72/yz7014/stf/testvenv/lib/python3.12/site-packages/xgboost/core.py:158: UserWarning: [14:51:01] WARNING: /workspace/src/common/error_msg.cc:58: Falling back to prediction using DMatrix due to mismatched devices. This might lead to higher memory usage and slower performance. XGBoost is running on: cuda:0, while the input data is on: cpu.\n",
      "Potential solutions:\n",
      "- Use a data structure that matches the device ordinal in the booster.\n",
      "- Set the device for booster before call to inplace_predict.\n",
      "\n",
      "This warning will only be shown once.\n",
      "\n",
      "  warnings.warn(smsg, UserWarning)\n",
      "/g/data/jk72/yz7014/stf/testvenv/lib/python3.12/site-packages/xgboost/core.py:158: UserWarning: [14:51:02] WARNING: /workspace/src/common/error_msg.cc:58: Falling back to prediction using DMatrix due to mismatched devices. This might lead to higher memory usage and slower performance. XGBoost is running on: cuda:0, while the input data is on: cpu.\n",
      "Potential solutions:\n",
      "- Use a data structure that matches the device ordinal in the booster.\n",
      "- Set the device for booster before call to inplace_predict.\n",
      "\n",
      "This warning will only be shown once.\n",
      "\n",
      "  warnings.warn(smsg, UserWarning)\n",
      "/g/data/jk72/yz7014/stf/testvenv/lib/python3.12/site-packages/xgboost/core.py:158: UserWarning: [14:51:02] WARNING: /workspace/src/common/error_msg.cc:58: Falling back to prediction using DMatrix due to mismatched devices. This might lead to higher memory usage and slower performance. XGBoost is running on: cuda:0, while the input data is on: cpu.\n",
      "Potential solutions:\n",
      "- Use a data structure that matches the device ordinal in the booster.\n",
      "- Set the device for booster before call to inplace_predict.\n",
      "\n",
      "This warning will only be shown once.\n",
      "\n",
      "  warnings.warn(smsg, UserWarning)\n",
      "/g/data/jk72/yz7014/stf/testvenv/lib/python3.12/site-packages/xgboost/core.py:158: UserWarning: [14:51:02] WARNING: /workspace/src/common/error_msg.cc:58: Falling back to prediction using DMatrix due to mismatched devices. This might lead to higher memory usage and slower performance. XGBoost is running on: cuda:0, while the input data is on: cpu.\n",
      "Potential solutions:\n",
      "- Use a data structure that matches the device ordinal in the booster.\n",
      "- Set the device for booster before call to inplace_predict.\n",
      "\n",
      "This warning will only be shown once.\n",
      "\n",
      "  warnings.warn(smsg, UserWarning)\n",
      "/g/data/jk72/yz7014/stf/testvenv/lib/python3.12/site-packages/xgboost/core.py:158: UserWarning: [14:51:02] WARNING: /workspace/src/common/error_msg.cc:58: Falling back to prediction using DMatrix due to mismatched devices. This might lead to higher memory usage and slower performance. XGBoost is running on: cuda:0, while the input data is on: cpu.\n",
      "Potential solutions:\n",
      "- Use a data structure that matches the device ordinal in the booster.\n",
      "- Set the device for booster before call to inplace_predict.\n",
      "\n",
      "This warning will only be shown once.\n",
      "\n",
      "  warnings.warn(smsg, UserWarning)\n",
      "/g/data/jk72/yz7014/stf/testvenv/lib/python3.12/site-packages/xgboost/core.py:158: UserWarning: [14:51:02] WARNING: /workspace/src/common/error_msg.cc:58: Falling back to prediction using DMatrix due to mismatched devices. This might lead to higher memory usage and slower performance. XGBoost is running on: cuda:0, while the input data is on: cpu.\n",
      "Potential solutions:\n",
      "- Use a data structure that matches the device ordinal in the booster.\n",
      "- Set the device for booster before call to inplace_predict.\n",
      "\n",
      "This warning will only be shown once.\n",
      "\n",
      "  warnings.warn(smsg, UserWarning)\n",
      "/g/data/jk72/yz7014/stf/testvenv/lib/python3.12/site-packages/xgboost/core.py:158: UserWarning: [14:51:02] WARNING: /workspace/src/common/error_msg.cc:58: Falling back to prediction using DMatrix due to mismatched devices. This might lead to higher memory usage and slower performance. XGBoost is running on: cuda:0, while the input data is on: cpu.\n",
      "Potential solutions:\n",
      "- Use a data structure that matches the device ordinal in the booster.\n",
      "- Set the device for booster before call to inplace_predict.\n",
      "\n",
      "This warning will only be shown once.\n",
      "\n",
      "  warnings.warn(smsg, UserWarning)\n",
      "/g/data/jk72/yz7014/stf/testvenv/lib/python3.12/site-packages/xgboost/core.py:158: UserWarning: [14:51:02] WARNING: /workspace/src/common/error_msg.cc:58: Falling back to prediction using DMatrix due to mismatched devices. This might lead to higher memory usage and slower performance. XGBoost is running on: cuda:0, while the input data is on: cpu.\n",
      "Potential solutions:\n",
      "- Use a data structure that matches the device ordinal in the booster.\n",
      "- Set the device for booster before call to inplace_predict.\n",
      "\n",
      "This warning will only be shown once.\n",
      "\n",
      "  warnings.warn(smsg, UserWarning)\n"
     ]
    },
    {
     "name": "stdout",
     "output_type": "stream",
     "text": [
      "Best parameters found:  {'gamma': 0.032}\n",
      "Lowest RMSE found:  0.004469040118137674\n"
     ]
    }
   ],
   "source": [
    "# gamma\n",
    "grid_4 = {'gamma': [0.012, 0.016, 0.02, 0.024, 0.028, 0.032]}\n",
    "xgb_reg, results_4 = tuning_function(xgb_reg, grid_4, training_X, training_y)"
   ]
  },
  {
   "cell_type": "code",
   "execution_count": 53,
   "metadata": {
    "execution": {
     "iopub.execute_input": "2025-04-07T04:56:46.403726Z",
     "iopub.status.busy": "2025-04-07T04:56:46.402477Z",
     "iopub.status.idle": "2025-04-07T04:56:46.463348Z",
     "shell.execute_reply": "2025-04-07T04:56:46.462396Z",
     "shell.execute_reply.started": "2025-04-07T04:56:46.403677Z"
    }
   },
   "outputs": [
    {
     "data": {
      "text/plain": [
       "{'mean_fit_time': array([37.5480938 , 36.99346226, 36.69672948, 34.53850091, 34.75718385,\n",
       "        34.48306382]),\n",
       " 'std_fit_time': array([0.51342354, 0.57979819, 0.34766217, 0.24665701, 0.06889677,\n",
       "        0.03189427]),\n",
       " 'mean_score_time': array([0.4280647 , 0.44545841, 0.46056277, 0.45425195, 0.45090193,\n",
       "        0.41236025]),\n",
       " 'std_score_time': array([0.00862918, 0.01911299, 0.01218439, 0.03648598, 0.04002733,\n",
       "        0.05055434]),\n",
       " 'param_gamma': masked_array(data=[0.012, 0.016, 0.02, 0.024, 0.028, 0.032],\n",
       "              mask=[False, False, False, False, False, False],\n",
       "        fill_value=1e+20),\n",
       " 'params': [{'gamma': 0.012},\n",
       "  {'gamma': 0.016},\n",
       "  {'gamma': 0.02},\n",
       "  {'gamma': 0.024},\n",
       "  {'gamma': 0.028},\n",
       "  {'gamma': 0.032}],\n",
       " 'split0_test_score': array([-1.92260069e-05, -1.89003833e-05, -1.90285609e-05, -1.89727586e-05,\n",
       "        -1.89431446e-05, -1.89039998e-05]),\n",
       " 'split1_test_score': array([-1.47739152e-05, -1.47583002e-05, -1.48523503e-05, -1.48932302e-05,\n",
       "        -1.49300653e-05, -1.49219742e-05]),\n",
       " 'split2_test_score': array([-2.46877209e-05, -2.47388888e-05, -2.47388812e-05, -2.46515185e-05,\n",
       "        -2.48201761e-05, -2.47302160e-05]),\n",
       " 'split3_test_score': array([-2.20090392e-05, -2.19174590e-05, -2.17167269e-05, -2.16935359e-05,\n",
       "        -2.17800932e-05, -2.13330883e-05]),\n",
       " 'mean_test_score': array([-2.01741706e-05, -2.00787578e-05, -2.00841299e-05, -2.00527608e-05,\n",
       "        -2.01183698e-05, -1.99723196e-05]),\n",
       " 'std_test_score': array([3.66744640e-06, 3.70113088e-06, 3.63379369e-06, 3.59262702e-06,\n",
       "        3.64581833e-06, 3.57549178e-06]),\n",
       " 'rank_test_score': array([6, 3, 4, 2, 5, 1], dtype=int32)}"
      ]
     },
     "execution_count": 53,
     "metadata": {},
     "output_type": "execute_result"
    }
   ],
   "source": [
    "results_4"
   ]
  },
  {
   "cell_type": "code",
   "execution_count": 54,
   "metadata": {
    "execution": {
     "iopub.execute_input": "2025-04-07T04:56:46.961558Z",
     "iopub.status.busy": "2025-04-07T04:56:46.960709Z",
     "iopub.status.idle": "2025-04-07T04:56:47.475411Z",
     "shell.execute_reply": "2025-04-07T04:56:47.474792Z",
     "shell.execute_reply.started": "2025-04-07T04:56:46.961519Z"
    }
   },
   "outputs": [
    {
     "data": {
      "image/png": "[encoded data removed]",
      "text/plain": [
       "<Figure size 1600x400 with 1 Axes>"
      ]
     },
     "metadata": {},
     "output_type": "display_data"
    }
   ],
   "source": [
    "plot_gridsearch(grid_4, results_4)"
   ]
  },
  {
   "cell_type": "code",
   "execution_count": null,
   "metadata": {},
   "outputs": [],
   "source": []
  },
  {
   "cell_type": "code",
   "execution_count": null,
   "metadata": {},
   "outputs": [],
   "source": [
    "xgb.plot_tree(xgb_model, num_trees=0)\n",
    "plt.rcParams['figure.figsize'] = [50,10]\n",
    "plt.show()"
   ]
  }
 ],
 "metadata": {
  "kernelspec": {
   "display_name": "Python 3 (ipykernel)",
   "language": "python",
   "name": "python3"
  },
  "language_info": {
   "codemirror_mode": {
    "name": "ipython",
    "version": 3
   },
   "file_extension": ".py",
   "mimetype": "text/x-python",
   "name": "python",
   "nbconvert_exporter": "python",
   "pygments_lexer": "ipython3",
   "version": "3.12.1"
  }
 },
 "nbformat": 4,
 "nbformat_minor": 4
}
