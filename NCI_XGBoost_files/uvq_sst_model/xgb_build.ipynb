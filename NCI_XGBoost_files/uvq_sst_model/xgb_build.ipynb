{
 "cells": [
  {
   "cell_type": "code",
   "execution_count": 1,
   "metadata": {
    "execution": {
     "iopub.execute_input": "2025-04-26T05:15:42.740476Z",
     "iopub.status.busy": "2025-04-26T05:15:42.740183Z",
     "iopub.status.idle": "2025-04-26T05:17:43.012630Z",
     "shell.execute_reply": "2025-04-26T05:17:43.011388Z",
     "shell.execute_reply.started": "2025-04-26T05:15:42.740456Z"
    },
    "tags": []
   },
   "outputs": [],
   "source": [
    "import xarray as xr\n",
    "import pandas as pd\n",
    "import numpy as np\n",
    "import cartopy.crs as ccrs\n",
    "import matplotlib.colors as colors\n",
    "import matplotlib as mpl\n",
    "import pandas as pd\n",
    "import matplotlib\n",
    "import matplotlib.pyplot as plt\n",
    "import cartopy.feature as cfeature \n",
    "import cartopy.mpl.ticker as cticker \n",
    "import imageio\n",
    "import os\n",
    "import cupy\n",
    "import xgboost as xgb\n",
    "import seaborn as sns\n",
    "from sklearn.model_selection import KFold\n",
    "from sklearn.metrics import r2_score\n",
    "from sklearn.metrics import mean_squared_error\n",
    "from sklearn.model_selection import GridSearchCV\n",
    "from skopt import BayesSearchCV\n",
    "from skopt.space import Real, Integer\n",
    "from xgboost import plot_importance, plot_tree"
   ]
  },
  {
   "cell_type": "code",
   "execution_count": 2,
   "metadata": {
    "execution": {
     "iopub.execute_input": "2025-04-26T05:17:43.015075Z",
     "iopub.status.busy": "2025-04-26T05:17:43.014371Z",
     "iopub.status.idle": "2025-04-26T05:17:43.021587Z",
     "shell.execute_reply": "2025-04-26T05:17:43.020461Z",
     "shell.execute_reply.started": "2025-04-26T05:17:43.015030Z"
    }
   },
   "outputs": [],
   "source": [
    "import warnings\n",
    "warnings.filterwarnings(action='once')\n",
    "warnings.filterwarnings(\"ignore\",category=DeprecationWarning)\n",
    "warnings.simplefilter(action='ignore', category=FutureWarning)"
   ]
  },
  {
   "cell_type": "code",
   "execution_count": 3,
   "metadata": {
    "execution": {
     "iopub.execute_input": "2025-04-26T05:17:43.023241Z",
     "iopub.status.busy": "2025-04-26T05:17:43.022735Z",
     "iopub.status.idle": "2025-04-26T05:18:26.980048Z",
     "shell.execute_reply": "2025-04-26T05:18:26.978819Z",
     "shell.execute_reply.started": "2025-04-26T05:17:43.023202Z"
    },
    "tags": []
   },
   "outputs": [
    {
     "name": "stdout",
     "output_type": "stream",
     "text": [
      "CUDA available: True\n",
      "Number of CUDA devices: 1\n",
      "Device 0: Tesla V100-SXM2-32GB\n"
     ]
    }
   ],
   "source": [
    "import torch\n",
    "print(f\"CUDA available: {torch.cuda.is_available()}\")\n",
    "print(f\"Number of CUDA devices: {torch.cuda.device_count()}\")\n",
    "\n",
    "if torch.cuda.is_available():\n",
    "    for i in range(torch.cuda.device_count()):\n",
    "        print(f\"Device {i}: {torch.cuda.get_device_name(i)}\")"
   ]
  },
  {
   "cell_type": "code",
   "execution_count": 4,
   "metadata": {
    "execution": {
     "iopub.execute_input": "2025-04-26T05:18:26.982899Z",
     "iopub.status.busy": "2025-04-26T05:18:26.982453Z",
     "iopub.status.idle": "2025-04-26T05:18:37.312134Z",
     "shell.execute_reply": "2025-04-26T05:18:37.310756Z",
     "shell.execute_reply.started": "2025-04-26T05:18:26.982860Z"
    }
   },
   "outputs": [],
   "source": [
    "from dask.distributed import Client\n",
    "client = Client(processes=False)"
   ]
  },
  {
   "cell_type": "code",
   "execution_count": 5,
   "metadata": {
    "execution": {
     "iopub.execute_input": "2025-04-26T05:18:37.313753Z",
     "iopub.status.busy": "2025-04-26T05:18:37.313327Z",
     "iopub.status.idle": "2025-04-26T05:18:37.477439Z",
     "shell.execute_reply": "2025-04-26T05:18:37.476397Z",
     "shell.execute_reply.started": "2025-04-26T05:18:37.313713Z"
    }
   },
   "outputs": [
    {
     "data": {
      "text/html": [
       "<div>\n",
       "    <div style=\"width: 24px; height: 24px; background-color: #e1e1e1; border: 3px solid #9D9D9D; border-radius: 5px; position: absolute;\"> </div>\n",
       "    <div style=\"margin-left: 48px;\">\n",
       "        <h3 style=\"margin-bottom: 0px;\">Client</h3>\n",
       "        <p style=\"color: #9D9D9D; margin-bottom: 0px;\">Client-e7a1b098-225d-11f0-a250-000003b8fe80</p>\n",
       "        <table style=\"width: 100%; text-align: left;\">\n",
       "\n",
       "        <tr>\n",
       "        \n",
       "            <td style=\"text-align: left;\"><strong>Connection method:</strong> Cluster object</td>\n",
       "            <td style=\"text-align: left;\"><strong>Cluster type:</strong> distributed.LocalCluster</td>\n",
       "        \n",
       "        </tr>\n",
       "\n",
       "        \n",
       "            <tr>\n",
       "                <td style=\"text-align: left;\">\n",
       "                    <strong>Dashboard: </strong> <a href=\"/proxy/8787/status\" target=\"_blank\">/proxy/8787/status</a>\n",
       "                </td>\n",
       "                <td style=\"text-align: left;\"></td>\n",
       "            </tr>\n",
       "        \n",
       "\n",
       "        </table>\n",
       "\n",
       "        \n",
       "\n",
       "        \n",
       "            <details>\n",
       "            <summary style=\"margin-bottom: 20px;\"><h3 style=\"display: inline;\">Cluster Info</h3></summary>\n",
       "            <div class=\"jp-RenderedHTMLCommon jp-RenderedHTML jp-mod-trusted jp-OutputArea-output\">\n",
       "    <div style=\"width: 24px; height: 24px; background-color: #e1e1e1; border: 3px solid #9D9D9D; border-radius: 5px; position: absolute;\">\n",
       "    </div>\n",
       "    <div style=\"margin-left: 48px;\">\n",
       "        <h3 style=\"margin-bottom: 0px; margin-top: 0px;\">LocalCluster</h3>\n",
       "        <p style=\"color: #9D9D9D; margin-bottom: 0px;\">3a250a61</p>\n",
       "        <table style=\"width: 100%; text-align: left;\">\n",
       "            <tr>\n",
       "                <td style=\"text-align: left;\">\n",
       "                    <strong>Dashboard:</strong> <a href=\"/proxy/8787/status\" target=\"_blank\">/proxy/8787/status</a>\n",
       "                </td>\n",
       "                <td style=\"text-align: left;\">\n",
       "                    <strong>Workers:</strong> 1\n",
       "                </td>\n",
       "            </tr>\n",
       "            <tr>\n",
       "                <td style=\"text-align: left;\">\n",
       "                    <strong>Total threads:</strong> 12\n",
       "                </td>\n",
       "                <td style=\"text-align: left;\">\n",
       "                    <strong>Total memory:</strong> 95.00 GiB\n",
       "                </td>\n",
       "            </tr>\n",
       "            \n",
       "            <tr>\n",
       "    <td style=\"text-align: left;\"><strong>Status:</strong> running</td>\n",
       "    <td style=\"text-align: left;\"><strong>Using processes:</strong> False</td>\n",
       "</tr>\n",
       "\n",
       "            \n",
       "        </table>\n",
       "\n",
       "        <details>\n",
       "            <summary style=\"margin-bottom: 20px;\">\n",
       "                <h3 style=\"display: inline;\">Scheduler Info</h3>\n",
       "            </summary>\n",
       "\n",
       "            <div style=\"\">\n",
       "    <div>\n",
       "        <div style=\"width: 24px; height: 24px; background-color: #FFF7E5; border: 3px solid #FF6132; border-radius: 5px; position: absolute;\"> </div>\n",
       "        <div style=\"margin-left: 48px;\">\n",
       "            <h3 style=\"margin-bottom: 0px;\">Scheduler</h3>\n",
       "            <p style=\"color: #9D9D9D; margin-bottom: 0px;\">Scheduler-ca74d61a-5b7a-4ab1-95ea-f11e04e2aca5</p>\n",
       "            <table style=\"width: 100%; text-align: left;\">\n",
       "                <tr>\n",
       "                    <td style=\"text-align: left;\">\n",
       "                        <strong>Comm:</strong> inproc://10.6.10.18/909904/1\n",
       "                    </td>\n",
       "                    <td style=\"text-align: left;\">\n",
       "                        <strong>Workers:</strong> 1\n",
       "                    </td>\n",
       "                </tr>\n",
       "                <tr>\n",
       "                    <td style=\"text-align: left;\">\n",
       "                        <strong>Dashboard:</strong> <a href=\"/proxy/8787/status\" target=\"_blank\">/proxy/8787/status</a>\n",
       "                    </td>\n",
       "                    <td style=\"text-align: left;\">\n",
       "                        <strong>Total threads:</strong> 12\n",
       "                    </td>\n",
       "                </tr>\n",
       "                <tr>\n",
       "                    <td style=\"text-align: left;\">\n",
       "                        <strong>Started:</strong> Just now\n",
       "                    </td>\n",
       "                    <td style=\"text-align: left;\">\n",
       "                        <strong>Total memory:</strong> 95.00 GiB\n",
       "                    </td>\n",
       "                </tr>\n",
       "            </table>\n",
       "        </div>\n",
       "    </div>\n",
       "\n",
       "    <details style=\"margin-left: 48px;\">\n",
       "        <summary style=\"margin-bottom: 20px;\">\n",
       "            <h3 style=\"display: inline;\">Workers</h3>\n",
       "        </summary>\n",
       "\n",
       "        \n",
       "        <div style=\"margin-bottom: 20px;\">\n",
       "            <div style=\"width: 24px; height: 24px; background-color: #DBF5FF; border: 3px solid #4CC9FF; border-radius: 5px; position: absolute;\"> </div>\n",
       "            <div style=\"margin-left: 48px;\">\n",
       "            <details>\n",
       "                <summary>\n",
       "                    <h4 style=\"margin-bottom: 0px; display: inline;\">Worker: 0</h4>\n",
       "                </summary>\n",
       "                <table style=\"width: 100%; text-align: left;\">\n",
       "                    <tr>\n",
       "                        <td style=\"text-align: left;\">\n",
       "                            <strong>Comm: </strong> inproc://10.6.10.18/909904/4\n",
       "                        </td>\n",
       "                        <td style=\"text-align: left;\">\n",
       "                            <strong>Total threads: </strong> 12\n",
       "                        </td>\n",
       "                    </tr>\n",
       "                    <tr>\n",
       "                        <td style=\"text-align: left;\">\n",
       "                            <strong>Dashboard: </strong> <a href=\"/proxy/33177/status\" target=\"_blank\">/proxy/33177/status</a>\n",
       "                        </td>\n",
       "                        <td style=\"text-align: left;\">\n",
       "                            <strong>Memory: </strong> 95.00 GiB\n",
       "                        </td>\n",
       "                    </tr>\n",
       "                    <tr>\n",
       "                        <td style=\"text-align: left;\">\n",
       "                            <strong>Nanny: </strong> None\n",
       "                        </td>\n",
       "                        <td style=\"text-align: left;\"></td>\n",
       "                    </tr>\n",
       "                    <tr>\n",
       "                        <td colspan=\"2\" style=\"text-align: left;\">\n",
       "                            <strong>Local directory: </strong> /jobfs/139951438.gadi-pbs/dask-scratch-space/worker-jfmkcwl0\n",
       "                        </td>\n",
       "                    </tr>\n",
       "\n",
       "                    \n",
       "\n",
       "                    \n",
       "\n",
       "                </table>\n",
       "            </details>\n",
       "            </div>\n",
       "        </div>\n",
       "        \n",
       "\n",
       "    </details>\n",
       "</div>\n",
       "\n",
       "        </details>\n",
       "    </div>\n",
       "</div>\n",
       "            </details>\n",
       "        \n",
       "\n",
       "    </div>\n",
       "</div>"
      ],
      "text/plain": [
       "<Client: 'inproc://10.6.10.18/909904/1' processes=1 threads=12, memory=95.00 GiB>"
      ]
     },
     "execution_count": 5,
     "metadata": {},
     "output_type": "execute_result"
    }
   ],
   "source": [
    "client"
   ]
  },
  {
   "cell_type": "code",
   "execution_count": 6,
   "metadata": {
    "execution": {
     "iopub.execute_input": "2025-04-26T05:18:37.479147Z",
     "iopub.status.busy": "2025-04-26T05:18:37.478349Z",
     "iopub.status.idle": "2025-04-26T05:18:37.483274Z",
     "shell.execute_reply": "2025-04-26T05:18:37.482245Z",
     "shell.execute_reply.started": "2025-04-26T05:18:37.479116Z"
    }
   },
   "outputs": [],
   "source": [
    "matplotlib.rcParams['font.family'] = 'Times New Roman'\n"
   ]
  },
  {
   "cell_type": "code",
   "execution_count": 7,
   "metadata": {
    "execution": {
     "iopub.execute_input": "2025-04-26T05:18:37.484594Z",
     "iopub.status.busy": "2025-04-26T05:18:37.484183Z",
     "iopub.status.idle": "2025-04-26T05:18:37.491759Z",
     "shell.execute_reply": "2025-04-26T05:18:37.490707Z",
     "shell.execute_reply.started": "2025-04-26T05:18:37.484565Z"
    }
   },
   "outputs": [
    {
     "name": "stdout",
     "output_type": "stream",
     "text": [
      "2.1.3\n"
     ]
    }
   ],
   "source": [
    "print(xgb.__version__)"
   ]
  },
  {
   "cell_type": "markdown",
   "metadata": {},
   "source": [
    "# Read the data (the csv files that contains u850 v850 q850 and total precipitation)"
   ]
  },
  {
   "cell_type": "code",
   "execution_count": 8,
   "metadata": {
    "execution": {
     "iopub.execute_input": "2025-04-26T05:18:37.493209Z",
     "iopub.status.busy": "2025-04-26T05:18:37.492773Z",
     "iopub.status.idle": "2025-04-26T05:18:53.143221Z",
     "shell.execute_reply": "2025-04-26T05:18:53.141944Z",
     "shell.execute_reply.started": "2025-04-26T05:18:37.493177Z"
    }
   },
   "outputs": [
    {
     "data": {
      "text/html": [
       "<div>\n",
       "<style scoped>\n",
       "    .dataframe tbody tr th:only-of-type {\n",
       "        vertical-align: middle;\n",
       "    }\n",
       "\n",
       "    .dataframe tbody tr th {\n",
       "        vertical-align: top;\n",
       "    }\n",
       "\n",
       "    .dataframe thead th {\n",
       "        text-align: right;\n",
       "    }\n",
       "</style>\n",
       "<table border=\"1\" class=\"dataframe\">\n",
       "  <thead>\n",
       "    <tr style=\"text-align: right;\">\n",
       "      <th></th>\n",
       "      <th>Unnamed: 0</th>\n",
       "      <th>longitude</th>\n",
       "      <th>latitude</th>\n",
       "      <th>u</th>\n",
       "      <th>v</th>\n",
       "      <th>q</th>\n",
       "      <th>sst</th>\n",
       "      <th>tp</th>\n",
       "      <th>day</th>\n",
       "      <th>year</th>\n",
       "    </tr>\n",
       "  </thead>\n",
       "  <tbody>\n",
       "    <tr>\n",
       "      <th>0</th>\n",
       "      <td>0</td>\n",
       "      <td>150.0</td>\n",
       "      <td>-15.0</td>\n",
       "      <td>-1.431877</td>\n",
       "      <td>0.406518</td>\n",
       "      <td>0.014361</td>\n",
       "      <td>302.392775</td>\n",
       "      <td>0.021885</td>\n",
       "      <td>0</td>\n",
       "      <td>1998</td>\n",
       "    </tr>\n",
       "    <tr>\n",
       "      <th>1</th>\n",
       "      <td>1</td>\n",
       "      <td>150.0</td>\n",
       "      <td>-15.0</td>\n",
       "      <td>8.473993</td>\n",
       "      <td>3.889071</td>\n",
       "      <td>0.014225</td>\n",
       "      <td>302.120615</td>\n",
       "      <td>0.026688</td>\n",
       "      <td>1</td>\n",
       "      <td>1998</td>\n",
       "    </tr>\n",
       "    <tr>\n",
       "      <th>2</th>\n",
       "      <td>2</td>\n",
       "      <td>150.0</td>\n",
       "      <td>-15.0</td>\n",
       "      <td>9.701285</td>\n",
       "      <td>12.309663</td>\n",
       "      <td>0.013478</td>\n",
       "      <td>301.808543</td>\n",
       "      <td>0.015503</td>\n",
       "      <td>2</td>\n",
       "      <td>1998</td>\n",
       "    </tr>\n",
       "    <tr>\n",
       "      <th>3</th>\n",
       "      <td>3</td>\n",
       "      <td>150.0</td>\n",
       "      <td>-15.0</td>\n",
       "      <td>6.530669</td>\n",
       "      <td>9.872260</td>\n",
       "      <td>0.014280</td>\n",
       "      <td>301.575891</td>\n",
       "      <td>0.014156</td>\n",
       "      <td>3</td>\n",
       "      <td>1998</td>\n",
       "    </tr>\n",
       "    <tr>\n",
       "      <th>4</th>\n",
       "      <td>4</td>\n",
       "      <td>150.0</td>\n",
       "      <td>-15.0</td>\n",
       "      <td>5.889120</td>\n",
       "      <td>5.809094</td>\n",
       "      <td>0.013236</td>\n",
       "      <td>301.472827</td>\n",
       "      <td>0.006033</td>\n",
       "      <td>4</td>\n",
       "      <td>1998</td>\n",
       "    </tr>\n",
       "    <tr>\n",
       "      <th>...</th>\n",
       "      <td>...</td>\n",
       "      <td>...</td>\n",
       "      <td>...</td>\n",
       "      <td>...</td>\n",
       "      <td>...</td>\n",
       "      <td>...</td>\n",
       "      <td>...</td>\n",
       "      <td>...</td>\n",
       "      <td>...</td>\n",
       "      <td>...</td>\n",
       "    </tr>\n",
       "    <tr>\n",
       "      <th>15531826</th>\n",
       "      <td>15531826</td>\n",
       "      <td>170.0</td>\n",
       "      <td>-20.0</td>\n",
       "      <td>-0.501214</td>\n",
       "      <td>-5.505222</td>\n",
       "      <td>0.012862</td>\n",
       "      <td>301.758803</td>\n",
       "      <td>0.013507</td>\n",
       "      <td>9126</td>\n",
       "      <td>2022</td>\n",
       "    </tr>\n",
       "    <tr>\n",
       "      <th>15531827</th>\n",
       "      <td>15531827</td>\n",
       "      <td>170.0</td>\n",
       "      <td>-20.0</td>\n",
       "      <td>3.435006</td>\n",
       "      <td>-5.006035</td>\n",
       "      <td>0.013322</td>\n",
       "      <td>301.785924</td>\n",
       "      <td>0.060589</td>\n",
       "      <td>9127</td>\n",
       "      <td>2022</td>\n",
       "    </tr>\n",
       "    <tr>\n",
       "      <th>15531828</th>\n",
       "      <td>15531828</td>\n",
       "      <td>170.0</td>\n",
       "      <td>-20.0</td>\n",
       "      <td>7.359803</td>\n",
       "      <td>-8.244948</td>\n",
       "      <td>0.014317</td>\n",
       "      <td>301.670985</td>\n",
       "      <td>0.067293</td>\n",
       "      <td>9128</td>\n",
       "      <td>2022</td>\n",
       "    </tr>\n",
       "    <tr>\n",
       "      <th>15531829</th>\n",
       "      <td>15531829</td>\n",
       "      <td>170.0</td>\n",
       "      <td>-20.0</td>\n",
       "      <td>11.160101</td>\n",
       "      <td>-5.078793</td>\n",
       "      <td>0.010328</td>\n",
       "      <td>301.260967</td>\n",
       "      <td>0.001096</td>\n",
       "      <td>9129</td>\n",
       "      <td>2022</td>\n",
       "    </tr>\n",
       "    <tr>\n",
       "      <th>15531830</th>\n",
       "      <td>15531830</td>\n",
       "      <td>170.0</td>\n",
       "      <td>-20.0</td>\n",
       "      <td>8.902538</td>\n",
       "      <td>-6.537571</td>\n",
       "      <td>0.010368</td>\n",
       "      <td>301.339278</td>\n",
       "      <td>0.001683</td>\n",
       "      <td>9130</td>\n",
       "      <td>2022</td>\n",
       "    </tr>\n",
       "  </tbody>\n",
       "</table>\n",
       "<p>15531831 rows × 10 columns</p>\n",
       "</div>"
      ],
      "text/plain": [
       "          Unnamed: 0  longitude  latitude          u          v         q  \\\n",
       "0                  0      150.0     -15.0  -1.431877   0.406518  0.014361   \n",
       "1                  1      150.0     -15.0   8.473993   3.889071  0.014225   \n",
       "2                  2      150.0     -15.0   9.701285  12.309663  0.013478   \n",
       "3                  3      150.0     -15.0   6.530669   9.872260  0.014280   \n",
       "4                  4      150.0     -15.0   5.889120   5.809094  0.013236   \n",
       "...              ...        ...       ...        ...        ...       ...   \n",
       "15531826    15531826      170.0     -20.0  -0.501214  -5.505222  0.012862   \n",
       "15531827    15531827      170.0     -20.0   3.435006  -5.006035  0.013322   \n",
       "15531828    15531828      170.0     -20.0   7.359803  -8.244948  0.014317   \n",
       "15531829    15531829      170.0     -20.0  11.160101  -5.078793  0.010328   \n",
       "15531830    15531830      170.0     -20.0   8.902538  -6.537571  0.010368   \n",
       "\n",
       "                 sst        tp   day  year  \n",
       "0         302.392775  0.021885     0  1998  \n",
       "1         302.120615  0.026688     1  1998  \n",
       "2         301.808543  0.015503     2  1998  \n",
       "3         301.575891  0.014156     3  1998  \n",
       "4         301.472827  0.006033     4  1998  \n",
       "...              ...       ...   ...   ...  \n",
       "15531826  301.758803  0.013507  9126  2022  \n",
       "15531827  301.785924  0.060589  9127  2022  \n",
       "15531828  301.670985  0.067293  9128  2022  \n",
       "15531829  301.260967  0.001096  9129  2022  \n",
       "15531830  301.339278  0.001683  9130  2022  \n",
       "\n",
       "[15531831 rows x 10 columns]"
      ]
     },
     "execution_count": 8,
     "metadata": {},
     "output_type": "execute_result"
    }
   ],
   "source": [
    "total_data_dir = \"/g/data/v46/yz7014/xgbmodel_sst_q_u_v/pd_u850_v850_q850_tp.csv\"\n",
    "total_data = pd.read_csv(total_data_dir)\n",
    "total_data"
   ]
  },
  {
   "cell_type": "code",
   "execution_count": 9,
   "metadata": {
    "execution": {
     "iopub.execute_input": "2025-04-26T05:18:53.145118Z",
     "iopub.status.busy": "2025-04-26T05:18:53.144708Z",
     "iopub.status.idle": "2025-04-26T05:18:53.463398Z",
     "shell.execute_reply": "2025-04-26T05:18:53.462743Z",
     "shell.execute_reply.started": "2025-04-26T05:18:53.145081Z"
    }
   },
   "outputs": [
    {
     "data": {
      "text/html": [
       "<div>\n",
       "<style scoped>\n",
       "    .dataframe tbody tr th:only-of-type {\n",
       "        vertical-align: middle;\n",
       "    }\n",
       "\n",
       "    .dataframe tbody tr th {\n",
       "        vertical-align: top;\n",
       "    }\n",
       "\n",
       "    .dataframe thead th {\n",
       "        text-align: right;\n",
       "    }\n",
       "</style>\n",
       "<table border=\"1\" class=\"dataframe\">\n",
       "  <thead>\n",
       "    <tr style=\"text-align: right;\">\n",
       "      <th></th>\n",
       "      <th>longitude</th>\n",
       "      <th>latitude</th>\n",
       "      <th>u</th>\n",
       "      <th>v</th>\n",
       "      <th>q</th>\n",
       "      <th>sst</th>\n",
       "      <th>tp</th>\n",
       "      <th>day</th>\n",
       "      <th>year</th>\n",
       "    </tr>\n",
       "  </thead>\n",
       "  <tbody>\n",
       "    <tr>\n",
       "      <th>0</th>\n",
       "      <td>150.0</td>\n",
       "      <td>-15.0</td>\n",
       "      <td>-1.431877</td>\n",
       "      <td>0.406518</td>\n",
       "      <td>0.014361</td>\n",
       "      <td>302.392775</td>\n",
       "      <td>0.021885</td>\n",
       "      <td>0</td>\n",
       "      <td>1998</td>\n",
       "    </tr>\n",
       "    <tr>\n",
       "      <th>1</th>\n",
       "      <td>150.0</td>\n",
       "      <td>-15.0</td>\n",
       "      <td>8.473993</td>\n",
       "      <td>3.889071</td>\n",
       "      <td>0.014225</td>\n",
       "      <td>302.120615</td>\n",
       "      <td>0.026688</td>\n",
       "      <td>1</td>\n",
       "      <td>1998</td>\n",
       "    </tr>\n",
       "    <tr>\n",
       "      <th>2</th>\n",
       "      <td>150.0</td>\n",
       "      <td>-15.0</td>\n",
       "      <td>9.701285</td>\n",
       "      <td>12.309663</td>\n",
       "      <td>0.013478</td>\n",
       "      <td>301.808543</td>\n",
       "      <td>0.015503</td>\n",
       "      <td>2</td>\n",
       "      <td>1998</td>\n",
       "    </tr>\n",
       "    <tr>\n",
       "      <th>3</th>\n",
       "      <td>150.0</td>\n",
       "      <td>-15.0</td>\n",
       "      <td>6.530669</td>\n",
       "      <td>9.872260</td>\n",
       "      <td>0.014280</td>\n",
       "      <td>301.575891</td>\n",
       "      <td>0.014156</td>\n",
       "      <td>3</td>\n",
       "      <td>1998</td>\n",
       "    </tr>\n",
       "    <tr>\n",
       "      <th>4</th>\n",
       "      <td>150.0</td>\n",
       "      <td>-15.0</td>\n",
       "      <td>5.889120</td>\n",
       "      <td>5.809094</td>\n",
       "      <td>0.013236</td>\n",
       "      <td>301.472827</td>\n",
       "      <td>0.006033</td>\n",
       "      <td>4</td>\n",
       "      <td>1998</td>\n",
       "    </tr>\n",
       "    <tr>\n",
       "      <th>...</th>\n",
       "      <td>...</td>\n",
       "      <td>...</td>\n",
       "      <td>...</td>\n",
       "      <td>...</td>\n",
       "      <td>...</td>\n",
       "      <td>...</td>\n",
       "      <td>...</td>\n",
       "      <td>...</td>\n",
       "      <td>...</td>\n",
       "    </tr>\n",
       "    <tr>\n",
       "      <th>15531826</th>\n",
       "      <td>170.0</td>\n",
       "      <td>-20.0</td>\n",
       "      <td>-0.501214</td>\n",
       "      <td>-5.505222</td>\n",
       "      <td>0.012862</td>\n",
       "      <td>301.758803</td>\n",
       "      <td>0.013507</td>\n",
       "      <td>9126</td>\n",
       "      <td>2022</td>\n",
       "    </tr>\n",
       "    <tr>\n",
       "      <th>15531827</th>\n",
       "      <td>170.0</td>\n",
       "      <td>-20.0</td>\n",
       "      <td>3.435006</td>\n",
       "      <td>-5.006035</td>\n",
       "      <td>0.013322</td>\n",
       "      <td>301.785924</td>\n",
       "      <td>0.060589</td>\n",
       "      <td>9127</td>\n",
       "      <td>2022</td>\n",
       "    </tr>\n",
       "    <tr>\n",
       "      <th>15531828</th>\n",
       "      <td>170.0</td>\n",
       "      <td>-20.0</td>\n",
       "      <td>7.359803</td>\n",
       "      <td>-8.244948</td>\n",
       "      <td>0.014317</td>\n",
       "      <td>301.670985</td>\n",
       "      <td>0.067293</td>\n",
       "      <td>9128</td>\n",
       "      <td>2022</td>\n",
       "    </tr>\n",
       "    <tr>\n",
       "      <th>15531829</th>\n",
       "      <td>170.0</td>\n",
       "      <td>-20.0</td>\n",
       "      <td>11.160101</td>\n",
       "      <td>-5.078793</td>\n",
       "      <td>0.010328</td>\n",
       "      <td>301.260967</td>\n",
       "      <td>0.001096</td>\n",
       "      <td>9129</td>\n",
       "      <td>2022</td>\n",
       "    </tr>\n",
       "    <tr>\n",
       "      <th>15531830</th>\n",
       "      <td>170.0</td>\n",
       "      <td>-20.0</td>\n",
       "      <td>8.902538</td>\n",
       "      <td>-6.537571</td>\n",
       "      <td>0.010368</td>\n",
       "      <td>301.339278</td>\n",
       "      <td>0.001683</td>\n",
       "      <td>9130</td>\n",
       "      <td>2022</td>\n",
       "    </tr>\n",
       "  </tbody>\n",
       "</table>\n",
       "<p>15531831 rows × 9 columns</p>\n",
       "</div>"
      ],
      "text/plain": [
       "          longitude  latitude          u          v         q         sst  \\\n",
       "0             150.0     -15.0  -1.431877   0.406518  0.014361  302.392775   \n",
       "1             150.0     -15.0   8.473993   3.889071  0.014225  302.120615   \n",
       "2             150.0     -15.0   9.701285  12.309663  0.013478  301.808543   \n",
       "3             150.0     -15.0   6.530669   9.872260  0.014280  301.575891   \n",
       "4             150.0     -15.0   5.889120   5.809094  0.013236  301.472827   \n",
       "...             ...       ...        ...        ...       ...         ...   \n",
       "15531826      170.0     -20.0  -0.501214  -5.505222  0.012862  301.758803   \n",
       "15531827      170.0     -20.0   3.435006  -5.006035  0.013322  301.785924   \n",
       "15531828      170.0     -20.0   7.359803  -8.244948  0.014317  301.670985   \n",
       "15531829      170.0     -20.0  11.160101  -5.078793  0.010328  301.260967   \n",
       "15531830      170.0     -20.0   8.902538  -6.537571  0.010368  301.339278   \n",
       "\n",
       "                tp   day  year  \n",
       "0         0.021885     0  1998  \n",
       "1         0.026688     1  1998  \n",
       "2         0.015503     2  1998  \n",
       "3         0.014156     3  1998  \n",
       "4         0.006033     4  1998  \n",
       "...            ...   ...   ...  \n",
       "15531826  0.013507  9126  2022  \n",
       "15531827  0.060589  9127  2022  \n",
       "15531828  0.067293  9128  2022  \n",
       "15531829  0.001096  9129  2022  \n",
       "15531830  0.001683  9130  2022  \n",
       "\n",
       "[15531831 rows x 9 columns]"
      ]
     },
     "execution_count": 9,
     "metadata": {},
     "output_type": "execute_result"
    }
   ],
   "source": [
    "total_data = total_data.drop(columns = 'Unnamed: 0')\n",
    "total_data"
   ]
  },
  {
   "cell_type": "markdown",
   "metadata": {},
   "source": [
    "# Split the training and testing data\n",
    "- Randomly split the training and testing data by year\n",
    "- Delete NaN data"
   ]
  },
  {
   "cell_type": "code",
   "execution_count": 10,
   "metadata": {
    "execution": {
     "iopub.execute_input": "2025-04-26T05:18:53.465653Z",
     "iopub.status.busy": "2025-04-26T05:18:53.465481Z",
     "iopub.status.idle": "2025-04-26T05:18:53.470847Z",
     "shell.execute_reply": "2025-04-26T05:18:53.470189Z",
     "shell.execute_reply.started": "2025-04-26T05:18:53.465639Z"
    }
   },
   "outputs": [],
   "source": [
    "def training_testing_split(data):\n",
    "    \"\"\"\n",
    "    Split the data into training and testing data\n",
    "    \n",
    "    Parameters:\n",
    "    -----------\n",
    "    data: pd dataframe\n",
    "        The data to be split\n",
    "    \n",
    "    return: pd dataframe, pd dataframe\n",
    "        The training and testing data\n",
    "    \"\"\"\n",
    "    years = list(range(1998, 2022))\n",
    "    shuffled_years = pd.Series(years).sample(frac=1).tolist()\n",
    "    training_years = shuffled_years[:18]\n",
    "    testing_years = shuffled_years[18:]\n",
    "\n",
    "    training_data = data[data['year'].isin(training_years)].dropna()\n",
    "    testing_data = data[data['year'].isin(testing_years)].dropna()\n",
    "\n",
    "    training_X = training_data.drop(columns = ['tp', 'year'], axis = 1)\n",
    "    training_y = training_data['tp']\n",
    "    testing_X = testing_data.drop(columns = ['tp', 'year'], axis = 1)\n",
    "    testing_y = testing_data['tp']\n",
    "    print('Training years: ', training_years)\n",
    "    print('Testing years: ', testing_years)\n",
    "    return training_X, testing_X, training_y, testing_y, training_years, testing_years"
   ]
  },
  {
   "cell_type": "markdown",
   "metadata": {},
   "source": [
    "# XGBoost build"
   ]
  },
  {
   "cell_type": "code",
   "execution_count": 11,
   "metadata": {
    "execution": {
     "iopub.execute_input": "2025-04-26T05:18:53.471321Z",
     "iopub.status.busy": "2025-04-26T05:18:53.471179Z",
     "iopub.status.idle": "2025-04-26T05:18:53.479440Z",
     "shell.execute_reply": "2025-04-26T05:18:53.478454Z",
     "shell.execute_reply.started": "2025-04-26T05:18:53.471308Z"
    }
   },
   "outputs": [],
   "source": [
    "def run_model(xgb_reg, training_X, testing_X, training_y, testing_y):\n",
    "    \"\"\"\n",
    "    Train the model and return the model and the prediction\n",
    "    \n",
    "    Parameters:\n",
    "    -----------\n",
    "    xgb_reg: xgboost model\n",
    "        The xgboost model to be trained\n",
    "    training_X: pd dataframe\n",
    "        The training data\n",
    "    testing_X: pd dataframe\n",
    "        The testing data\n",
    "    training_y: pd dataframe\n",
    "        The training label\n",
    "    testing_y: pd dataframe\n",
    "        The testing label\n",
    "    \n",
    "    return: xgboost model, np array\n",
    "        The trained model and the prediction\n",
    "    \"\"\"\n",
    "    \n",
    "    \n",
    "    xgb_model = xgb_reg.fit(training_X, training_y)\n",
    "    y_pred = xgb_reg.predict(testing_X)\n",
    "    rmse = np.sqrt(mean_squared_error(testing_y, y_pred))\n",
    "    r2 = r2_score(testing_y, y_pred)\n",
    "    print('RMSE: ', rmse)\n",
    "    print('R^2: ', r2)\n",
    "\n",
    "    return y_pred, xgb_model"
   ]
  },
  {
   "cell_type": "code",
   "execution_count": 12,
   "metadata": {
    "execution": {
     "iopub.execute_input": "2025-04-26T05:18:53.480366Z",
     "iopub.status.busy": "2025-04-26T05:18:53.480187Z",
     "iopub.status.idle": "2025-04-26T05:18:53.485628Z",
     "shell.execute_reply": "2025-04-26T05:18:53.484511Z",
     "shell.execute_reply.started": "2025-04-26T05:18:53.480350Z"
    }
   },
   "outputs": [],
   "source": [
    "params = {\n",
    "    'learning_rate': 0.01,\n",
    "    'n_estimators': 650,\n",
    "    'max_depth': 15,\n",
    "    'min_child_weight': 10,\n",
    "    'subsample': 0.55,\n",
    "    'gamma': 0.1,\n",
    "    'colsample_bytree': 1,\n",
    "    'objective': 'reg:squarederror',\n",
    "    'tree_method': 'hist',\n",
    "    'device' : 'cuda'\n",
    "}"
   ]
  },
  {
   "cell_type": "code",
   "execution_count": 13,
   "metadata": {
    "execution": {
     "iopub.execute_input": "2025-04-26T05:18:53.486343Z",
     "iopub.status.busy": "2025-04-26T05:18:53.486170Z",
     "iopub.status.idle": "2025-04-26T05:18:55.095472Z",
     "shell.execute_reply": "2025-04-26T05:18:55.094523Z",
     "shell.execute_reply.started": "2025-04-26T05:18:53.486328Z"
    }
   },
   "outputs": [
    {
     "name": "stdout",
     "output_type": "stream",
     "text": [
      "Training years:  [2001, 2004, 1999, 2006, 2017, 1998, 2013, 2002, 2010, 2019, 2009, 2000, 2011, 2007, 2016, 2018, 2021, 2003]\n",
      "Testing years:  [2015, 2012, 2020, 2014, 2008, 2005]\n"
     ]
    }
   ],
   "source": [
    "training_X, testing_X, training_y, testing_y, training_years, testing_years = training_testing_split(total_data)"
   ]
  },
  {
   "cell_type": "code",
   "execution_count": null,
   "metadata": {},
   "outputs": [],
   "source": []
  },
  {
   "cell_type": "code",
   "execution_count": 14,
   "metadata": {
    "execution": {
     "iopub.execute_input": "2025-04-26T05:18:55.096231Z",
     "iopub.status.busy": "2025-04-26T05:18:55.096070Z",
     "iopub.status.idle": "2025-04-26T05:19:11.024607Z",
     "shell.execute_reply": "2025-04-26T05:19:11.023862Z",
     "shell.execute_reply.started": "2025-04-26T05:18:55.096217Z"
    }
   },
   "outputs": [
    {
     "name": "stderr",
     "output_type": "stream",
     "text": [
      "/g/data/jk72/yz7014/stf/testvenv/lib/python3.12/site-packages/xgboost/core.py:158: UserWarning: [15:19:10] WARNING: /workspace/src/common/error_msg.cc:58: Falling back to prediction using DMatrix due to mismatched devices. This might lead to higher memory usage and slower performance. XGBoost is running on: cuda:0, while the input data is on: cpu.\n",
      "Potential solutions:\n",
      "- Use a data structure that matches the device ordinal in the booster.\n",
      "- Set the device for booster before call to inplace_predict.\n",
      "\n",
      "This warning will only be shown once.\n",
      "\n",
      "  warnings.warn(smsg, UserWarning)\n"
     ]
    },
    {
     "name": "stdout",
     "output_type": "stream",
     "text": [
      "RMSE:  0.008015310277790755\n",
      "R^2:  0.35875265484074603\n"
     ]
    }
   ],
   "source": [
    "\n",
    "xgb_reg = xgb.XGBRegressor(**params, seed = 42)\n",
    "y_pred, xgb_model = run_model(xgb_reg, training_X, testing_X, training_y, testing_y)"
   ]
  },
  {
   "cell_type": "code",
   "execution_count": 15,
   "metadata": {
    "execution": {
     "iopub.execute_input": "2025-04-26T05:19:11.025841Z",
     "iopub.status.busy": "2025-04-26T05:19:11.025579Z",
     "iopub.status.idle": "2025-04-26T05:19:12.363806Z",
     "shell.execute_reply": "2025-04-26T05:19:12.363148Z",
     "shell.execute_reply.started": "2025-04-26T05:19:11.025826Z"
    }
   },
   "outputs": [
    {
     "data": {
      "image/png": "[encoded data removed]",
      "text/plain": [
       "<Figure size 640x480 with 1 Axes>"
      ]
     },
     "metadata": {},
     "output_type": "display_data"
    }
   ],
   "source": [
    "plot_importance(xgb_model)\n",
    "plt.show()"
   ]
  },
  {
   "cell_type": "code",
   "execution_count": null,
   "metadata": {},
   "outputs": [],
   "source": []
  },
  {
   "cell_type": "code",
   "execution_count": null,
   "metadata": {},
   "outputs": [],
   "source": []
  },
  {
   "cell_type": "code",
   "execution_count": 16,
   "metadata": {
    "execution": {
     "iopub.execute_input": "2025-04-26T05:19:12.364989Z",
     "iopub.status.busy": "2025-04-26T05:19:12.364464Z",
     "iopub.status.idle": "2025-04-26T05:19:12.368619Z",
     "shell.execute_reply": "2025-04-26T05:19:12.367966Z",
     "shell.execute_reply.started": "2025-04-26T05:19:12.364969Z"
    }
   },
   "outputs": [],
   "source": [
    "params = {\n",
    "    'learning_rate': 0.01,\n",
    "    'n_estimators': 700,\n",
    "    'max_depth': 15,\n",
    "    'min_child_weight': 10,\n",
    "    'subsample': 0.55,\n",
    "    'gamma': 0.01,\n",
    "    'colsample_bytree': 1,\n",
    "    'objective': 'reg:squarederror',\n",
    "}"
   ]
  },
  {
   "cell_type": "code",
   "execution_count": 17,
   "metadata": {
    "execution": {
     "iopub.execute_input": "2025-04-26T05:19:12.369385Z",
     "iopub.status.busy": "2025-04-26T05:19:12.369203Z",
     "iopub.status.idle": "2025-04-26T05:19:12.376817Z",
     "shell.execute_reply": "2025-04-26T05:19:12.376072Z",
     "shell.execute_reply.started": "2025-04-26T05:19:12.369369Z"
    }
   },
   "outputs": [],
   "source": [
    "xgb_reg = xgb.XGBRegressor(**params, seed = 42)"
   ]
  },
  {
   "cell_type": "code",
   "execution_count": null,
   "metadata": {},
   "outputs": [],
   "source": []
  },
  {
   "cell_type": "markdown",
   "metadata": {},
   "source": [
    "# Tuning\n"
   ]
  },
  {
   "cell_type": "markdown",
   "metadata": {},
   "source": [
    "## Try to use Bayesian optimization to tuning the model"
   ]
  },
  {
   "cell_type": "code",
   "execution_count": 18,
   "metadata": {
    "execution": {
     "iopub.execute_input": "2025-04-26T05:19:12.377604Z",
     "iopub.status.busy": "2025-04-26T05:19:12.377425Z",
     "iopub.status.idle": "2025-04-26T05:19:12.385064Z",
     "shell.execute_reply": "2025-04-26T05:19:12.384198Z",
     "shell.execute_reply.started": "2025-04-26T05:19:12.377588Z"
    }
   },
   "outputs": [],
   "source": [
    "def bayesian_tuning(X_train, y_train, X_test, y_test, param_test, alg):\n",
    "    \"\"\"\n",
    "    Optimize XGBoost hyperparameters using Bayesian Optimization with GPU support.\n",
    "    \"\"\"\n",
    "    # Add GPU parameters to all models created during tuning\n",
    "    param_space = param_test.copy()  # Make a copy to avoid modifying the original\n",
    "    \n",
    "    # Define fixed GPU parameters\n",
    "    gpu_params = {\n",
    "        'tree_method': 'hist',\n",
    "        'device': 'cuda'\n",
    "    }\n",
    "    \n",
    "    # Update the base model with GPU parameters\n",
    "    model = alg\n",
    "    model.set_params(**gpu_params)\n",
    "    \n",
    "    optimizer = BayesSearchCV(\n",
    "        model,\n",
    "        param_space,\n",
    "        n_iter = 20,\n",
    "        cv = 4,\n",
    "        verbose = 1,\n",
    "        n_jobs = 1\n",
    "    )\n",
    "\n",
    "    optimizer.fit(X_train, y_train)\n",
    "    \n",
    "    best_params = optimizer.best_params_.copy()\n",
    "    best_params.update(gpu_params)\n",
    "    \n",
    "    # Create the best model with GPU parameters\n",
    "    best_model = xgb.XGBRegressor(**best_params, random_state=42)\n",
    "    best_model.fit(X_train, y_train)\n",
    "    \n",
    "    # Make predictions\n",
    "    y_pred = best_model.predict(X_test)\n",
    "    test_score = mean_squared_error(y_test, y_pred, squared=False)\n",
    "    \n",
    "    results = {\n",
    "        'best_params': best_params,\n",
    "        'rmse': test_score,\n",
    "        'best_model': best_model,\n",
    "        'best_score_cv': optimizer.best_score_,\n",
    "        'test_accuracy': 1 - test_score/np.mean(y_test)  # Approximate accuracy measure for regression\n",
    "    }\n",
    "    \n",
    "    return results\n",
    "    \n",
    "    "
   ]
  },
  {
   "cell_type": "code",
   "execution_count": 19,
   "metadata": {
    "execution": {
     "iopub.execute_input": "2025-04-26T05:19:12.386683Z",
     "iopub.status.busy": "2025-04-26T05:19:12.385799Z",
     "iopub.status.idle": "2025-04-26T06:30:04.333635Z",
     "shell.execute_reply": "2025-04-26T06:30:04.331055Z",
     "shell.execute_reply.started": "2025-04-26T05:19:12.386661Z"
    },
    "scrolled": true
   },
   "outputs": [
    {
     "name": "stdout",
     "output_type": "stream",
     "text": [
      "Fitting 4 folds for each of 1 candidates, totalling 4 fits\n",
      "Fitting 4 folds for each of 1 candidates, totalling 4 fits\n",
      "Fitting 4 folds for each of 1 candidates, totalling 4 fits\n",
      "Fitting 4 folds for each of 1 candidates, totalling 4 fits\n",
      "Fitting 4 folds for each of 1 candidates, totalling 4 fits\n",
      "Fitting 4 folds for each of 1 candidates, totalling 4 fits\n",
      "Fitting 4 folds for each of 1 candidates, totalling 4 fits\n",
      "Fitting 4 folds for each of 1 candidates, totalling 4 fits\n",
      "Fitting 4 folds for each of 1 candidates, totalling 4 fits\n",
      "Fitting 4 folds for each of 1 candidates, totalling 4 fits\n",
      "Fitting 4 folds for each of 1 candidates, totalling 4 fits\n",
      "Fitting 4 folds for each of 1 candidates, totalling 4 fits\n",
      "Fitting 4 folds for each of 1 candidates, totalling 4 fits\n",
      "Fitting 4 folds for each of 1 candidates, totalling 4 fits\n",
      "Fitting 4 folds for each of 1 candidates, totalling 4 fits\n",
      "Fitting 4 folds for each of 1 candidates, totalling 4 fits\n",
      "Fitting 4 folds for each of 1 candidates, totalling 4 fits\n",
      "Fitting 4 folds for each of 1 candidates, totalling 4 fits\n",
      "Fitting 4 folds for each of 1 candidates, totalling 4 fits\n",
      "Fitting 4 folds for each of 1 candidates, totalling 4 fits\n",
      "\n",
      "Best Parameters:\n",
      "gamma: 0.0\n",
      "learning_rate: 0.01\n",
      "max_depth: 15\n",
      "min_child_weight: 18\n",
      "n_estimators: 800\n",
      "tree_method: hist\n",
      "device: cuda\n",
      "\n",
      "Best CV Score: 0.4169\n",
      "Test Accuracy: -1.1484\n"
     ]
    }
   ],
   "source": [
    "param_test = {\n",
    "    'n_estimators': Integer(450, 800),\n",
    "    'learning_rate': Real(0.01, 0.1),\n",
    "    'max_depth': Integer(10,20),\n",
    "    'gamma': Real(0, 0.3),\n",
    "    'min_child_weight': Integer(12,18)\n",
    "}\n",
    "\n",
    "results = bayesian_tuning(training_X, training_y, testing_X, testing_y, param_test, xgb_reg)\n",
    "print(\"\\nBest Parameters:\")\n",
    "for param, value in results['best_params'].items():\n",
    "    print(f\"{param}: {value}\")\n",
    "print(f\"\\nBest CV Score: {results['best_score_cv']:.4f}\")\n",
    "print(f\"Test Accuracy: {results['test_accuracy']:.4f}\")"
   ]
  },
  {
   "cell_type": "code",
   "execution_count": null,
   "metadata": {},
   "outputs": [],
   "source": []
  },
  {
   "cell_type": "code",
   "execution_count": null,
   "metadata": {},
   "outputs": [],
   "source": []
  },
  {
   "cell_type": "code",
   "execution_count": 20,
   "metadata": {
    "execution": {
     "iopub.execute_input": "2025-04-26T06:30:04.338495Z",
     "iopub.status.busy": "2025-04-26T06:30:04.338106Z",
     "iopub.status.idle": "2025-04-26T06:30:04.343609Z",
     "shell.execute_reply": "2025-04-26T06:30:04.342873Z",
     "shell.execute_reply.started": "2025-04-26T06:30:04.338470Z"
    }
   },
   "outputs": [],
   "source": [
    "params = {\n",
    "    'learning_rate': 0.01,\n",
    "    'n_estimators': 800,\n",
    "    'max_depth': 11,\n",
    "    'min_child_weight': 17,\n",
    "    'subsample': 0.55,\n",
    "    'gamma': 0.00014,\n",
    "    'colsample_bytree': 1,\n",
    "    'objective': 'reg:squarederror',\n",
    "    'tree_method': 'hist',\n",
    "    'device' : 'cuda'\n",
    "}"
   ]
  },
  {
   "cell_type": "code",
   "execution_count": 21,
   "metadata": {
    "execution": {
     "iopub.execute_input": "2025-04-26T06:30:04.345177Z",
     "iopub.status.busy": "2025-04-26T06:30:04.344602Z",
     "iopub.status.idle": "2025-04-26T06:30:43.200587Z",
     "shell.execute_reply": "2025-04-26T06:30:43.199835Z",
     "shell.execute_reply.started": "2025-04-26T06:30:04.345153Z"
    }
   },
   "outputs": [
    {
     "name": "stdout",
     "output_type": "stream",
     "text": [
      "RMSE:  0.0082375822524181\n",
      "R^2:  0.32269476780542794\n"
     ]
    }
   ],
   "source": [
    "xgb_reg = xgb.XGBRegressor(**params, seed = 42)\n",
    "y_pred, xgb_model = run_model(xgb_reg, training_X, testing_X, training_y, testing_y)"
   ]
  },
  {
   "cell_type": "code",
   "execution_count": 22,
   "metadata": {
    "execution": {
     "iopub.execute_input": "2025-04-26T06:30:43.201631Z",
     "iopub.status.busy": "2025-04-26T06:30:43.201446Z",
     "iopub.status.idle": "2025-04-26T06:30:43.486520Z",
     "shell.execute_reply": "2025-04-26T06:30:43.485917Z",
     "shell.execute_reply.started": "2025-04-26T06:30:43.201615Z"
    }
   },
   "outputs": [
    {
     "data": {
      "image/png": "[encoded data removed]",
      "text/plain": [
       "<Figure size 640x480 with 1 Axes>"
      ]
     },
     "metadata": {},
     "output_type": "display_data"
    }
   ],
   "source": [
    "plot_importance(xgb_model)\n",
    "plt.show()"
   ]
  },
  {
   "cell_type": "code",
   "execution_count": null,
   "metadata": {},
   "outputs": [],
   "source": []
  },
  {
   "cell_type": "code",
   "execution_count": null,
   "metadata": {},
   "outputs": [],
   "source": []
  },
  {
   "cell_type": "code",
   "execution_count": 23,
   "metadata": {
    "execution": {
     "iopub.execute_input": "2025-04-26T06:30:43.487305Z",
     "iopub.status.busy": "2025-04-26T06:30:43.487139Z",
     "iopub.status.idle": "2025-04-26T06:30:43.492440Z",
     "shell.execute_reply": "2025-04-26T06:30:43.491829Z",
     "shell.execute_reply.started": "2025-04-26T06:30:43.487290Z"
    }
   },
   "outputs": [],
   "source": [
    "def tuning_function(alg, param_test, training_X, training_y):\n",
    "    \"\"\"\n",
    "    Tune the hyperparameters of the model\n",
    "    \n",
    "    Parameters:\n",
    "    -----------\n",
    "    alg: xgboost model\n",
    "        The xgboost model to be trained\n",
    "    param_test: dict\n",
    "        The hyperparameters to be tuned\n",
    "    training_X: pd dataframe\n",
    "        The training data\n",
    "    training_y: pd dataframe\n",
    "        The training label\n",
    "    \n",
    "    return: dict\n",
    "        The best hyperparameters\n",
    "    \"\"\"\n",
    "    gsearch = GridSearchCV(estimator = alg, \n",
    "                           param_grid = param_test, \n",
    "                           scoring='neg_mean_squared_error', \n",
    "                           n_jobs=-1,\n",
    "                           verbose=1,\n",
    "                           cv=4)\n",
    "    \n",
    "    gsearch.fit(training_X, training_y)\n",
    "\n",
    "    print(\"Best parameters found: \", gsearch.best_params_)\n",
    "    print(\"Lowest RMSE found: \", np.sqrt(np.abs(gsearch.best_score_)))\n",
    "\n",
    "    new_params = alg.get_xgb_params()\n",
    "    for key in gsearch.best_params_.keys():\n",
    "        new_params[key] = gsearch.best_params_[key]\n",
    "\n",
    "    alg = xgb.XGBRegressor(**new_params)\n",
    "\n",
    "    return alg, gsearch.cv_results_"
   ]
  },
  {
   "cell_type": "code",
   "execution_count": 24,
   "metadata": {
    "execution": {
     "iopub.execute_input": "2025-04-26T06:30:43.493116Z",
     "iopub.status.busy": "2025-04-26T06:30:43.492961Z",
     "iopub.status.idle": "2025-04-26T06:30:43.502678Z",
     "shell.execute_reply": "2025-04-26T06:30:43.502048Z",
     "shell.execute_reply.started": "2025-04-26T06:30:43.493102Z"
    }
   },
   "outputs": [],
   "source": [
    "def plot_gridsearch(grid, results, folds=4):\n",
    "\n",
    "    x = np.arange(0,len(results['params']))\n",
    "\n",
    "    fig = plt.figure(figsize=(16,4))\n",
    "    ax = plt.subplot(111)\n",
    "    cols=sns.color_palette(\"cubehelix\",folds)\n",
    "\n",
    "    for i in range(4):  \n",
    "\n",
    "        plt.scatter(x=x,y=results['split{}_test_score'.format(i)],\n",
    "                        color=cols[i],edgecolor='grey',s=50,\n",
    "                        alpha=0.5,label='Fold {}'.format(i+1))\n",
    "        plt.plot(x,results['split{}_test_score'.format(i)],\n",
    "                 color=cols[i])\n",
    "\n",
    "    plt.scatter(x=x,y=results['mean_test_score'],\n",
    "                    color='black',edgecolor='grey',s=50,\n",
    "                    alpha=0.5,label='Mean')\n",
    "    plt.plot(x,results['mean_test_score'],\n",
    "             color='black')\n",
    "\n",
    "    plt.ylabel('RMSE')\n",
    "\n",
    "    k = list(results['params'][0].keys())\n",
    "    if len(k) > 1: \n",
    "        labels = ['{}:{} \\n {}:{}'.format(k[0],\n",
    "                                            results['params'][i][k[0]],\n",
    "                                            k[1],\n",
    "                                            results['params'][i][k[1]],\n",
    "                                           ) for i in range(len(results['params']))]\n",
    "\n",
    "        plt.xlabel('Parameters')\n",
    "        plt.xticks(x, labels,rotation=90)\n",
    "    else:\n",
    "        plt.xlabel(k[0])\n",
    "        plt.xticks(x, grid[k[0]])\n",
    "\n",
    "    plt.legend()"
   ]
  },
  {
   "cell_type": "code",
   "execution_count": 25,
   "metadata": {
    "execution": {
     "iopub.execute_input": "2025-04-26T06:30:43.503361Z",
     "iopub.status.busy": "2025-04-26T06:30:43.503201Z",
     "iopub.status.idle": "2025-04-26T06:37:07.549832Z",
     "shell.execute_reply": "2025-04-26T06:37:07.549029Z",
     "shell.execute_reply.started": "2025-04-26T06:30:43.503347Z"
    }
   },
   "outputs": [
    {
     "name": "stdout",
     "output_type": "stream",
     "text": [
      "Fitting 4 folds for each of 7 candidates, totalling 28 fits\n"
     ]
    },
    {
     "name": "stderr",
     "output_type": "stream",
     "text": [
      "/g/data/jk72/yz7014/stf/testvenv/lib/python3.12/site-packages/xgboost/core.py:158: UserWarning: [16:33:05] WARNING: /workspace/src/common/error_msg.cc:58: Falling back to prediction using DMatrix due to mismatched devices. This might lead to higher memory usage and slower performance. XGBoost is running on: cuda:0, while the input data is on: cpu.\n",
      "Potential solutions:\n",
      "- Use a data structure that matches the device ordinal in the booster.\n",
      "- Set the device for booster before call to inplace_predict.\n",
      "\n",
      "This warning will only be shown once.\n",
      "\n",
      "  warnings.warn(smsg, UserWarning)\n",
      "/g/data/jk72/yz7014/stf/testvenv/lib/python3.12/site-packages/xgboost/core.py:158: UserWarning: [16:33:06] WARNING: /workspace/src/common/error_msg.cc:58: Falling back to prediction using DMatrix due to mismatched devices. This might lead to higher memory usage and slower performance. XGBoost is running on: cuda:0, while the input data is on: cpu.\n",
      "Potential solutions:\n",
      "- Use a data structure that matches the device ordinal in the booster.\n",
      "- Set the device for booster before call to inplace_predict.\n",
      "\n",
      "This warning will only be shown once.\n",
      "\n",
      "  warnings.warn(smsg, UserWarning)\n",
      "/g/data/jk72/yz7014/stf/testvenv/lib/python3.12/site-packages/xgboost/core.py:158: UserWarning: [16:33:07] WARNING: /workspace/src/common/error_msg.cc:58: Falling back to prediction using DMatrix due to mismatched devices. This might lead to higher memory usage and slower performance. XGBoost is running on: cuda:0, while the input data is on: cpu.\n",
      "Potential solutions:\n",
      "- Use a data structure that matches the device ordinal in the booster.\n",
      "- Set the device for booster before call to inplace_predict.\n",
      "\n",
      "This warning will only be shown once.\n",
      "\n",
      "  warnings.warn(smsg, UserWarning)\n",
      "/g/data/jk72/yz7014/stf/testvenv/lib/python3.12/site-packages/xgboost/core.py:158: UserWarning: [16:33:08] WARNING: /workspace/src/common/error_msg.cc:58: Falling back to prediction using DMatrix due to mismatched devices. This might lead to higher memory usage and slower performance. XGBoost is running on: cuda:0, while the input data is on: cpu.\n",
      "Potential solutions:\n",
      "- Use a data structure that matches the device ordinal in the booster.\n",
      "- Set the device for booster before call to inplace_predict.\n",
      "\n",
      "This warning will only be shown once.\n",
      "\n",
      "  warnings.warn(smsg, UserWarning)\n",
      "/g/data/jk72/yz7014/stf/testvenv/lib/python3.12/site-packages/xgboost/core.py:158: UserWarning: [16:33:20] WARNING: /workspace/src/common/error_msg.cc:58: Falling back to prediction using DMatrix due to mismatched devices. This might lead to higher memory usage and slower performance. XGBoost is running on: cuda:0, while the input data is on: cpu.\n",
      "Potential solutions:\n",
      "- Use a data structure that matches the device ordinal in the booster.\n",
      "- Set the device for booster before call to inplace_predict.\n",
      "\n",
      "This warning will only be shown once.\n",
      "\n",
      "  warnings.warn(smsg, UserWarning)\n",
      "/g/data/jk72/yz7014/stf/testvenv/lib/python3.12/site-packages/xgboost/core.py:158: UserWarning: [16:33:22] WARNING: /workspace/src/common/error_msg.cc:58: Falling back to prediction using DMatrix due to mismatched devices. This might lead to higher memory usage and slower performance. XGBoost is running on: cuda:0, while the input data is on: cpu.\n",
      "Potential solutions:\n",
      "- Use a data structure that matches the device ordinal in the booster.\n",
      "- Set the device for booster before call to inplace_predict.\n",
      "\n",
      "This warning will only be shown once.\n",
      "\n",
      "  warnings.warn(smsg, UserWarning)\n",
      "/g/data/jk72/yz7014/stf/testvenv/lib/python3.12/site-packages/xgboost/core.py:158: UserWarning: [16:33:23] WARNING: /workspace/src/common/error_msg.cc:58: Falling back to prediction using DMatrix due to mismatched devices. This might lead to higher memory usage and slower performance. XGBoost is running on: cuda:0, while the input data is on: cpu.\n",
      "Potential solutions:\n",
      "- Use a data structure that matches the device ordinal in the booster.\n",
      "- Set the device for booster before call to inplace_predict.\n",
      "\n",
      "This warning will only be shown once.\n",
      "\n",
      "  warnings.warn(smsg, UserWarning)\n",
      "/g/data/jk72/yz7014/stf/testvenv/lib/python3.12/site-packages/xgboost/core.py:158: UserWarning: [16:33:24] WARNING: /workspace/src/common/error_msg.cc:58: Falling back to prediction using DMatrix due to mismatched devices. This might lead to higher memory usage and slower performance. XGBoost is running on: cuda:0, while the input data is on: cpu.\n",
      "Potential solutions:\n",
      "- Use a data structure that matches the device ordinal in the booster.\n",
      "- Set the device for booster before call to inplace_predict.\n",
      "\n",
      "This warning will only be shown once.\n",
      "\n",
      "  warnings.warn(smsg, UserWarning)\n",
      "/g/data/jk72/yz7014/stf/testvenv/lib/python3.12/site-packages/xgboost/core.py:158: UserWarning: [16:36:14] WARNING: /workspace/src/common/error_msg.cc:58: Falling back to prediction using DMatrix due to mismatched devices. This might lead to higher memory usage and slower performance. XGBoost is running on: cuda:0, while the input data is on: cpu.\n",
      "Potential solutions:\n",
      "- Use a data structure that matches the device ordinal in the booster.\n",
      "- Set the device for booster before call to inplace_predict.\n",
      "\n",
      "This warning will only be shown once.\n",
      "\n",
      "  warnings.warn(smsg, UserWarning)\n",
      "/g/data/jk72/yz7014/stf/testvenv/lib/python3.12/site-packages/xgboost/core.py:158: UserWarning: [16:36:15] WARNING: /workspace/src/common/error_msg.cc:58: Falling back to prediction using DMatrix due to mismatched devices. This might lead to higher memory usage and slower performance. XGBoost is running on: cuda:0, while the input data is on: cpu.\n",
      "Potential solutions:\n",
      "- Use a data structure that matches the device ordinal in the booster.\n",
      "- Set the device for booster before call to inplace_predict.\n",
      "\n",
      "This warning will only be shown once.\n",
      "\n",
      "  warnings.warn(smsg, UserWarning)\n",
      "/g/data/jk72/yz7014/stf/testvenv/lib/python3.12/site-packages/xgboost/core.py:158: UserWarning: [16:36:15] WARNING: /workspace/src/common/error_msg.cc:58: Falling back to prediction using DMatrix due to mismatched devices. This might lead to higher memory usage and slower performance. XGBoost is running on: cuda:0, while the input data is on: cpu.\n",
      "Potential solutions:\n",
      "- Use a data structure that matches the device ordinal in the booster.\n",
      "- Set the device for booster before call to inplace_predict.\n",
      "\n",
      "This warning will only be shown once.\n",
      "\n",
      "  warnings.warn(smsg, UserWarning)\n",
      "/g/data/jk72/yz7014/stf/testvenv/lib/python3.12/site-packages/xgboost/core.py:158: UserWarning: [16:36:15] WARNING: /workspace/src/common/error_msg.cc:58: Falling back to prediction using DMatrix due to mismatched devices. This might lead to higher memory usage and slower performance. XGBoost is running on: cuda:0, while the input data is on: cpu.\n",
      "Potential solutions:\n",
      "- Use a data structure that matches the device ordinal in the booster.\n",
      "- Set the device for booster before call to inplace_predict.\n",
      "\n",
      "This warning will only be shown once.\n",
      "\n",
      "  warnings.warn(smsg, UserWarning)\n"
     ]
    },
    {
     "name": "stdout",
     "output_type": "stream",
     "text": [
      "Best parameters found:  {'gamma': 0}\n",
      "Lowest RMSE found:  0.00800348718063753\n"
     ]
    }
   ],
   "source": [
    "# gamma\n",
    "grid_3 = {'gamma': [0, 0.02, 0.04, 0.06, 0.08, 0.1, 0.12]}\n",
    "xgb_reg, results_3 = tuning_function(xgb_reg, grid_3, training_X, training_y)"
   ]
  },
  {
   "cell_type": "code",
   "execution_count": 26,
   "metadata": {
    "execution": {
     "iopub.execute_input": "2025-04-26T06:37:07.553926Z",
     "iopub.status.busy": "2025-04-26T06:37:07.553717Z",
     "iopub.status.idle": "2025-04-26T06:37:07.563249Z",
     "shell.execute_reply": "2025-04-26T06:37:07.562421Z",
     "shell.execute_reply.started": "2025-04-26T06:37:07.553906Z"
    }
   },
   "outputs": [
    {
     "data": {
      "text/plain": [
       "{'mean_fit_time': array([314.93537372, 142.62809211, 126.62135684, 106.09691846,\n",
       "         98.93800992,  90.12060946,  83.80144507]),\n",
       " 'std_fit_time': array([0.27276548, 1.49141076, 1.01605371, 1.09772795, 0.940544  ,\n",
       "        0.73635462, 0.62976179]),\n",
       " 'mean_score_time': array([1.76698303, 0.83339947, 0.76238686, 0.81345373, 0.73340791,\n",
       "        0.60302228, 0.5989722 ]),\n",
       " 'std_score_time': array([0.15796262, 0.0286795 , 0.0237291 , 0.07382659, 0.03827131,\n",
       "        0.01551575, 0.04872954]),\n",
       " 'param_gamma': masked_array(data=[0.0, 0.02, 0.04, 0.06, 0.08, 0.1, 0.12],\n",
       "              mask=[False, False, False, False, False, False, False],\n",
       "        fill_value=1e+20),\n",
       " 'params': [{'gamma': 0},\n",
       "  {'gamma': 0.02},\n",
       "  {'gamma': 0.04},\n",
       "  {'gamma': 0.06},\n",
       "  {'gamma': 0.08},\n",
       "  {'gamma': 0.1},\n",
       "  {'gamma': 0.12}],\n",
       " 'split0_test_score': array([-4.94345461e-05, -5.03593294e-05, -5.09955978e-05, -5.15322102e-05,\n",
       "        -5.19895703e-05, -5.23277017e-05, -5.26869254e-05]),\n",
       " 'split1_test_score': array([-5.70064611e-05, -6.11222097e-05, -6.25095680e-05, -6.33741664e-05,\n",
       "        -6.39671630e-05, -6.44878028e-05, -6.49330299e-05]),\n",
       " 'split2_test_score': array([-6.67009346e-05, -7.14688730e-05, -7.30301424e-05, -7.40959548e-05,\n",
       "        -7.48419266e-05, -7.53796956e-05, -7.58359210e-05]),\n",
       " 'split3_test_score': array([-8.30812865e-05, -8.39126263e-05, -8.42905248e-05, -8.47800163e-05,\n",
       "        -8.52140243e-05, -8.56322904e-05, -8.59861058e-05]),\n",
       " 'mean_test_score': array([-6.40558071e-05, -6.67157596e-05, -6.77064583e-05, -6.84455869e-05,\n",
       "        -6.90031711e-05, -6.94568727e-05, -6.98604955e-05]),\n",
       " 'std_test_score': array([1.25741811e-05, 1.24212008e-05, 1.23453777e-05, 1.23543702e-05,\n",
       "        1.23663537e-05, 1.23978236e-05, 1.23991174e-05]),\n",
       " 'rank_test_score': array([1, 2, 3, 4, 5, 6, 7], dtype=int32)}"
      ]
     },
     "execution_count": 26,
     "metadata": {},
     "output_type": "execute_result"
    }
   ],
   "source": [
    "results_3"
   ]
  },
  {
   "cell_type": "code",
   "execution_count": 27,
   "metadata": {
    "execution": {
     "iopub.execute_input": "2025-04-26T06:37:07.564401Z",
     "iopub.status.busy": "2025-04-26T06:37:07.563891Z",
     "iopub.status.idle": "2025-04-26T06:37:08.035569Z",
     "shell.execute_reply": "2025-04-26T06:37:08.034965Z",
     "shell.execute_reply.started": "2025-04-26T06:37:07.564383Z"
    }
   },
   "outputs": [
    {
     "data": {
      "image/png": "[encoded data removed]",
      "text/plain": [
       "<Figure size 1600x400 with 1 Axes>"
      ]
     },
     "metadata": {},
     "output_type": "display_data"
    }
   ],
   "source": [
    "plot_gridsearch(grid_3, results_3)"
   ]
  },
  {
   "cell_type": "code",
   "execution_count": 41,
   "metadata": {
    "execution": {
     "iopub.execute_input": "2025-04-24T05:06:01.163846Z",
     "iopub.status.busy": "2025-04-24T05:06:01.163391Z",
     "iopub.status.idle": "2025-04-24T05:07:28.849397Z",
     "shell.execute_reply": "2025-04-24T05:07:28.847584Z",
     "shell.execute_reply.started": "2025-04-24T05:06:01.163806Z"
    }
   },
   "outputs": [
    {
     "name": "stdout",
     "output_type": "stream",
     "text": [
      "Fitting 4 folds for each of 6 candidates, totalling 24 fits\n",
      "Best parameters found:  {'gamma': 0.012}\n",
      "Lowest RMSE found:  0.008404795626354284\n"
     ]
    }
   ],
   "source": [
    "# gamma\n",
    "grid_4 = {'gamma': [0.012, 0.016, 0.02, 0.024, 0.028, 0.032]}\n",
    "xgb_reg, results_4 = tuning_function(xgb_reg, grid_4, training_X, training_y)"
   ]
  },
  {
   "cell_type": "code",
   "execution_count": 42,
   "metadata": {
    "execution": {
     "iopub.execute_input": "2025-04-24T05:07:28.854001Z",
     "iopub.status.busy": "2025-04-24T05:07:28.853519Z",
     "iopub.status.idle": "2025-04-24T05:07:28.866430Z",
     "shell.execute_reply": "2025-04-24T05:07:28.865384Z",
     "shell.execute_reply.started": "2025-04-24T05:07:28.853959Z"
    }
   },
   "outputs": [
    {
     "data": {
      "text/plain": [
       "{'mean_fit_time': array([40.9453578 , 40.63449168, 39.23960674, 33.34767425, 33.75369602,\n",
       "        33.17804605]),\n",
       " 'std_fit_time': array([0.33102319, 0.17049887, 0.37438721, 0.56874038, 0.18388185,\n",
       "        0.22664732]),\n",
       " 'mean_score_time': array([0.50311178, 0.47435862, 0.51525676, 0.49264568, 0.4499768 ,\n",
       "        0.45138425]),\n",
       " 'std_score_time': array([0.02035873, 0.01191628, 0.01468839, 0.02913624, 0.00818173,\n",
       "        0.00471806]),\n",
       " 'param_gamma': masked_array(data=[0.012, 0.016, 0.02, 0.024, 0.028, 0.032],\n",
       "              mask=[False, False, False, False, False, False],\n",
       "        fill_value=1e+20),\n",
       " 'params': [{'gamma': 0.012},\n",
       "  {'gamma': 0.016},\n",
       "  {'gamma': 0.02},\n",
       "  {'gamma': 0.024},\n",
       "  {'gamma': 0.028},\n",
       "  {'gamma': 0.032}],\n",
       " 'split0_test_score': array([-5.05928591e-05, -5.07014349e-05, -5.08766468e-05, -5.09228846e-05,\n",
       "        -5.10374052e-05, -5.11034559e-05]),\n",
       " 'split1_test_score': array([-6.48601790e-05, -6.51384519e-05, -6.53830271e-05, -6.56966402e-05,\n",
       "        -6.58963476e-05, -6.61022542e-05]),\n",
       " 'split2_test_score': array([-7.81884996e-05, -7.85175394e-05, -7.87888998e-05, -7.90587327e-05,\n",
       "        -7.92728594e-05, -7.94846609e-05]),\n",
       " 'split3_test_score': array([-8.89208205e-05, -8.91588238e-05, -8.93994472e-05, -8.95584458e-05,\n",
       "        -8.97550547e-05, -8.98872850e-05]),\n",
       " 'mean_test_score': array([-7.06405895e-05, -7.08790625e-05, -7.11120052e-05, -7.13091758e-05,\n",
       "        -7.14904167e-05, -7.16444140e-05]),\n",
       " 'std_test_score': array([1.43741298e-05, 1.44272942e-05, 1.44538590e-05, 1.44930407e-05,\n",
       "        1.45239690e-05, 1.45509304e-05]),\n",
       " 'rank_test_score': array([1, 2, 3, 4, 5, 6], dtype=int32)}"
      ]
     },
     "execution_count": 42,
     "metadata": {},
     "output_type": "execute_result"
    }
   ],
   "source": [
    "results_4"
   ]
  },
  {
   "cell_type": "code",
   "execution_count": 43,
   "metadata": {
    "execution": {
     "iopub.execute_input": "2025-04-24T05:07:28.868028Z",
     "iopub.status.busy": "2025-04-24T05:07:28.867598Z",
     "iopub.status.idle": "2025-04-24T05:07:29.230408Z",
     "shell.execute_reply": "2025-04-24T05:07:29.229820Z",
     "shell.execute_reply.started": "2025-04-24T05:07:28.867997Z"
    }
   },
   "outputs": [
    {
     "data": {
      "image/png": "[encoded data removed]",
      "text/plain": [
       "<Figure size 1600x400 with 1 Axes>"
      ]
     },
     "metadata": {},
     "output_type": "display_data"
    }
   ],
   "source": [
    "plot_gridsearch(grid_4, results_4)"
   ]
  },
  {
   "cell_type": "code",
   "execution_count": null,
   "metadata": {},
   "outputs": [],
   "source": []
  },
  {
   "cell_type": "code",
   "execution_count": null,
   "metadata": {},
   "outputs": [],
   "source": [
    "xgb.plot_tree(xgb_model, num_trees=0)\n",
    "plt.rcParams['figure.figsize'] = [50,10]\n",
    "plt.show()"
   ]
  }
 ],
 "metadata": {
  "kernelspec": {
   "display_name": "Python 3 (ipykernel)",
   "language": "python",
   "name": "python3"
  },
  "language_info": {
   "codemirror_mode": {
    "name": "ipython",
    "version": 3
   },
   "file_extension": ".py",
   "mimetype": "text/x-python",
   "name": "python",
   "nbconvert_exporter": "python",
   "pygments_lexer": "ipython3",
   "version": "3.12.1"
  }
 },
 "nbformat": 4,
 "nbformat_minor": 4
}
