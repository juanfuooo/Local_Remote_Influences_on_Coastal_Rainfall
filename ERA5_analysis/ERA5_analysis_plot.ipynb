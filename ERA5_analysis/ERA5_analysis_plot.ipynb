{
 "cells": [
  {
   "cell_type": "code",
   "execution_count": 1,
   "metadata": {},
   "outputs": [],
   "source": [
    "import numpy as np\n",
    "import xarray as xr\n",
    "import pandas as pd\n",
    "import matplotlib.pyplot as plt\n",
    "import netCDF4\n",
    "import scipy\n",
    "from scipy import stats\n",
    "import cartopy.crs as ccrs\n",
    "import cartopy.feature as cfeature\n",
    "import seaborn as sns"
   ]
  },
  {
   "cell_type": "code",
   "execution_count": 2,
   "metadata": {},
   "outputs": [],
   "source": [
    "file_vidq = \"/Users/richard_zhang/Library/CloudStorage/OneDrive-Personal/A_Melbourne-Uni/A_Weather_for_21st_Century_RA_Internship/Local_Remote_Influences_on_Coastal_Rainfall/ERA5_analysis/vidq_dt.day.mean.1950-2022.nc\"\n",
    "file_vimfc = \"/Users/richard_zhang/Library/CloudStorage/OneDrive-Personal/A_Melbourne-Uni/A_Weather_for_21st_Century_RA_Internship/Local_Remote_Influences_on_Coastal_Rainfall/ERA5_analysis/vimfc.day.mean.1950-2022.nc\"\n"
   ]
  },
  {
   "cell_type": "code",
   "execution_count": 3,
   "metadata": {},
   "outputs": [],
   "source": [
    "vidq = xr.open_dataarray(file_vidq)\n",
    "vimfc = xr.open_dataarray(file_vimfc)"
   ]
  },
  {
   "cell_type": "code",
   "execution_count": 4,
   "metadata": {},
   "outputs": [],
   "source": [
    "vidq_box = vidq.sel(longitude=slice(140, 170), latitude=slice(-40, -10), time=slice('1998-01-01','2019-12-30'))\n",
    "vimfc_box = vimfc.sel(longitude=slice(140, 170), latitude=slice(-40, -10), time=slice('1998-01-01','2019-12-30'))"
   ]
  },
  {
   "cell_type": "code",
   "execution_count": 5,
   "metadata": {},
   "outputs": [],
   "source": [
    "# dir for mac\n",
    "\n",
    "sst_file_dir = \"/Users/richard_zhang/Library/CloudStorage/OneDrive-Personal/A_Melbourne-Uni/A_Weather_for_21st_Century_RA_Internship/Local_Remote_Influences_on_Coastal_Rainfall/Data_preparation/OISST/northeast_sst.nc\"\n",
    "prec_file_dir = \"/Users/richard_zhang/Library/CloudStorage/OneDrive-Personal/A_Melbourne-Uni/A_Weather_for_21st_Century_RA_Internship/Local_Remote_Influences_on_Coastal_Rainfall/Data_preparation/TRMM/northeast_precip.nc\"\n",
    "sst_oisst = xr.open_dataarray(sst_file_dir)\n",
    "\n",
    "sst_oisst = sst_oisst.loc[0: 8034,:, :]\n",
    "\n",
    "precip = xr.open_dataarray(prec_file_dir)\n",
    "\n",
    "date_time = pd.date_range(start='1998-01-01', periods=8034, freq='D')\n",
    "\n",
    "sst_oisst['time'] = date_time\n",
    "\n",
    "precip['time'] = date_time"
   ]
  },
  {
   "cell_type": "code",
   "execution_count": null,
   "metadata": {},
   "outputs": [],
   "source": []
  },
  {
   "cell_type": "code",
   "execution_count": null,
   "metadata": {},
   "outputs": [],
   "source": [
    "# Hovmoller diagram with (countourf) and SST (contour)\n",
    "precip_tropical_band = precip.sel(lat=slice(-18,-15), lon=slice(146,170)).mean(dim='lat')\n",
    "\n",
    "precip_tropical_band_monthly = precip_tropical_band.groupby('time.month').mean(dim='time')\n",
    "\n",
    "figure, ax = plt.subplots(figsize=(12, 9))\n",
    "\n",
    "# Set the colorbar range from 0 to 13 mm/day with 20 levels\n",
    "levels = np.linspace(0, 14, 15)  \n",
    "plt.contourf(precip_tropical_band_monthly, cmap='Blues', levels=levels, extend='max')\n",
    "plt.colorbar(label='mm/day', pad=0.05, fraction=0.05)\n",
    "\n",
    "plt.contour(precip_tropical_band_monthly, colors='black', linewidths=0.5, levels=levels)\n",
    "\n",
    "ax.clabel(plt.contour(sst_tropical_band_monthly, colors='red', linewidths=2, levels=np.arange(10, 35, 1), alpha=0.8), inline=True, fontsize=10, fmt='%.1f')\n",
    "\n",
    "plt.xticks(np.arange(0, 96, 4), np.arange(146, 170, 1))\n",
    "plt.yticks(np.arange(0, 12, 1), np.arange(1, 13, 1))\n",
    "\n",
    "plt.title('TRMM Precipitation Rate and SST in Tropical Band (1998-2019) monthly mean with SST contour')\n",
    "plt.xlabel('Longitude')\n",
    "plt.ylabel('Month')\n",
    "ax.invert_yaxis()  # This also works to invert the y-axis\n",
    "plt.show()"
   ]
  },
  {
   "cell_type": "code",
   "execution_count": null,
   "metadata": {},
   "outputs": [],
   "source": []
  }
 ],
 "metadata": {
  "kernelspec": {
   "display_name": "base",
   "language": "python",
   "name": "python3"
  },
  "language_info": {
   "codemirror_mode": {
    "name": "ipython",
    "version": 3
   },
   "file_extension": ".py",
   "mimetype": "text/x-python",
   "name": "python",
   "nbconvert_exporter": "python",
   "pygments_lexer": "ipython3",
   "version": "3.12.7"
  }
 },
 "nbformat": 4,
 "nbformat_minor": 2
}
